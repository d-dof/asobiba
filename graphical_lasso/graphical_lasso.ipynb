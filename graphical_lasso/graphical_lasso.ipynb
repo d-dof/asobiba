{
 "cells": [
  {
   "cell_type": "markdown",
   "metadata": {},
   "source": [
    "# Graphical Lassoを実装してみよう"
   ]
  },
  {
   "cell_type": "markdown",
   "metadata": {},
   "source": [
    "元論文: J. Friedman and R. Tibshirani, “Sparse inverse covariance estimation with the graphical lasso,” Biostatistics, pp. 432–441, 2008.\n",
    "\n",
    "https://academic.oup.com/biostatistics/article/9/3/432/224260"
   ]
  },
  {
   "cell_type": "markdown",
   "metadata": {},
   "source": [
    "Graphical Lassoを体感するために実際にデータをいじってみましょう.\n",
    "scikit learnには既に実装されていますので「とりあえずやってみたい！」というのであれば, そちらを使うのが安定です. \n",
    "現在numpyによるフルスクラッチでの実装も目論んでいます."
   ]
  },
  {
   "cell_type": "code",
   "execution_count": 1,
   "metadata": {},
   "outputs": [
    {
     "name": "stdout",
     "output_type": "stream",
     "text": [
      "sklearnのバージョンは:  0.19.0\n"
     ]
    }
   ],
   "source": [
    "%precision 3\n",
    "import numpy as np\n",
    "import matplotlib.pyplot as plt\n",
    "import networkx as nx\n",
    "\n",
    "# display_svgを動かすにはpygraphviz, 並びにgraphvizそのものが必要です.\n",
    "from IPython.display import display_svg\n",
    "from sklearn.datasets import make_sparse_spd_matrix, load_iris\n",
    "from sklearn.preprocessing import StandardScaler\n",
    "from sklearn.covariance import GraphLasso\n",
    "from sklearn.covariance import GraphLassoCV\n",
    "from sklearn.model_selection import train_test_split\n",
    "import sklearn\n",
    "print(\"sklearnのバージョンは: \", sklearn.__version__)"
   ]
  },
  {
   "cell_type": "markdown",
   "metadata": {},
   "source": [
    "Graphical Lassoの実装はscikit - learn 0.19.0と0.20では異なっていますのでご注意ください. 関数名が異なっています. [0.20.1でのGraphical Lassoの実装](https://scikit-learn.org/stable/modules/generated/sklearn.covariance.graphical_lasso.html)"
   ]
  },
  {
   "cell_type": "markdown",
   "metadata": {},
   "source": [
    "## トイデータの作成"
   ]
  },
  {
   "cell_type": "code",
   "execution_count": 2,
   "metadata": {
    "collapsed": true
   },
   "outputs": [],
   "source": [
    "def random_mu(dim, a=10):\n",
    "    \"\"\"半径aの球上にある点を一つランダムに作る関数\"\"\"\n",
    "    while True:\n",
    "        x = np.random.randn(dim)\n",
    "        r = np.linalg.norm(x)\n",
    "        if r != 0.:\n",
    "            return a * x/r\n",
    "        \n",
    "\n",
    "def diag_to_zero(mat):\n",
    "    \"\"\"行列の対角成分を0にしたものを返す関数\"\"\"\n",
    "    G = mat\n",
    "    for i in range(len(G)):\n",
    "        for j in range(len(G[i])):\n",
    "            if i == j:\n",
    "                G[i][j] = 0\n",
    "    return G\n",
    "\n",
    "\n",
    "def describe_graph(lam):\n",
    "    \"\"\"Jupyter Notebook上で精度行列からグラフィカルモデルを描画する関数\"\"\"\n",
    "    mat = diag_to_zero(lam)\n",
    "    G = nx.Graph(mat)\n",
    "    G.add_nodes_from(range(len(mat)))\n",
    "    svg = nx.nx_agraph.to_agraph(G).draw(prog='fdp', format='svg')\n",
    "    display_svg(svg, raw=True)"
   ]
  },
  {
   "cell_type": "code",
   "execution_count": 3,
   "metadata": {
    "collapsed": true
   },
   "outputs": [],
   "source": [
    "# データの形は(n, D)\n",
    "D = 7  # データの次元\n",
    "n = 1000  # サンプル数\n",
    "s = 0.80  # スパース性の指定, 0-1の値をとり, 1に近づくほどスパース\n",
    "mu = random_mu(D)  # 平均は適当に決定\n",
    "lam = make_sparse_spd_matrix(dim=D, alpha=s)  # スパースな精度行列を生成\n",
    "cov = np.linalg.inv(lam)  # 関数に渡すため, 分散共分散行列も生成\n",
    "X = np.random.multivariate_normal(mu, cov, n)  # トイデータを作成"
   ]
  },
  {
   "cell_type": "code",
   "execution_count": 4,
   "metadata": {},
   "outputs": [
    {
     "name": "stdout",
     "output_type": "stream",
     "text": [
      "mu:  [-4.45055431 -3.36794964 -5.89188461  0.20287805  5.19823011  0.1301865\n",
      "  2.65621403]\n",
      "lambda: \n",
      " [[ 1.18737569 -0.43286913  0.          0.          0.          0.\n",
      "   0.        ]\n",
      " [-0.43286913  1.51635806  0.         -0.71858059  0.          0.\n",
      "   0.        ]\n",
      " [ 0.          0.          1.          0.          0.          0.\n",
      "   0.        ]\n",
      " [ 0.         -0.71858059  0.          1.          0.          0.\n",
      "   0.        ]\n",
      " [ 0.          0.          0.          0.          1.          0.\n",
      "   0.        ]\n",
      " [ 0.          0.          0.          0.          0.          1.\n",
      "   0.        ]\n",
      " [ 0.          0.          0.          0.          0.          0.\n",
      "   1.        ]]\n",
      "cov: \n",
      " [[1.         0.43286913 0.         0.31105135 0.         0.\n",
      "  0.        ]\n",
      " [0.43286913 1.18737569 0.         0.85322512 0.         0.\n",
      "  0.        ]\n",
      " [0.         0.         1.         0.         0.         0.\n",
      "  0.        ]\n",
      " [0.31105135 0.85322512 0.         1.613111   0.         0.\n",
      "  0.        ]\n",
      " [0.         0.         0.         0.         1.         0.\n",
      "  0.        ]\n",
      " [0.         0.         0.         0.         0.         1.\n",
      "  0.        ]\n",
      " [0.         0.         0.         0.         0.         0.\n",
      "  1.        ]]\n",
      "データXの形は (1000, 7)\n"
     ]
    }
   ],
   "source": [
    "print(\"mu: \", mu)\n",
    "print(\"lambda: \\n\", lam)\n",
    "print(\"cov: \\n\", cov)\n",
    "print(\"データXの形は\", X.shape)"
   ]
  },
  {
   "cell_type": "code",
   "execution_count": 5,
   "metadata": {},
   "outputs": [
    {
     "data": {
      "image/svg+xml": [
       "<?xml version=\"1.0\" encoding=\"UTF-8\" standalone=\"no\"?>\n",
       "<!DOCTYPE svg PUBLIC \"-//W3C//DTD SVG 1.1//EN\"\n",
       " \"http://www.w3.org/Graphics/SVG/1.1/DTD/svg11.dtd\">\n",
       "<!-- Generated by graphviz version 2.40.1 (20161225.0304)\n",
       " -->\n",
       "<!-- Pages: 1 -->\n",
       "<svg width=\"216pt\" height=\"156pt\"\n",
       " viewBox=\"0.00 0.00 216.00 156.00\" xmlns=\"http://www.w3.org/2000/svg\" xmlns:xlink=\"http://www.w3.org/1999/xlink\">\n",
       "<g id=\"graph0\" class=\"graph\" transform=\"scale(1 1) rotate(0) translate(4 152)\">\n",
       "<polygon fill=\"#ffffff\" stroke=\"transparent\" points=\"-4,4 -4,-152 212,-152 212,4 -4,4\"/>\n",
       "<!-- 0 -->\n",
       "<g id=\"node1\" class=\"node\">\n",
       "<title>0</title>\n",
       "<ellipse fill=\"none\" stroke=\"#000000\" cx=\"26.6694\" cy=\"-79.5382\" rx=\"27\" ry=\"18\"/>\n",
       "<text text-anchor=\"middle\" x=\"26.6694\" y=\"-75.3382\" font-family=\"Times,serif\" font-size=\"14.00\" fill=\"#000000\">0</text>\n",
       "</g>\n",
       "<!-- 1 -->\n",
       "<g id=\"node2\" class=\"node\">\n",
       "<title>1</title>\n",
       "<ellipse fill=\"none\" stroke=\"#000000\" cx=\"109.2606\" cy=\"-79.189\" rx=\"27\" ry=\"18\"/>\n",
       "<text text-anchor=\"middle\" x=\"109.2606\" y=\"-74.989\" font-family=\"Times,serif\" font-size=\"14.00\" fill=\"#000000\">1</text>\n",
       "</g>\n",
       "<!-- 0&#45;&#45;1 -->\n",
       "<g id=\"edge1\" class=\"edge\">\n",
       "<title>0&#45;&#45;1</title>\n",
       "<path fill=\"none\" stroke=\"#000000\" d=\"M53.7128,-79.4238C62.8396,-79.3853 73.025,-79.3422 82.1564,-79.3036\"/>\n",
       "</g>\n",
       "<!-- 3 -->\n",
       "<g id=\"node3\" class=\"node\">\n",
       "<title>3</title>\n",
       "<ellipse fill=\"none\" stroke=\"#000000\" cx=\"67.8182\" cy=\"-18.0791\" rx=\"27\" ry=\"18\"/>\n",
       "<text text-anchor=\"middle\" x=\"67.8182\" y=\"-13.8791\" font-family=\"Times,serif\" font-size=\"14.00\" fill=\"#000000\">3</text>\n",
       "</g>\n",
       "<!-- 1&#45;&#45;3 -->\n",
       "<g id=\"edge2\" class=\"edge\">\n",
       "<title>1&#45;&#45;3</title>\n",
       "<path fill=\"none\" stroke=\"#000000\" d=\"M97.9363,-62.4904C92.0887,-53.8678 84.9744,-43.3772 79.1288,-34.7575\"/>\n",
       "</g>\n",
       "<!-- 2 -->\n",
       "<g id=\"node4\" class=\"node\">\n",
       "<title>2</title>\n",
       "<ellipse fill=\"none\" stroke=\"#000000\" cx=\"139.2381\" cy=\"-31.6409\" rx=\"27\" ry=\"18\"/>\n",
       "<text text-anchor=\"middle\" x=\"139.2381\" y=\"-27.4409\" font-family=\"Times,serif\" font-size=\"14.00\" fill=\"#000000\">2</text>\n",
       "</g>\n",
       "<!-- 4 -->\n",
       "<g id=\"node5\" class=\"node\">\n",
       "<title>4</title>\n",
       "<ellipse fill=\"none\" stroke=\"#000000\" cx=\"153.2381\" cy=\"-129.6409\" rx=\"27\" ry=\"18\"/>\n",
       "<text text-anchor=\"middle\" x=\"153.2381\" y=\"-125.4409\" font-family=\"Times,serif\" font-size=\"14.00\" fill=\"#000000\">4</text>\n",
       "</g>\n",
       "<!-- 5 -->\n",
       "<g id=\"node6\" class=\"node\">\n",
       "<title>5</title>\n",
       "<ellipse fill=\"none\" stroke=\"#000000\" cx=\"83.2381\" cy=\"-129.6409\" rx=\"27\" ry=\"18\"/>\n",
       "<text text-anchor=\"middle\" x=\"83.2381\" y=\"-125.4409\" font-family=\"Times,serif\" font-size=\"14.00\" fill=\"#000000\">5</text>\n",
       "</g>\n",
       "<!-- 6 -->\n",
       "<g id=\"node7\" class=\"node\">\n",
       "<title>6</title>\n",
       "<ellipse fill=\"none\" stroke=\"#000000\" cx=\"181.2381\" cy=\"-80.6409\" rx=\"27\" ry=\"18\"/>\n",
       "<text text-anchor=\"middle\" x=\"181.2381\" y=\"-76.4409\" font-family=\"Times,serif\" font-size=\"14.00\" fill=\"#000000\">6</text>\n",
       "</g>\n",
       "</g>\n",
       "</svg>\n"
      ]
     },
     "metadata": {},
     "output_type": "display_data"
    }
   ],
   "source": [
    "# 今回の精度行列によるグラフィカルモデルを描画してみる\n",
    "describe_graph(lam)"
   ]
  },
  {
   "cell_type": "markdown",
   "metadata": {},
   "source": [
    "## IRISデータの読み込み"
   ]
  },
  {
   "cell_type": "code",
   "execution_count": 6,
   "metadata": {
    "collapsed": true
   },
   "outputs": [],
   "source": [
    "iris = load_iris()"
   ]
  },
  {
   "cell_type": "code",
   "execution_count": 7,
   "metadata": {},
   "outputs": [
    {
     "data": {
      "text/plain": [
       "dict_keys(['data', 'target', 'target_names', 'DESCR', 'feature_names'])"
      ]
     },
     "execution_count": 7,
     "metadata": {},
     "output_type": "execute_result"
    }
   ],
   "source": [
    "iris.keys()"
   ]
  },
  {
   "cell_type": "code",
   "execution_count": 8,
   "metadata": {},
   "outputs": [
    {
     "data": {
      "text/plain": [
       "['sepal length (cm)',\n",
       " 'sepal width (cm)',\n",
       " 'petal length (cm)',\n",
       " 'petal width (cm)']"
      ]
     },
     "execution_count": 8,
     "metadata": {},
     "output_type": "execute_result"
    }
   ],
   "source": [
    "iris.feature_names"
   ]
  },
  {
   "cell_type": "markdown",
   "metadata": {},
   "source": [
    "- sepal: がく\n",
    "- petal: 花弁\n",
    "\n",
    "一つ一つのデータはこの4つの特徴量で指定される4次元のデータになっています."
   ]
  },
  {
   "cell_type": "code",
   "execution_count": 9,
   "metadata": {
    "collapsed": true
   },
   "outputs": [],
   "source": [
    "X_iris = iris.data"
   ]
  },
  {
   "cell_type": "code",
   "execution_count": 10,
   "metadata": {},
   "outputs": [
    {
     "data": {
      "text/plain": [
       "(150, 4)"
      ]
     },
     "execution_count": 10,
     "metadata": {},
     "output_type": "execute_result"
    }
   ],
   "source": [
    "X_iris.shape"
   ]
  },
  {
   "cell_type": "markdown",
   "metadata": {},
   "source": [
    "全部で150個のデータです. のちに述べますがこのデータはクラスタごとに振る舞いがやや異なるので, そのまま全てのデータが同一の正規分布に従っていると仮定するのは本来は**良くありません**."
   ]
  },
  {
   "cell_type": "code",
   "execution_count": 11,
   "metadata": {},
   "outputs": [
    {
     "data": {
      "text/plain": [
       "array([5.84333333, 3.054     , 3.75866667, 1.19866667])"
      ]
     },
     "execution_count": 11,
     "metadata": {},
     "output_type": "execute_result"
    }
   ],
   "source": [
    "X_iris.mean(axis=0)"
   ]
  },
  {
   "cell_type": "markdown",
   "metadata": {},
   "source": [
    "## 最尤推定してみる"
   ]
  },
  {
   "cell_type": "markdown",
   "metadata": {},
   "source": [
    "データが正規分布に従っていると仮定した上で最尤推定をすると, 分散共分散行列の推定量は標本分散共分散行列$S$で表現されました.\n",
    "$$ S = \\frac{1}{n} \\sum_{i}^n (x_i - \\bar{x})(x_i - \\bar{x})^T$$\n",
    "これを計算して, さらに逆行列(精度行列)を求め, 最尤推定された精度行列によるグラフィカルモデルを書いてみましょう.\n",
    "\n",
    "ここでは真の関係性(精度行列)がわかっているトイデータに対してのみ最尤推定を行うことにします."
   ]
  },
  {
   "cell_type": "code",
   "execution_count": 12,
   "metadata": {},
   "outputs": [
    {
     "data": {
      "text/plain": [
       "array([-4.41571908, -3.40825794, -5.9813464 ,  0.22045258,  5.18709303,\n",
       "        0.08118152,  2.67199782])"
      ]
     },
     "execution_count": 12,
     "metadata": {},
     "output_type": "execute_result"
    }
   ],
   "source": [
    "# numpyによる平均の計算の仕方, axisに注意\n",
    "X_mean = X.mean(axis=0)\n",
    "X_mean"
   ]
  },
  {
   "cell_type": "code",
   "execution_count": 13,
   "metadata": {},
   "outputs": [
    {
     "data": {
      "text/plain": [
       "array([[ 0.46537299,  0.48695751, -1.72045246,  0.32350828,  0.22745787,\n",
       "         0.17493168,  2.12080252],\n",
       "       [ 0.07787738, -0.04883651, -0.60774492,  0.69708274, -1.52823711,\n",
       "        -1.28014805, -0.38584495],\n",
       "       [ 0.62432444, -1.10137756,  0.22243002,  0.19912765, -0.9856038 ,\n",
       "        -1.24458369,  0.17887137]])"
      ]
     },
     "execution_count": 13,
     "metadata": {},
     "output_type": "execute_result"
    }
   ],
   "source": [
    "# 平均ベクトルの分だけシフトする操作はこのように書ける.\n",
    "X_std = X - X_mean\n",
    "X_std[0:3]"
   ]
  },
  {
   "cell_type": "code",
   "execution_count": 97,
   "metadata": {
    "scrolled": true
   },
   "outputs": [
    {
     "name": "stdout",
     "output_type": "stream",
     "text": [
      "[[ 1.07e+00  4.38e-01  2.51e-02  3.34e-01 -4.20e-03  3.72e-02 -2.12e-04]\n",
      " [ 4.38e-01  1.19e+00  2.14e-02  8.48e-01  3.23e-02  2.86e-02  1.51e-02]\n",
      " [ 2.51e-02  2.14e-02  9.77e-01 -3.73e-02 -1.96e-02 -1.90e-02 -7.04e-02]\n",
      " [ 3.34e-01  8.48e-01 -3.73e-02  1.60e+00  5.20e-02  3.62e-02 -1.79e-02]\n",
      " [-4.20e-03  3.23e-02 -1.96e-02  5.20e-02  9.92e-01 -1.11e-02 -3.39e-02]\n",
      " [ 3.72e-02  2.86e-02 -1.90e-02  3.62e-02 -1.11e-02  1.02e+00  3.65e-02]\n",
      " [-2.12e-04  1.51e-02 -7.04e-02 -1.79e-02 -3.39e-02  3.65e-02  9.71e-01]]\n"
     ]
    }
   ],
   "source": [
    "%precision 3\n",
    "# 行列計算だとこのように標本分散共分散行列は計算できる\n",
    "S = (1.0 / n) * np.dot(X_std.T, X_std)\n",
    "\n",
    "# numpyの精度変更\n",
    "np.set_printoptions(precision=2)\n",
    "print(S)"
   ]
  },
  {
   "cell_type": "code",
   "execution_count": 98,
   "metadata": {
    "scrolled": true
   },
   "outputs": [
    {
     "data": {
      "text/plain": [
       "array([[ 1.1 , -0.39, -0.02, -0.03,  0.02, -0.03,  0.01],\n",
       "       [-0.39,  1.48, -0.05, -0.7 , -0.02, -0.  , -0.04],\n",
       "       [-0.02, -0.05,  1.03,  0.06,  0.02,  0.02,  0.08],\n",
       "       [-0.03, -0.7 ,  0.06,  1.01, -0.03, -0.02,  0.03],\n",
       "       [ 0.02, -0.02,  0.02, -0.03,  1.01,  0.01,  0.04],\n",
       "       [-0.03, -0.  ,  0.02, -0.02,  0.01,  0.98, -0.04],\n",
       "       [ 0.01, -0.04,  0.08,  0.03,  0.04, -0.04,  1.04]])"
      ]
     },
     "execution_count": 98,
     "metadata": {},
     "output_type": "execute_result"
    }
   ],
   "source": [
    "# 精度行列は分散共分散行列の逆行列\n",
    "# これが最尤推定された精度行列\n",
    "estimated_lam = np.linalg.inv(S)\n",
    "estimated_lam"
   ]
  },
  {
   "cell_type": "code",
   "execution_count": 16,
   "metadata": {},
   "outputs": [
    {
     "data": {
      "image/svg+xml": [
       "<?xml version=\"1.0\" encoding=\"UTF-8\" standalone=\"no\"?>\n",
       "<!DOCTYPE svg PUBLIC \"-//W3C//DTD SVG 1.1//EN\"\n",
       " \"http://www.w3.org/Graphics/SVG/1.1/DTD/svg11.dtd\">\n",
       "<!-- Generated by graphviz version 2.40.1 (20161225.0304)\n",
       " -->\n",
       "<!-- Pages: 1 -->\n",
       "<svg width=\"232pt\" height=\"214pt\"\n",
       " viewBox=\"0.00 0.00 232.00 214.00\" xmlns=\"http://www.w3.org/2000/svg\" xmlns:xlink=\"http://www.w3.org/1999/xlink\">\n",
       "<g id=\"graph0\" class=\"graph\" transform=\"scale(1 1) rotate(0) translate(4 210)\">\n",
       "<polygon fill=\"#ffffff\" stroke=\"transparent\" points=\"-4,4 -4,-210 228,-210 228,4 -4,4\"/>\n",
       "<!-- 0 -->\n",
       "<g id=\"node1\" class=\"node\">\n",
       "<title>0</title>\n",
       "<ellipse fill=\"none\" stroke=\"#000000\" cx=\"26.9038\" cy=\"-89.4501\" rx=\"27\" ry=\"18\"/>\n",
       "<text text-anchor=\"middle\" x=\"26.9038\" y=\"-85.2501\" font-family=\"Times,serif\" font-size=\"14.00\" fill=\"#000000\">0</text>\n",
       "</g>\n",
       "<!-- 1 -->\n",
       "<g id=\"node2\" class=\"node\">\n",
       "<title>1</title>\n",
       "<ellipse fill=\"none\" stroke=\"#000000\" cx=\"196.5034\" cy=\"-72.8102\" rx=\"27\" ry=\"18\"/>\n",
       "<text text-anchor=\"middle\" x=\"196.5034\" y=\"-68.6102\" font-family=\"Times,serif\" font-size=\"14.00\" fill=\"#000000\">1</text>\n",
       "</g>\n",
       "<!-- 0&#45;&#45;1 -->\n",
       "<g id=\"edge1\" class=\"edge\">\n",
       "<title>0&#45;&#45;1</title>\n",
       "<path fill=\"none\" stroke=\"#000000\" d=\"M53.7774,-86.8135C85.5345,-83.6977 138.0534,-78.5449 169.7556,-75.4345\"/>\n",
       "</g>\n",
       "<!-- 2 -->\n",
       "<g id=\"node3\" class=\"node\">\n",
       "<title>2</title>\n",
       "<ellipse fill=\"none\" stroke=\"#000000\" cx=\"143.6711\" cy=\"-18.37\" rx=\"27\" ry=\"18\"/>\n",
       "<text text-anchor=\"middle\" x=\"143.6711\" y=\"-14.17\" font-family=\"Times,serif\" font-size=\"14.00\" fill=\"#000000\">2</text>\n",
       "</g>\n",
       "<!-- 0&#45;&#45;2 -->\n",
       "<g id=\"edge2\" class=\"edge\">\n",
       "<title>0&#45;&#45;2</title>\n",
       "<path fill=\"none\" stroke=\"#000000\" d=\"M46.9768,-77.231C68.3644,-64.2117 102.0325,-43.7168 123.4692,-30.6675\"/>\n",
       "</g>\n",
       "<!-- 3 -->\n",
       "<g id=\"node4\" class=\"node\">\n",
       "<title>3</title>\n",
       "<ellipse fill=\"none\" stroke=\"#000000\" cx=\"50.7601\" cy=\"-161.3691\" rx=\"27\" ry=\"18\"/>\n",
       "<text text-anchor=\"middle\" x=\"50.7601\" y=\"-157.1691\" font-family=\"Times,serif\" font-size=\"14.00\" fill=\"#000000\">3</text>\n",
       "</g>\n",
       "<!-- 0&#45;&#45;3 -->\n",
       "<g id=\"edge3\" class=\"edge\">\n",
       "<title>0&#45;&#45;3</title>\n",
       "<path fill=\"none\" stroke=\"#000000\" d=\"M32.8008,-107.2279C36.4435,-118.2093 41.1045,-132.2606 44.7651,-143.2964\"/>\n",
       "</g>\n",
       "<!-- 4 -->\n",
       "<g id=\"node5\" class=\"node\">\n",
       "<title>4</title>\n",
       "<ellipse fill=\"none\" stroke=\"#000000\" cx=\"122.06\" cy=\"-187.7987\" rx=\"27\" ry=\"18\"/>\n",
       "<text text-anchor=\"middle\" x=\"122.06\" y=\"-183.5987\" font-family=\"Times,serif\" font-size=\"14.00\" fill=\"#000000\">4</text>\n",
       "</g>\n",
       "<!-- 0&#45;&#45;4 -->\n",
       "<g id=\"edge4\" class=\"edge\">\n",
       "<title>0&#45;&#45;4</title>\n",
       "<path fill=\"none\" stroke=\"#000000\" d=\"M41.7719,-104.8171C59.6486,-123.2934 89.4663,-154.1114 107.2963,-172.5396\"/>\n",
       "</g>\n",
       "<!-- 5 -->\n",
       "<g id=\"node6\" class=\"node\">\n",
       "<title>5</title>\n",
       "<ellipse fill=\"none\" stroke=\"#000000\" cx=\"187.2504\" cy=\"-147.929\" rx=\"27\" ry=\"18\"/>\n",
       "<text text-anchor=\"middle\" x=\"187.2504\" y=\"-143.729\" font-family=\"Times,serif\" font-size=\"14.00\" fill=\"#000000\">5</text>\n",
       "</g>\n",
       "<!-- 0&#45;&#45;5 -->\n",
       "<g id=\"edge5\" class=\"edge\">\n",
       "<title>0&#45;&#45;5</title>\n",
       "<path fill=\"none\" stroke=\"#000000\" d=\"M50.9093,-98.205C81.2253,-109.2613 133.0736,-128.1706 163.343,-139.2099\"/>\n",
       "</g>\n",
       "<!-- 6 -->\n",
       "<g id=\"node7\" class=\"node\">\n",
       "<title>6</title>\n",
       "<ellipse fill=\"none\" stroke=\"#000000\" cx=\"68.159\" cy=\"-25.8025\" rx=\"27\" ry=\"18\"/>\n",
       "<text text-anchor=\"middle\" x=\"68.159\" y=\"-21.6025\" font-family=\"Times,serif\" font-size=\"14.00\" fill=\"#000000\">6</text>\n",
       "</g>\n",
       "<!-- 0&#45;&#45;6 -->\n",
       "<g id=\"edge6\" class=\"edge\">\n",
       "<title>0&#45;&#45;6</title>\n",
       "<path fill=\"none\" stroke=\"#000000\" d=\"M37.7431,-72.7275C43.7592,-63.4459 51.2214,-51.9334 57.2488,-42.6344\"/>\n",
       "</g>\n",
       "<!-- 1&#45;&#45;2 -->\n",
       "<g id=\"edge7\" class=\"edge\">\n",
       "<title>1&#45;&#45;2</title>\n",
       "<path fill=\"none\" stroke=\"#000000\" d=\"M181.7867,-57.6456C174.581,-50.2206 165.9199,-41.2959 158.676,-33.8316\"/>\n",
       "</g>\n",
       "<!-- 1&#45;&#45;3 -->\n",
       "<g id=\"edge8\" class=\"edge\">\n",
       "<title>1&#45;&#45;3</title>\n",
       "<path fill=\"none\" stroke=\"#000000\" d=\"M176.544,-84.9383C148.7903,-101.8024 98.8202,-132.1661 70.9461,-149.1034\"/>\n",
       "</g>\n",
       "<!-- 1&#45;&#45;4 -->\n",
       "<g id=\"edge9\" class=\"edge\">\n",
       "<title>1&#45;&#45;4</title>\n",
       "<path fill=\"none\" stroke=\"#000000\" d=\"M185.5191,-89.7772C171.3634,-111.6426 146.9068,-149.4193 132.8474,-171.136\"/>\n",
       "</g>\n",
       "<!-- 1&#45;&#45;5 -->\n",
       "<g id=\"edge10\" class=\"edge\">\n",
       "<title>1&#45;&#45;5</title>\n",
       "<path fill=\"none\" stroke=\"#000000\" d=\"M194.2635,-90.9944C192.8087,-102.8049 190.9204,-118.1352 189.4697,-129.9123\"/>\n",
       "</g>\n",
       "<!-- 1&#45;&#45;6 -->\n",
       "<g id=\"edge11\" class=\"edge\">\n",
       "<title>1&#45;&#45;6</title>\n",
       "<path fill=\"none\" stroke=\"#000000\" d=\"M172.6636,-64.0786C149.6109,-55.6353 114.8806,-42.9148 91.8711,-34.4873\"/>\n",
       "</g>\n",
       "<!-- 2&#45;&#45;3 -->\n",
       "<g id=\"edge12\" class=\"edge\">\n",
       "<title>2&#45;&#45;3</title>\n",
       "<path fill=\"none\" stroke=\"#000000\" d=\"M132.8312,-35.0537C114.9282,-62.6081 79.3884,-117.3072 61.5309,-144.7917\"/>\n",
       "</g>\n",
       "<!-- 2&#45;&#45;4 -->\n",
       "<g id=\"edge13\" class=\"edge\">\n",
       "<title>2&#45;&#45;4</title>\n",
       "<path fill=\"none\" stroke=\"#000000\" d=\"M141.3583,-36.5018C137.1988,-69.1121 128.5035,-137.282 124.3562,-169.7972\"/>\n",
       "</g>\n",
       "<!-- 2&#45;&#45;5 -->\n",
       "<g id=\"edge14\" class=\"edge\">\n",
       "<title>2&#45;&#45;5</title>\n",
       "<path fill=\"none\" stroke=\"#000000\" d=\"M149.6392,-36.1129C157.938,-60.7847 172.8798,-105.2058 181.2145,-129.9846\"/>\n",
       "</g>\n",
       "<!-- 2&#45;&#45;6 -->\n",
       "<g id=\"edge15\" class=\"edge\">\n",
       "<title>2&#45;&#45;6</title>\n",
       "<path fill=\"none\" stroke=\"#000000\" d=\"M116.8357,-21.0113C109.714,-21.7123 102.025,-22.4691 94.9079,-23.1696\"/>\n",
       "</g>\n",
       "<!-- 3&#45;&#45;4 -->\n",
       "<g id=\"edge16\" class=\"edge\">\n",
       "<title>3&#45;&#45;4</title>\n",
       "<path fill=\"none\" stroke=\"#000000\" d=\"M74.5019,-170.1698C82.1178,-172.9929 90.5529,-176.1196 98.1787,-178.9463\"/>\n",
       "</g>\n",
       "<!-- 3&#45;&#45;5 -->\n",
       "<g id=\"edge17\" class=\"edge\">\n",
       "<title>3&#45;&#45;5</title>\n",
       "<path fill=\"none\" stroke=\"#000000\" d=\"M77.7262,-158.7138C101.6548,-156.3576 136.4286,-152.9334 160.3403,-150.5789\"/>\n",
       "</g>\n",
       "<!-- 3&#45;&#45;6 -->\n",
       "<g id=\"edge18\" class=\"edge\">\n",
       "<title>3&#45;&#45;6</title>\n",
       "<path fill=\"none\" stroke=\"#000000\" d=\"M53.0705,-143.3669C56.3983,-117.4379 62.5059,-69.8495 65.839,-43.8791\"/>\n",
       "</g>\n",
       "<!-- 4&#45;&#45;5 -->\n",
       "<g id=\"edge19\" class=\"edge\">\n",
       "<title>4&#45;&#45;5</title>\n",
       "<path fill=\"none\" stroke=\"#000000\" d=\"M141.9735,-175.6198C149.9116,-170.765 159.0386,-165.183 167.009,-160.3084\"/>\n",
       "</g>\n",
       "<!-- 4&#45;&#45;6 -->\n",
       "<g id=\"edge20\" class=\"edge\">\n",
       "<title>4&#45;&#45;6</title>\n",
       "<path fill=\"none\" stroke=\"#000000\" d=\"M116.1891,-170.1538C105.8207,-138.9925 84.3859,-74.5714 74.0227,-43.4255\"/>\n",
       "</g>\n",
       "<!-- 5&#45;&#45;6 -->\n",
       "<g id=\"edge21\" class=\"edge\">\n",
       "<title>5&#45;&#45;6</title>\n",
       "<path fill=\"none\" stroke=\"#000000\" d=\"M172.1674,-132.4616C149.2596,-108.97 105.9543,-64.5611 83.1195,-41.1443\"/>\n",
       "</g>\n",
       "</g>\n",
       "</svg>\n"
      ]
     },
     "metadata": {},
     "output_type": "display_data"
    }
   ],
   "source": [
    "# 最尤推定によるグラフィカルモデル\n",
    "describe_graph(estimated_lam)"
   ]
  },
  {
   "cell_type": "code",
   "execution_count": 17,
   "metadata": {},
   "outputs": [
    {
     "data": {
      "image/svg+xml": [
       "<?xml version=\"1.0\" encoding=\"UTF-8\" standalone=\"no\"?>\n",
       "<!DOCTYPE svg PUBLIC \"-//W3C//DTD SVG 1.1//EN\"\n",
       " \"http://www.w3.org/Graphics/SVG/1.1/DTD/svg11.dtd\">\n",
       "<!-- Generated by graphviz version 2.40.1 (20161225.0304)\n",
       " -->\n",
       "<!-- Pages: 1 -->\n",
       "<svg width=\"216pt\" height=\"156pt\"\n",
       " viewBox=\"0.00 0.00 216.00 156.00\" xmlns=\"http://www.w3.org/2000/svg\" xmlns:xlink=\"http://www.w3.org/1999/xlink\">\n",
       "<g id=\"graph0\" class=\"graph\" transform=\"scale(1 1) rotate(0) translate(4 152)\">\n",
       "<polygon fill=\"#ffffff\" stroke=\"transparent\" points=\"-4,4 -4,-152 212,-152 212,4 -4,4\"/>\n",
       "<!-- 0 -->\n",
       "<g id=\"node1\" class=\"node\">\n",
       "<title>0</title>\n",
       "<ellipse fill=\"none\" stroke=\"#000000\" cx=\"26.6694\" cy=\"-79.5382\" rx=\"27\" ry=\"18\"/>\n",
       "<text text-anchor=\"middle\" x=\"26.6694\" y=\"-75.3382\" font-family=\"Times,serif\" font-size=\"14.00\" fill=\"#000000\">0</text>\n",
       "</g>\n",
       "<!-- 1 -->\n",
       "<g id=\"node2\" class=\"node\">\n",
       "<title>1</title>\n",
       "<ellipse fill=\"none\" stroke=\"#000000\" cx=\"109.2606\" cy=\"-79.189\" rx=\"27\" ry=\"18\"/>\n",
       "<text text-anchor=\"middle\" x=\"109.2606\" y=\"-74.989\" font-family=\"Times,serif\" font-size=\"14.00\" fill=\"#000000\">1</text>\n",
       "</g>\n",
       "<!-- 0&#45;&#45;1 -->\n",
       "<g id=\"edge1\" class=\"edge\">\n",
       "<title>0&#45;&#45;1</title>\n",
       "<path fill=\"none\" stroke=\"#000000\" d=\"M53.7128,-79.4238C62.8396,-79.3853 73.025,-79.3422 82.1564,-79.3036\"/>\n",
       "</g>\n",
       "<!-- 3 -->\n",
       "<g id=\"node3\" class=\"node\">\n",
       "<title>3</title>\n",
       "<ellipse fill=\"none\" stroke=\"#000000\" cx=\"67.8182\" cy=\"-18.0791\" rx=\"27\" ry=\"18\"/>\n",
       "<text text-anchor=\"middle\" x=\"67.8182\" y=\"-13.8791\" font-family=\"Times,serif\" font-size=\"14.00\" fill=\"#000000\">3</text>\n",
       "</g>\n",
       "<!-- 1&#45;&#45;3 -->\n",
       "<g id=\"edge2\" class=\"edge\">\n",
       "<title>1&#45;&#45;3</title>\n",
       "<path fill=\"none\" stroke=\"#000000\" d=\"M97.9363,-62.4904C92.0887,-53.8678 84.9744,-43.3772 79.1288,-34.7575\"/>\n",
       "</g>\n",
       "<!-- 2 -->\n",
       "<g id=\"node4\" class=\"node\">\n",
       "<title>2</title>\n",
       "<ellipse fill=\"none\" stroke=\"#000000\" cx=\"139.2381\" cy=\"-31.6409\" rx=\"27\" ry=\"18\"/>\n",
       "<text text-anchor=\"middle\" x=\"139.2381\" y=\"-27.4409\" font-family=\"Times,serif\" font-size=\"14.00\" fill=\"#000000\">2</text>\n",
       "</g>\n",
       "<!-- 4 -->\n",
       "<g id=\"node5\" class=\"node\">\n",
       "<title>4</title>\n",
       "<ellipse fill=\"none\" stroke=\"#000000\" cx=\"153.2381\" cy=\"-129.6409\" rx=\"27\" ry=\"18\"/>\n",
       "<text text-anchor=\"middle\" x=\"153.2381\" y=\"-125.4409\" font-family=\"Times,serif\" font-size=\"14.00\" fill=\"#000000\">4</text>\n",
       "</g>\n",
       "<!-- 5 -->\n",
       "<g id=\"node6\" class=\"node\">\n",
       "<title>5</title>\n",
       "<ellipse fill=\"none\" stroke=\"#000000\" cx=\"83.2381\" cy=\"-129.6409\" rx=\"27\" ry=\"18\"/>\n",
       "<text text-anchor=\"middle\" x=\"83.2381\" y=\"-125.4409\" font-family=\"Times,serif\" font-size=\"14.00\" fill=\"#000000\">5</text>\n",
       "</g>\n",
       "<!-- 6 -->\n",
       "<g id=\"node7\" class=\"node\">\n",
       "<title>6</title>\n",
       "<ellipse fill=\"none\" stroke=\"#000000\" cx=\"181.2381\" cy=\"-80.6409\" rx=\"27\" ry=\"18\"/>\n",
       "<text text-anchor=\"middle\" x=\"181.2381\" y=\"-76.4409\" font-family=\"Times,serif\" font-size=\"14.00\" fill=\"#000000\">6</text>\n",
       "</g>\n",
       "</g>\n",
       "</svg>\n"
      ]
     },
     "metadata": {},
     "output_type": "display_data"
    }
   ],
   "source": [
    "# 真のグラフィカルモデル\n",
    "describe_graph(lam)"
   ]
  },
  {
   "cell_type": "markdown",
   "metadata": {},
   "source": [
    "最尤推定を行うと一般に0となる成分は出て来ないため, グラフィカルモデルとしては\n",
    "どの変数間にも「関係性がある」というような完全グラフになってしまいます.\n",
    "これでは実態を捉えられていませんし, 何より面白味もありません. そのため, L1正則化をかけながら精度行列を推定していくモチベーションが生まれてきます."
   ]
  },
  {
   "cell_type": "markdown",
   "metadata": {},
   "source": [
    "## Graphical Lasso"
   ]
  },
  {
   "cell_type": "markdown",
   "metadata": {},
   "source": [
    "データ行列$X \\in \\mathbb{R}^{n \\times D}$を受け取って, 疎な精度行列$\\Lambda$を推定する関数を作りましょう."
   ]
  },
  {
   "cell_type": "markdown",
   "metadata": {},
   "source": [
    "### scikit-learnによる実装"
   ]
  },
  {
   "cell_type": "markdown",
   "metadata": {},
   "source": [
    "先ほども述べましたがGraphical Lassoの実装はscikit - learn 0.19.0と0.20では異なっていますのでご注意ください. 関数名が異なっています. [0.20.1でのGraphical Lassoの実装](https://scikit-learn.org/stable/modules/generated/sklearn.covariance.graphical_lasso.html)\n",
    "\n",
    "このバージョンは0.19.0です."
   ]
  },
  {
   "cell_type": "code",
   "execution_count": 18,
   "metadata": {
    "collapsed": true
   },
   "outputs": [],
   "source": [
    "from sklearn.covariance import GraphLasso\n",
    "from sklearn.covariance import GraphLassoCV"
   ]
  },
  {
   "cell_type": "code",
   "execution_count": 99,
   "metadata": {},
   "outputs": [
    {
     "data": {
      "text/plain": [
       "GraphLasso(alpha=0.1, assume_centered=False, enet_tol=0.0001, max_iter=100,\n",
       "      mode='cd', tol=0.0001, verbose=False)"
      ]
     },
     "execution_count": 99,
     "metadata": {},
     "output_type": "execute_result"
    }
   ],
   "source": [
    "# alphaは正則化項の係数です. ハイパーパラメータですね.\n",
    "# とりあえず決めうちでやってみるとこうなります.\n",
    "model = GraphLasso(alpha=0.1)\n",
    "model.fit(X_std)"
   ]
  },
  {
   "cell_type": "code",
   "execution_count": 100,
   "metadata": {
    "scrolled": true
   },
   "outputs": [
    {
     "data": {
      "text/plain": [
       "array([[ 1.03, -0.28, -0.  , -0.02,  0.  , -0.  ,  0.  ],\n",
       "       [-0.28,  1.26, -0.  , -0.55, -0.  , -0.  , -0.  ],\n",
       "       [-0.  , -0.  ,  1.02,  0.  ,  0.  ,  0.  ,  0.  ],\n",
       "       [-0.02, -0.55,  0.  ,  0.88, -0.  , -0.  ,  0.  ],\n",
       "       [ 0.  , -0.  ,  0.  , -0.  ,  1.01,  0.  ,  0.  ],\n",
       "       [-0.  , -0.  ,  0.  , -0.  ,  0.  ,  0.98, -0.  ],\n",
       "       [ 0.  , -0.  ,  0.  ,  0.  ,  0.  , -0.  ,  1.03]])"
      ]
     },
     "execution_count": 100,
     "metadata": {},
     "output_type": "execute_result"
    }
   ],
   "source": [
    "# Graphical Lassoで推定された精度行列\n",
    "model.precision_"
   ]
  },
  {
   "cell_type": "code",
   "execution_count": 101,
   "metadata": {},
   "outputs": [
    {
     "data": {
      "image/svg+xml": [
       "<?xml version=\"1.0\" encoding=\"UTF-8\" standalone=\"no\"?>\n",
       "<!DOCTYPE svg PUBLIC \"-//W3C//DTD SVG 1.1//EN\"\n",
       " \"http://www.w3.org/Graphics/SVG/1.1/DTD/svg11.dtd\">\n",
       "<!-- Generated by graphviz version 2.40.1 (20161225.0304)\n",
       " -->\n",
       "<!-- Pages: 1 -->\n",
       "<svg width=\"216pt\" height=\"156pt\"\n",
       " viewBox=\"0.00 0.00 216.00 156.00\" xmlns=\"http://www.w3.org/2000/svg\" xmlns:xlink=\"http://www.w3.org/1999/xlink\">\n",
       "<g id=\"graph0\" class=\"graph\" transform=\"scale(1 1) rotate(0) translate(4 152)\">\n",
       "<polygon fill=\"#ffffff\" stroke=\"transparent\" points=\"-4,4 -4,-152 212,-152 212,4 -4,4\"/>\n",
       "<!-- 0 -->\n",
       "<g id=\"node1\" class=\"node\">\n",
       "<title>0</title>\n",
       "<ellipse fill=\"none\" stroke=\"#000000\" cx=\"26.6694\" cy=\"-79.5382\" rx=\"27\" ry=\"18\"/>\n",
       "<text text-anchor=\"middle\" x=\"26.6694\" y=\"-75.3382\" font-family=\"Times,serif\" font-size=\"14.00\" fill=\"#000000\">0</text>\n",
       "</g>\n",
       "<!-- 1 -->\n",
       "<g id=\"node2\" class=\"node\">\n",
       "<title>1</title>\n",
       "<ellipse fill=\"none\" stroke=\"#000000\" cx=\"109.2606\" cy=\"-79.189\" rx=\"27\" ry=\"18\"/>\n",
       "<text text-anchor=\"middle\" x=\"109.2606\" y=\"-74.989\" font-family=\"Times,serif\" font-size=\"14.00\" fill=\"#000000\">1</text>\n",
       "</g>\n",
       "<!-- 0&#45;&#45;1 -->\n",
       "<g id=\"edge1\" class=\"edge\">\n",
       "<title>0&#45;&#45;1</title>\n",
       "<path fill=\"none\" stroke=\"#000000\" d=\"M53.7128,-79.4238C62.8396,-79.3853 73.025,-79.3422 82.1564,-79.3036\"/>\n",
       "</g>\n",
       "<!-- 3 -->\n",
       "<g id=\"node3\" class=\"node\">\n",
       "<title>3</title>\n",
       "<ellipse fill=\"none\" stroke=\"#000000\" cx=\"67.8182\" cy=\"-18.0791\" rx=\"27\" ry=\"18\"/>\n",
       "<text text-anchor=\"middle\" x=\"67.8182\" y=\"-13.8791\" font-family=\"Times,serif\" font-size=\"14.00\" fill=\"#000000\">3</text>\n",
       "</g>\n",
       "<!-- 0&#45;&#45;3 -->\n",
       "<g id=\"edge2\" class=\"edge\">\n",
       "<title>0&#45;&#45;3</title>\n",
       "<path fill=\"none\" stroke=\"#000000\" d=\"M37.6965,-63.0683C43.6005,-54.2503 50.8521,-43.4194 56.7606,-34.5945\"/>\n",
       "</g>\n",
       "<!-- 1&#45;&#45;3 -->\n",
       "<g id=\"edge3\" class=\"edge\">\n",
       "<title>1&#45;&#45;3</title>\n",
       "<path fill=\"none\" stroke=\"#000000\" d=\"M97.9363,-62.4904C92.0887,-53.8678 84.9744,-43.3772 79.1288,-34.7575\"/>\n",
       "</g>\n",
       "<!-- 2 -->\n",
       "<g id=\"node4\" class=\"node\">\n",
       "<title>2</title>\n",
       "<ellipse fill=\"none\" stroke=\"#000000\" cx=\"139.2381\" cy=\"-31.6409\" rx=\"27\" ry=\"18\"/>\n",
       "<text text-anchor=\"middle\" x=\"139.2381\" y=\"-27.4409\" font-family=\"Times,serif\" font-size=\"14.00\" fill=\"#000000\">2</text>\n",
       "</g>\n",
       "<!-- 4 -->\n",
       "<g id=\"node5\" class=\"node\">\n",
       "<title>4</title>\n",
       "<ellipse fill=\"none\" stroke=\"#000000\" cx=\"153.2381\" cy=\"-129.6409\" rx=\"27\" ry=\"18\"/>\n",
       "<text text-anchor=\"middle\" x=\"153.2381\" y=\"-125.4409\" font-family=\"Times,serif\" font-size=\"14.00\" fill=\"#000000\">4</text>\n",
       "</g>\n",
       "<!-- 5 -->\n",
       "<g id=\"node6\" class=\"node\">\n",
       "<title>5</title>\n",
       "<ellipse fill=\"none\" stroke=\"#000000\" cx=\"83.2381\" cy=\"-129.6409\" rx=\"27\" ry=\"18\"/>\n",
       "<text text-anchor=\"middle\" x=\"83.2381\" y=\"-125.4409\" font-family=\"Times,serif\" font-size=\"14.00\" fill=\"#000000\">5</text>\n",
       "</g>\n",
       "<!-- 6 -->\n",
       "<g id=\"node7\" class=\"node\">\n",
       "<title>6</title>\n",
       "<ellipse fill=\"none\" stroke=\"#000000\" cx=\"181.2381\" cy=\"-80.6409\" rx=\"27\" ry=\"18\"/>\n",
       "<text text-anchor=\"middle\" x=\"181.2381\" y=\"-76.4409\" font-family=\"Times,serif\" font-size=\"14.00\" fill=\"#000000\">6</text>\n",
       "</g>\n",
       "</g>\n",
       "</svg>\n"
      ]
     },
     "metadata": {},
     "output_type": "display_data"
    }
   ],
   "source": [
    "# 推定したグラフィカルモデル\n",
    "describe_graph(model.precision_)"
   ]
  },
  {
   "cell_type": "code",
   "execution_count": 22,
   "metadata": {},
   "outputs": [
    {
     "data": {
      "image/svg+xml": [
       "<?xml version=\"1.0\" encoding=\"UTF-8\" standalone=\"no\"?>\n",
       "<!DOCTYPE svg PUBLIC \"-//W3C//DTD SVG 1.1//EN\"\n",
       " \"http://www.w3.org/Graphics/SVG/1.1/DTD/svg11.dtd\">\n",
       "<!-- Generated by graphviz version 2.40.1 (20161225.0304)\n",
       " -->\n",
       "<!-- Pages: 1 -->\n",
       "<svg width=\"216pt\" height=\"156pt\"\n",
       " viewBox=\"0.00 0.00 216.00 156.00\" xmlns=\"http://www.w3.org/2000/svg\" xmlns:xlink=\"http://www.w3.org/1999/xlink\">\n",
       "<g id=\"graph0\" class=\"graph\" transform=\"scale(1 1) rotate(0) translate(4 152)\">\n",
       "<polygon fill=\"#ffffff\" stroke=\"transparent\" points=\"-4,4 -4,-152 212,-152 212,4 -4,4\"/>\n",
       "<!-- 0 -->\n",
       "<g id=\"node1\" class=\"node\">\n",
       "<title>0</title>\n",
       "<ellipse fill=\"none\" stroke=\"#000000\" cx=\"26.6694\" cy=\"-79.5382\" rx=\"27\" ry=\"18\"/>\n",
       "<text text-anchor=\"middle\" x=\"26.6694\" y=\"-75.3382\" font-family=\"Times,serif\" font-size=\"14.00\" fill=\"#000000\">0</text>\n",
       "</g>\n",
       "<!-- 1 -->\n",
       "<g id=\"node2\" class=\"node\">\n",
       "<title>1</title>\n",
       "<ellipse fill=\"none\" stroke=\"#000000\" cx=\"109.2606\" cy=\"-79.189\" rx=\"27\" ry=\"18\"/>\n",
       "<text text-anchor=\"middle\" x=\"109.2606\" y=\"-74.989\" font-family=\"Times,serif\" font-size=\"14.00\" fill=\"#000000\">1</text>\n",
       "</g>\n",
       "<!-- 0&#45;&#45;1 -->\n",
       "<g id=\"edge1\" class=\"edge\">\n",
       "<title>0&#45;&#45;1</title>\n",
       "<path fill=\"none\" stroke=\"#000000\" d=\"M53.7128,-79.4238C62.8396,-79.3853 73.025,-79.3422 82.1564,-79.3036\"/>\n",
       "</g>\n",
       "<!-- 3 -->\n",
       "<g id=\"node3\" class=\"node\">\n",
       "<title>3</title>\n",
       "<ellipse fill=\"none\" stroke=\"#000000\" cx=\"67.8182\" cy=\"-18.0791\" rx=\"27\" ry=\"18\"/>\n",
       "<text text-anchor=\"middle\" x=\"67.8182\" y=\"-13.8791\" font-family=\"Times,serif\" font-size=\"14.00\" fill=\"#000000\">3</text>\n",
       "</g>\n",
       "<!-- 1&#45;&#45;3 -->\n",
       "<g id=\"edge2\" class=\"edge\">\n",
       "<title>1&#45;&#45;3</title>\n",
       "<path fill=\"none\" stroke=\"#000000\" d=\"M97.9363,-62.4904C92.0887,-53.8678 84.9744,-43.3772 79.1288,-34.7575\"/>\n",
       "</g>\n",
       "<!-- 2 -->\n",
       "<g id=\"node4\" class=\"node\">\n",
       "<title>2</title>\n",
       "<ellipse fill=\"none\" stroke=\"#000000\" cx=\"139.2381\" cy=\"-31.6409\" rx=\"27\" ry=\"18\"/>\n",
       "<text text-anchor=\"middle\" x=\"139.2381\" y=\"-27.4409\" font-family=\"Times,serif\" font-size=\"14.00\" fill=\"#000000\">2</text>\n",
       "</g>\n",
       "<!-- 4 -->\n",
       "<g id=\"node5\" class=\"node\">\n",
       "<title>4</title>\n",
       "<ellipse fill=\"none\" stroke=\"#000000\" cx=\"153.2381\" cy=\"-129.6409\" rx=\"27\" ry=\"18\"/>\n",
       "<text text-anchor=\"middle\" x=\"153.2381\" y=\"-125.4409\" font-family=\"Times,serif\" font-size=\"14.00\" fill=\"#000000\">4</text>\n",
       "</g>\n",
       "<!-- 5 -->\n",
       "<g id=\"node6\" class=\"node\">\n",
       "<title>5</title>\n",
       "<ellipse fill=\"none\" stroke=\"#000000\" cx=\"83.2381\" cy=\"-129.6409\" rx=\"27\" ry=\"18\"/>\n",
       "<text text-anchor=\"middle\" x=\"83.2381\" y=\"-125.4409\" font-family=\"Times,serif\" font-size=\"14.00\" fill=\"#000000\">5</text>\n",
       "</g>\n",
       "<!-- 6 -->\n",
       "<g id=\"node7\" class=\"node\">\n",
       "<title>6</title>\n",
       "<ellipse fill=\"none\" stroke=\"#000000\" cx=\"181.2381\" cy=\"-80.6409\" rx=\"27\" ry=\"18\"/>\n",
       "<text text-anchor=\"middle\" x=\"181.2381\" y=\"-76.4409\" font-family=\"Times,serif\" font-size=\"14.00\" fill=\"#000000\">6</text>\n",
       "</g>\n",
       "</g>\n",
       "</svg>\n"
      ]
     },
     "metadata": {},
     "output_type": "display_data"
    }
   ],
   "source": [
    "# 真のグラフィカルモデル\n",
    "describe_graph(lam)"
   ]
  },
  {
   "cell_type": "markdown",
   "metadata": {},
   "source": [
    "だいぶ近くていい感じですね."
   ]
  },
  {
   "cell_type": "markdown",
   "metadata": {},
   "source": [
    "scikit - learnにはGraphLassoCVというCross Validationまでやってくれる便利な関数があるんですが, 各ハイパーパラメータ$\\rho$に対応する精度行列は保存されていないので, 自分でモデル選択してみることにします. "
   ]
  },
  {
   "cell_type": "code",
   "execution_count": 23,
   "metadata": {},
   "outputs": [
    {
     "data": {
      "text/plain": [
       "-inf"
      ]
     },
     "execution_count": 23,
     "metadata": {},
     "output_type": "execute_result"
    }
   ],
   "source": [
    "model.score(X)"
   ]
  },
  {
   "cell_type": "code",
   "execution_count": 24,
   "metadata": {
    "collapsed": true
   },
   "outputs": [],
   "source": [
    "X_train, X_test = train_test_split(X)"
   ]
  },
  {
   "cell_type": "code",
   "execution_count": 25,
   "metadata": {},
   "outputs": [
    {
     "data": {
      "text/plain": [
       "(750, 7)"
      ]
     },
     "execution_count": 25,
     "metadata": {},
     "output_type": "execute_result"
    }
   ],
   "source": [
    "X_train.shape"
   ]
  },
  {
   "cell_type": "code",
   "execution_count": 26,
   "metadata": {},
   "outputs": [
    {
     "data": {
      "text/plain": [
       "(250, 7)"
      ]
     },
     "execution_count": 26,
     "metadata": {},
     "output_type": "execute_result"
    }
   ],
   "source": [
    "X_test.shape"
   ]
  },
  {
   "cell_type": "code",
   "execution_count": 27,
   "metadata": {},
   "outputs": [
    {
     "data": {
      "text/plain": [
       "array([0.  , 0.02, 0.04, 0.06, 0.08, 0.1 , 0.12, 0.14, 0.16, 0.18, 0.2 ,\n",
       "       0.22, 0.24, 0.26, 0.28, 0.3 , 0.32, 0.34, 0.36, 0.38, 0.4 , 0.42,\n",
       "       0.44, 0.46, 0.48, 0.5 , 0.52, 0.54, 0.56, 0.58, 0.6 , 0.62, 0.64,\n",
       "       0.66, 0.68, 0.7 , 0.72, 0.74, 0.76, 0.78, 0.8 , 0.82, 0.84, 0.86,\n",
       "       0.88, 0.9 , 0.92, 0.94, 0.96, 0.98, 1.  ])"
      ]
     },
     "execution_count": 27,
     "metadata": {},
     "output_type": "execute_result"
    }
   ],
   "source": [
    "rhos = np.linspace(start=0, stop=1, num=51)\n",
    "rhos"
   ]
  },
  {
   "cell_type": "code",
   "execution_count": 28,
   "metadata": {
    "collapsed": true
   },
   "outputs": [],
   "source": [
    "# パラメータをタプルで持つ. (正則化係数(rho), テストデータの対数尤度(score), 推定した精度行列(lam))\n",
    "params = []\n",
    "for rho in rhos:\n",
    "    model = GraphLasso(alpha=rho)\n",
    "    model.fit(X_train)\n",
    "    score = model.score(X_test)\n",
    "    lam = model.precision_\n",
    "    param = (rho, score, lam)\n",
    "    params.append(param)"
   ]
  },
  {
   "cell_type": "code",
   "execution_count": 29,
   "metadata": {},
   "outputs": [
    {
     "data": {
      "image/png": "[encoded data removed]",
      "text/plain": [
       "<matplotlib.figure.Figure at 0x1081e51d0>"
      ]
     },
     "metadata": {},
     "output_type": "display_data"
    }
   ],
   "source": [
    "rhos = [param[0] for param in params]\n",
    "scores = [param[1] for param in params]\n",
    "\n",
    "plt.plot(rhos, scores, label=\"log likelihood for test data\")\n",
    "plt.legend()\n",
    "plt.show()"
   ]
  },
  {
   "cell_type": "code",
   "execution_count": 32,
   "metadata": {
    "collapsed": true
   },
   "outputs": [],
   "source": [
    "lams = [param[2] for param in params]"
   ]
  },
  {
   "cell_type": "code",
   "execution_count": 33,
   "metadata": {
    "collapsed": true
   },
   "outputs": [],
   "source": [
    "# グラフの移り変わりを記録するコード\n",
    "# for j, lam in enumerate(lams):\n",
    "#     mat = diag_to_zero(lam)\n",
    "#     G = nx.Graph(mat)\n",
    "#     G.add_nodes_from(range(len(mat)))\n",
    "#     nx.nx_agraph.to_agraph(G).draw(\"img/\" + str(j) + \".pdf\", prog=\"fdp\")"
   ]
  },
  {
   "cell_type": "markdown",
   "metadata": {},
   "source": [
    "### IRISデータに対してもやってみる"
   ]
  },
  {
   "cell_type": "code",
   "execution_count": 162,
   "metadata": {},
   "outputs": [
    {
     "data": {
      "text/plain": [
       "GraphLasso(alpha=1, assume_centered=False, enet_tol=0.0001, max_iter=100,\n",
       "      mode='cd', tol=0.0001, verbose=False)"
      ]
     },
     "execution_count": 162,
     "metadata": {},
     "output_type": "execute_result"
    }
   ],
   "source": [
    "model = GraphLasso(alpha=1)\n",
    "model.fit(X_iris)"
   ]
  },
  {
   "cell_type": "code",
   "execution_count": 163,
   "metadata": {},
   "outputs": [
    {
     "data": {
      "image/svg+xml": [
       "<?xml version=\"1.0\" encoding=\"UTF-8\" standalone=\"no\"?>\n",
       "<!DOCTYPE svg PUBLIC \"-//W3C//DTD SVG 1.1//EN\"\n",
       " \"http://www.w3.org/Graphics/SVG/1.1/DTD/svg11.dtd\">\n",
       "<!-- Generated by graphviz version 2.40.1 (20161225.0304)\n",
       " -->\n",
       "<!-- Pages: 1 -->\n",
       "<svg width=\"172pt\" height=\"106pt\"\n",
       " viewBox=\"0.00 0.00 172.00 106.00\" xmlns=\"http://www.w3.org/2000/svg\" xmlns:xlink=\"http://www.w3.org/1999/xlink\">\n",
       "<g id=\"graph0\" class=\"graph\" transform=\"scale(1 1) rotate(0) translate(4 102)\">\n",
       "<polygon fill=\"#ffffff\" stroke=\"transparent\" points=\"-4,4 -4,-102 168,-102 168,4 -4,4\"/>\n",
       "<!-- 0 -->\n",
       "<g id=\"node1\" class=\"node\">\n",
       "<title>0</title>\n",
       "<ellipse fill=\"none\" stroke=\"#000000\" cx=\"26.6694\" cy=\"-79.5382\" rx=\"27\" ry=\"18\"/>\n",
       "<text text-anchor=\"middle\" x=\"26.6694\" y=\"-75.3382\" font-family=\"Times,serif\" font-size=\"14.00\" fill=\"#000000\">0</text>\n",
       "</g>\n",
       "<!-- 2 -->\n",
       "<g id=\"node2\" class=\"node\">\n",
       "<title>2</title>\n",
       "<ellipse fill=\"none\" stroke=\"#000000\" cx=\"109.2606\" cy=\"-79.189\" rx=\"27\" ry=\"18\"/>\n",
       "<text text-anchor=\"middle\" x=\"109.2606\" y=\"-74.989\" font-family=\"Times,serif\" font-size=\"14.00\" fill=\"#000000\">2</text>\n",
       "</g>\n",
       "<!-- 0&#45;&#45;2 -->\n",
       "<g id=\"edge1\" class=\"edge\">\n",
       "<title>0&#45;&#45;2</title>\n",
       "<path fill=\"none\" stroke=\"#000000\" d=\"M53.7128,-79.4238C62.8396,-79.3853 73.025,-79.3422 82.1564,-79.3036\"/>\n",
       "</g>\n",
       "<!-- 3 -->\n",
       "<g id=\"node4\" class=\"node\">\n",
       "<title>3</title>\n",
       "<ellipse fill=\"none\" stroke=\"#000000\" cx=\"67.8182\" cy=\"-18.0791\" rx=\"27\" ry=\"18\"/>\n",
       "<text text-anchor=\"middle\" x=\"67.8182\" y=\"-13.8791\" font-family=\"Times,serif\" font-size=\"14.00\" fill=\"#000000\">3</text>\n",
       "</g>\n",
       "<!-- 2&#45;&#45;3 -->\n",
       "<g id=\"edge2\" class=\"edge\">\n",
       "<title>2&#45;&#45;3</title>\n",
       "<path fill=\"none\" stroke=\"#000000\" d=\"M97.9363,-62.4904C92.0887,-53.8678 84.9744,-43.3772 79.1288,-34.7575\"/>\n",
       "</g>\n",
       "<!-- 1 -->\n",
       "<g id=\"node3\" class=\"node\">\n",
       "<title>1</title>\n",
       "<ellipse fill=\"none\" stroke=\"#000000\" cx=\"137.2381\" cy=\"-17.6409\" rx=\"27\" ry=\"18\"/>\n",
       "<text text-anchor=\"middle\" x=\"137.2381\" y=\"-13.4409\" font-family=\"Times,serif\" font-size=\"14.00\" fill=\"#000000\">1</text>\n",
       "</g>\n",
       "</g>\n",
       "</svg>\n"
      ]
     },
     "metadata": {},
     "output_type": "display_data"
    }
   ],
   "source": [
    "describe_graph(model.precision_)"
   ]
  },
  {
   "cell_type": "code",
   "execution_count": 164,
   "metadata": {
    "collapsed": true
   },
   "outputs": [],
   "source": [
    "dic = { 0: \"sepal length\", 1: \"sepal width\", 2: \"petal length\", 3: \"petal width\" }"
   ]
  },
  {
   "cell_type": "code",
   "execution_count": 166,
   "metadata": {},
   "outputs": [
    {
     "data": {
      "text/plain": [
       "dict_values(['sepal length', 'sepal width', 'petal length', 'petal width'])"
      ]
     },
     "execution_count": 166,
     "metadata": {},
     "output_type": "execute_result"
    }
   ],
   "source": [
    "dic.values()"
   ]
  },
  {
   "cell_type": "markdown",
   "metadata": {},
   "source": [
    "### フルスクラッチでやってみる"
   ]
  },
  {
   "cell_type": "markdown",
   "metadata": {},
   "source": [
    "現在開発中です."
   ]
  },
  {
   "cell_type": "code",
   "execution_count": 48,
   "metadata": {
    "collapsed": true
   },
   "outputs": [],
   "source": [
    "def graphical_lasso(X):\n",
    "    \"\"\"データX: shape(データ数, データの次元)を受け取って, データXが従うと考えられる正規分布の疎な精度行列と分散共分散行列を返す関数\"\"\"\n",
    "    # データ数\n",
    "    n = X.shape[0]\n",
    "    # 一つのデータの次元\n",
    "    D = X.shape[1]\n",
    "    \n",
    "    # 平均を0にシフト\n",
    "    # 中心極限定理より, データxが正規分布に従っている仮定のもとだと\n",
    "    # 標本平均を引いたものも真の精度行列と同じ精度行列を持つ正規分布に(nが十分大だと)従う.\n",
    "    X = X - X.mean(axis=0)\n",
    "    S = (1.0 / n) * np.dot(X.T, X)"
   ]
  }
 ],
 "metadata": {
  "kernelspec": {
   "display_name": "Python 3",
   "language": "python",
   "name": "python3"
  },
  "language_info": {
   "codemirror_mode": {
    "name": "ipython",
    "version": 3
   },
   "file_extension": ".py",
   "mimetype": "text/x-python",
   "name": "python",
   "nbconvert_exporter": "python",
   "pygments_lexer": "ipython3",
   "version": "3.6.2"
  }
 },
 "nbformat": 4,
 "nbformat_minor": 2
}
