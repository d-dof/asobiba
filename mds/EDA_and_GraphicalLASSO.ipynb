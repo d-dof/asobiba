{
 "cells": [
  {
   "cell_type": "code",
   "execution_count": 1,
   "metadata": {},
   "outputs": [
    {
     "name": "stdout",
     "output_type": "stream",
     "text": [
      "1512.04922.pdf                \u001b[1m\u001b[36masobiba\u001b[m\u001b[m/\r\n",
      "\u001b[1m\u001b[36mApplications\u001b[m\u001b[m/                 \u001b[1m\u001b[36mauto_music\u001b[m\u001b[m/\r\n",
      "\u001b[1m\u001b[36mDesktop\u001b[m\u001b[m/                      \u001b[1m\u001b[36mc\u001b[m\u001b[m/\r\n",
      "\u001b[1m\u001b[36mDocuments\u001b[m\u001b[m/                    \u001b[1m\u001b[36mcategory_judge_app\u001b[m\u001b[m/\r\n",
      "\u001b[1m\u001b[36mDownloads\u001b[m\u001b[m/                    \u001b[1m\u001b[36mcreating_music\u001b[m\u001b[m/\r\n",
      "\u001b[1m\u001b[36mDropbox\u001b[m\u001b[m/                      \u001b[1m\u001b[36mdatascience\u001b[m\u001b[m/\r\n",
      "EDA_and_GraphicalLASSO.ipynb  \u001b[1m\u001b[36mdeeplearning\u001b[m\u001b[m/\r\n",
      "EM_Algorithm.ipynb            em.py\r\n",
      "\u001b[1m\u001b[36mGCI\u001b[m\u001b[m/                          \u001b[1m\u001b[36menv\u001b[m\u001b[m/\r\n",
      "\u001b[1m\u001b[36mGCI-team10\u001b[m\u001b[m/                   \u001b[1m\u001b[36mgengogaku\u001b[m\u001b[m/\r\n",
      "\u001b[1m\u001b[36mLibrary\u001b[m\u001b[m/                      graph.ipynb\r\n",
      "MLP_practice.ipynb            graph1.py\r\n",
      "\u001b[1m\u001b[36mMovies\u001b[m\u001b[m/                       \u001b[1m\u001b[36mkaggle\u001b[m\u001b[m/\r\n",
      "\u001b[1m\u001b[36mMusic\u001b[m\u001b[m/                        \u001b[1m\u001b[36mkakomon\u001b[m\u001b[m/\r\n",
      "\u001b[1m\u001b[36mPFA\u001b[m\u001b[m/                          \u001b[1m\u001b[36mmodeling\u001b[m\u001b[m/\r\n",
      "\u001b[1m\u001b[36mPictures\u001b[m\u001b[m/                     \u001b[1m\u001b[36mrisansyuho\u001b[m\u001b[m/\r\n",
      "\u001b[1m\u001b[36mPublic\u001b[m\u001b[m/                       \u001b[1m\u001b[36mscikit_learn_data\u001b[m\u001b[m/\r\n",
      "\u001b[1m\u001b[36mR\u001b[m\u001b[m/                            users_2017_2_1.pickle\r\n",
      "Untitled.ipynb                \u001b[1m\u001b[36mwealthnavi\u001b[m\u001b[m/\r\n",
      "Untitled1.ipynb               \u001b[1m\u001b[36m五月祭資料\u001b[m\u001b[m/\r\n"
     ]
    }
   ],
   "source": [
    "ls"
   ]
  },
  {
   "cell_type": "code",
   "execution_count": 1,
   "metadata": {
    "collapsed": true
   },
   "outputs": [],
   "source": [
    "import numpy as np\n",
    "import pandas as pd\n",
    "import matplotlib.pyplot as plt"
   ]
  },
  {
   "cell_type": "code",
   "execution_count": 334,
   "metadata": {
    "collapsed": true
   },
   "outputs": [],
   "source": [
    "df = pd.read_csv(\"data/2017/2017_data.csv\", dtype=\"object\")"
   ]
  },
  {
   "cell_type": "code",
   "execution_count": 335,
   "metadata": {},
   "outputs": [
    {
     "data": {
      "text/html": [
       "<div>\n",
       "<style scoped>\n",
       "    .dataframe tbody tr th:only-of-type {\n",
       "        vertical-align: middle;\n",
       "    }\n",
       "\n",
       "    .dataframe tbody tr th {\n",
       "        vertical-align: top;\n",
       "    }\n",
       "\n",
       "    .dataframe thead th {\n",
       "        text-align: right;\n",
       "    }\n",
       "</style>\n",
       "<table border=\"1\" class=\"dataframe\">\n",
       "  <thead>\n",
       "    <tr style=\"text-align: right;\">\n",
       "      <th></th>\n",
       "      <th>KEY</th>\n",
       "      <th>SKEY</th>\n",
       "      <th>DUMMY00</th>\n",
       "      <th>AAF1</th>\n",
       "      <th>AAF2</th>\n",
       "      <th>AAF3</th>\n",
       "      <th>AAF3_01</th>\n",
       "      <th>AAF4</th>\n",
       "      <th>AAF5$1</th>\n",
       "      <th>AAF5$2</th>\n",
       "      <th>...</th>\n",
       "      <th>ICAA_W_01#147$2</th>\n",
       "      <th>ICAA_W_01#147$3</th>\n",
       "      <th>ICAA_W_01#147$4</th>\n",
       "      <th>ICAA_W_01#147$5</th>\n",
       "      <th>ICAA_W_01#147$6</th>\n",
       "      <th>ICAA_W_01#147$7</th>\n",
       "      <th>ICAA_W_01#147$8</th>\n",
       "      <th>ICAA_W_01#147$9</th>\n",
       "      <th>ICAA_W_01#147$10</th>\n",
       "      <th>ICAA_W_01#147$11</th>\n",
       "    </tr>\n",
       "  </thead>\n",
       "  <tbody>\n",
       "    <tr>\n",
       "      <th>0</th>\n",
       "      <td>100000001</td>\n",
       "      <td>177100000030</td>\n",
       "      <td></td>\n",
       "      <td>1</td>\n",
       "      <td>17</td>\n",
       "      <td>28</td>\n",
       "      <td>2</td>\n",
       "      <td>1</td>\n",
       "      <td>0</td>\n",
       "      <td>1</td>\n",
       "      <td>...</td>\n",
       "      <td>0</td>\n",
       "      <td>0</td>\n",
       "      <td>0</td>\n",
       "      <td>0</td>\n",
       "      <td>0</td>\n",
       "      <td>0</td>\n",
       "      <td>0</td>\n",
       "      <td>0</td>\n",
       "      <td>0</td>\n",
       "      <td>1</td>\n",
       "    </tr>\n",
       "    <tr>\n",
       "      <th>1</th>\n",
       "      <td>100000002</td>\n",
       "      <td>177100000012</td>\n",
       "      <td></td>\n",
       "      <td>2</td>\n",
       "      <td>56</td>\n",
       "      <td>13</td>\n",
       "      <td>1</td>\n",
       "      <td>1</td>\n",
       "      <td>1</td>\n",
       "      <td>1</td>\n",
       "      <td>...</td>\n",
       "      <td></td>\n",
       "      <td></td>\n",
       "      <td></td>\n",
       "      <td></td>\n",
       "      <td></td>\n",
       "      <td></td>\n",
       "      <td></td>\n",
       "      <td></td>\n",
       "      <td></td>\n",
       "      <td></td>\n",
       "    </tr>\n",
       "    <tr>\n",
       "      <th>2</th>\n",
       "      <td>100000003</td>\n",
       "      <td>177100000044</td>\n",
       "      <td></td>\n",
       "      <td>1</td>\n",
       "      <td>48</td>\n",
       "      <td>14</td>\n",
       "      <td>1</td>\n",
       "      <td>1</td>\n",
       "      <td>1</td>\n",
       "      <td>1</td>\n",
       "      <td>...</td>\n",
       "      <td></td>\n",
       "      <td></td>\n",
       "      <td></td>\n",
       "      <td></td>\n",
       "      <td></td>\n",
       "      <td></td>\n",
       "      <td></td>\n",
       "      <td></td>\n",
       "      <td></td>\n",
       "      <td></td>\n",
       "    </tr>\n",
       "    <tr>\n",
       "      <th>3</th>\n",
       "      <td>100000004</td>\n",
       "      <td>177100000011</td>\n",
       "      <td></td>\n",
       "      <td>1</td>\n",
       "      <td>19</td>\n",
       "      <td>14</td>\n",
       "      <td>1</td>\n",
       "      <td>1</td>\n",
       "      <td>0</td>\n",
       "      <td>1</td>\n",
       "      <td>...</td>\n",
       "      <td></td>\n",
       "      <td></td>\n",
       "      <td></td>\n",
       "      <td></td>\n",
       "      <td></td>\n",
       "      <td></td>\n",
       "      <td></td>\n",
       "      <td></td>\n",
       "      <td></td>\n",
       "      <td></td>\n",
       "    </tr>\n",
       "    <tr>\n",
       "      <th>4</th>\n",
       "      <td>100000005</td>\n",
       "      <td>177100000092</td>\n",
       "      <td></td>\n",
       "      <td>1</td>\n",
       "      <td>44</td>\n",
       "      <td>28</td>\n",
       "      <td>2</td>\n",
       "      <td>1</td>\n",
       "      <td>1</td>\n",
       "      <td>0</td>\n",
       "      <td>...</td>\n",
       "      <td>0</td>\n",
       "      <td>0</td>\n",
       "      <td>0</td>\n",
       "      <td>0</td>\n",
       "      <td>0</td>\n",
       "      <td>0</td>\n",
       "      <td>0</td>\n",
       "      <td>0</td>\n",
       "      <td>0</td>\n",
       "      <td>1</td>\n",
       "    </tr>\n",
       "  </tbody>\n",
       "</table>\n",
       "<p>5 rows × 15745 columns</p>\n",
       "</div>"
      ],
      "text/plain": [
       "         KEY          SKEY DUMMY00 AAF1 AAF2 AAF3 AAF3_01 AAF4 AAF5$1 AAF5$2  \\\n",
       "0  100000001  177100000030            1   17   28       2    1      0      1   \n",
       "1  100000002  177100000012            2   56   13       1    1      1      1   \n",
       "2  100000003  177100000044            1   48   14       1    1      1      1   \n",
       "3  100000004  177100000011            1   19   14       1    1      0      1   \n",
       "4  100000005  177100000092            1   44   28       2    1      1      0   \n",
       "\n",
       "        ...        ICAA_W_01#147$2 ICAA_W_01#147$3 ICAA_W_01#147$4  \\\n",
       "0       ...                      0               0               0   \n",
       "1       ...                                                          \n",
       "2       ...                                                          \n",
       "3       ...                                                          \n",
       "4       ...                      0               0               0   \n",
       "\n",
       "  ICAA_W_01#147$5 ICAA_W_01#147$6 ICAA_W_01#147$7 ICAA_W_01#147$8  \\\n",
       "0               0               0               0               0   \n",
       "1                                                                   \n",
       "2                                                                   \n",
       "3                                                                   \n",
       "4               0               0               0               0   \n",
       "\n",
       "  ICAA_W_01#147$9 ICAA_W_01#147$10 ICAA_W_01#147$11  \n",
       "0               0                0                1  \n",
       "1                                                    \n",
       "2                                                    \n",
       "3                                                    \n",
       "4               0                0                1  \n",
       "\n",
       "[5 rows x 15745 columns]"
      ]
     },
     "execution_count": 335,
     "metadata": {},
     "output_type": "execute_result"
    }
   ],
   "source": [
    "df.head()"
   ]
  },
  {
   "cell_type": "code",
   "execution_count": 336,
   "metadata": {},
   "outputs": [
    {
     "data": {
      "text/plain": [
       "(15042, 15745)"
      ]
     },
     "execution_count": 336,
     "metadata": {},
     "output_type": "execute_result"
    }
   ],
   "source": [
    "df.shape"
   ]
  },
  {
   "cell_type": "code",
   "execution_count": 337,
   "metadata": {},
   "outputs": [
    {
     "data": {
      "text/plain": [
       "count     15042\n",
       "unique        2\n",
       "top           2\n",
       "freq       7583\n",
       "Name: AAF1, dtype: object"
      ]
     },
     "execution_count": 337,
     "metadata": {},
     "output_type": "execute_result"
    }
   ],
   "source": [
    "df.AAF1.describe()"
   ]
  },
  {
   "cell_type": "code",
   "execution_count": 338,
   "metadata": {},
   "outputs": [
    {
     "data": {
      "text/plain": [
       "2    7583\n",
       "1    7459\n",
       "Name: AAF1, dtype: int64"
      ]
     },
     "execution_count": 338,
     "metadata": {},
     "output_type": "execute_result"
    }
   ],
   "source": [
    "df.AAF1.value_counts()"
   ]
  },
  {
   "cell_type": "code",
   "execution_count": 339,
   "metadata": {
    "scrolled": true
   },
   "outputs": [
    {
     "ename": "KeyboardInterrupt",
     "evalue": "",
     "output_type": "error",
     "traceback": [
      "\u001b[0;31m---------------------------------------------------------------------------\u001b[0m",
      "\u001b[0;31mKeyboardInterrupt\u001b[0m                         Traceback (most recent call last)",
      "\u001b[0;32m<ipython-input-339-ea8415b8a3ee>\u001b[0m in \u001b[0;36m<module>\u001b[0;34m()\u001b[0m\n\u001b[0;32m----> 1\u001b[0;31m \u001b[0mdf\u001b[0m\u001b[0;34m.\u001b[0m\u001b[0mdescribe\u001b[0m\u001b[0;34m(\u001b[0m\u001b[0;34m)\u001b[0m\u001b[0;34m\u001b[0m\u001b[0m\n\u001b[0m",
      "\u001b[0;32m/opt/aapf/1.2.0/python_env/py3/lib/python3.6/site-packages/pandas/core/generic.py\u001b[0m in \u001b[0;36mdescribe\u001b[0;34m(self, percentiles, include, exclude)\u001b[0m\n\u001b[1;32m   6825\u001b[0m             \u001b[0mdata\u001b[0m \u001b[0;34m=\u001b[0m \u001b[0mself\u001b[0m\u001b[0;34m.\u001b[0m\u001b[0mselect_dtypes\u001b[0m\u001b[0;34m(\u001b[0m\u001b[0minclude\u001b[0m\u001b[0;34m=\u001b[0m\u001b[0minclude\u001b[0m\u001b[0;34m,\u001b[0m \u001b[0mexclude\u001b[0m\u001b[0;34m=\u001b[0m\u001b[0mexclude\u001b[0m\u001b[0;34m)\u001b[0m\u001b[0;34m\u001b[0m\u001b[0m\n\u001b[1;32m   6826\u001b[0m \u001b[0;34m\u001b[0m\u001b[0m\n\u001b[0;32m-> 6827\u001b[0;31m         \u001b[0mldesc\u001b[0m \u001b[0;34m=\u001b[0m \u001b[0;34m[\u001b[0m\u001b[0mdescribe_1d\u001b[0m\u001b[0;34m(\u001b[0m\u001b[0ms\u001b[0m\u001b[0;34m)\u001b[0m \u001b[0;32mfor\u001b[0m \u001b[0m_\u001b[0m\u001b[0;34m,\u001b[0m \u001b[0ms\u001b[0m \u001b[0;32min\u001b[0m \u001b[0mdata\u001b[0m\u001b[0;34m.\u001b[0m\u001b[0miteritems\u001b[0m\u001b[0;34m(\u001b[0m\u001b[0;34m)\u001b[0m\u001b[0;34m]\u001b[0m\u001b[0;34m\u001b[0m\u001b[0m\n\u001b[0m\u001b[1;32m   6828\u001b[0m         \u001b[0;31m# set a convenient order for rows\u001b[0m\u001b[0;34m\u001b[0m\u001b[0;34m\u001b[0m\u001b[0m\n\u001b[1;32m   6829\u001b[0m         \u001b[0mnames\u001b[0m \u001b[0;34m=\u001b[0m \u001b[0;34m[\u001b[0m\u001b[0;34m]\u001b[0m\u001b[0;34m\u001b[0m\u001b[0m\n",
      "\u001b[0;32m/opt/aapf/1.2.0/python_env/py3/lib/python3.6/site-packages/pandas/core/generic.py\u001b[0m in \u001b[0;36m<listcomp>\u001b[0;34m(.0)\u001b[0m\n\u001b[1;32m   6825\u001b[0m             \u001b[0mdata\u001b[0m \u001b[0;34m=\u001b[0m \u001b[0mself\u001b[0m\u001b[0;34m.\u001b[0m\u001b[0mselect_dtypes\u001b[0m\u001b[0;34m(\u001b[0m\u001b[0minclude\u001b[0m\u001b[0;34m=\u001b[0m\u001b[0minclude\u001b[0m\u001b[0;34m,\u001b[0m \u001b[0mexclude\u001b[0m\u001b[0;34m=\u001b[0m\u001b[0mexclude\u001b[0m\u001b[0;34m)\u001b[0m\u001b[0;34m\u001b[0m\u001b[0m\n\u001b[1;32m   6826\u001b[0m \u001b[0;34m\u001b[0m\u001b[0m\n\u001b[0;32m-> 6827\u001b[0;31m         \u001b[0mldesc\u001b[0m \u001b[0;34m=\u001b[0m \u001b[0;34m[\u001b[0m\u001b[0mdescribe_1d\u001b[0m\u001b[0;34m(\u001b[0m\u001b[0ms\u001b[0m\u001b[0;34m)\u001b[0m \u001b[0;32mfor\u001b[0m \u001b[0m_\u001b[0m\u001b[0;34m,\u001b[0m \u001b[0ms\u001b[0m \u001b[0;32min\u001b[0m \u001b[0mdata\u001b[0m\u001b[0;34m.\u001b[0m\u001b[0miteritems\u001b[0m\u001b[0;34m(\u001b[0m\u001b[0;34m)\u001b[0m\u001b[0;34m]\u001b[0m\u001b[0;34m\u001b[0m\u001b[0m\n\u001b[0m\u001b[1;32m   6828\u001b[0m         \u001b[0;31m# set a convenient order for rows\u001b[0m\u001b[0;34m\u001b[0m\u001b[0;34m\u001b[0m\u001b[0m\n\u001b[1;32m   6829\u001b[0m         \u001b[0mnames\u001b[0m \u001b[0;34m=\u001b[0m \u001b[0;34m[\u001b[0m\u001b[0;34m]\u001b[0m\u001b[0;34m\u001b[0m\u001b[0m\n",
      "\u001b[0;32m/opt/aapf/1.2.0/python_env/py3/lib/python3.6/site-packages/pandas/core/generic.py\u001b[0m in \u001b[0;36mdescribe_1d\u001b[0;34m(data)\u001b[0m\n\u001b[1;32m   6808\u001b[0m                 \u001b[0;32mreturn\u001b[0m \u001b[0mdescribe_numeric_1d\u001b[0m\u001b[0;34m(\u001b[0m\u001b[0mdata\u001b[0m\u001b[0;34m)\u001b[0m\u001b[0;34m\u001b[0m\u001b[0m\n\u001b[1;32m   6809\u001b[0m             \u001b[0;32melse\u001b[0m\u001b[0;34m:\u001b[0m\u001b[0;34m\u001b[0m\u001b[0m\n\u001b[0;32m-> 6810\u001b[0;31m                 \u001b[0;32mreturn\u001b[0m \u001b[0mdescribe_categorical_1d\u001b[0m\u001b[0;34m(\u001b[0m\u001b[0mdata\u001b[0m\u001b[0;34m)\u001b[0m\u001b[0;34m\u001b[0m\u001b[0m\n\u001b[0m\u001b[1;32m   6811\u001b[0m \u001b[0;34m\u001b[0m\u001b[0m\n\u001b[1;32m   6812\u001b[0m         \u001b[0;32mif\u001b[0m \u001b[0mself\u001b[0m\u001b[0;34m.\u001b[0m\u001b[0mndim\u001b[0m \u001b[0;34m==\u001b[0m \u001b[0;36m1\u001b[0m\u001b[0;34m:\u001b[0m\u001b[0;34m\u001b[0m\u001b[0m\n",
      "\u001b[0;32m/opt/aapf/1.2.0/python_env/py3/lib/python3.6/site-packages/pandas/core/generic.py\u001b[0m in \u001b[0;36mdescribe_categorical_1d\u001b[0;34m(data)\u001b[0m\n\u001b[1;32m   6798\u001b[0m                     \u001b[0mresult\u001b[0m \u001b[0;34m+=\u001b[0m \u001b[0;34m[\u001b[0m\u001b[0mtop\u001b[0m\u001b[0;34m,\u001b[0m \u001b[0mfreq\u001b[0m\u001b[0;34m]\u001b[0m\u001b[0;34m\u001b[0m\u001b[0m\n\u001b[1;32m   6799\u001b[0m \u001b[0;34m\u001b[0m\u001b[0m\n\u001b[0;32m-> 6800\u001b[0;31m             \u001b[0;32mreturn\u001b[0m \u001b[0mpd\u001b[0m\u001b[0;34m.\u001b[0m\u001b[0mSeries\u001b[0m\u001b[0;34m(\u001b[0m\u001b[0mresult\u001b[0m\u001b[0;34m,\u001b[0m \u001b[0mindex\u001b[0m\u001b[0;34m=\u001b[0m\u001b[0mnames\u001b[0m\u001b[0;34m,\u001b[0m \u001b[0mname\u001b[0m\u001b[0;34m=\u001b[0m\u001b[0mdata\u001b[0m\u001b[0;34m.\u001b[0m\u001b[0mname\u001b[0m\u001b[0;34m)\u001b[0m\u001b[0;34m\u001b[0m\u001b[0m\n\u001b[0m\u001b[1;32m   6801\u001b[0m \u001b[0;34m\u001b[0m\u001b[0m\n\u001b[1;32m   6802\u001b[0m         \u001b[0;32mdef\u001b[0m \u001b[0mdescribe_1d\u001b[0m\u001b[0;34m(\u001b[0m\u001b[0mdata\u001b[0m\u001b[0;34m)\u001b[0m\u001b[0;34m:\u001b[0m\u001b[0;34m\u001b[0m\u001b[0m\n",
      "\u001b[0;32m/opt/aapf/1.2.0/python_env/py3/lib/python3.6/site-packages/pandas/core/series.py\u001b[0m in \u001b[0;36m__init__\u001b[0;34m(self, data, index, dtype, name, copy, fastpath)\u001b[0m\n\u001b[1;32m    170\u001b[0m \u001b[0;34m\u001b[0m\u001b[0m\n\u001b[1;32m    171\u001b[0m             \u001b[0;32mif\u001b[0m \u001b[0mindex\u001b[0m \u001b[0;32mis\u001b[0m \u001b[0;32mnot\u001b[0m \u001b[0;32mNone\u001b[0m\u001b[0;34m:\u001b[0m\u001b[0;34m\u001b[0m\u001b[0m\n\u001b[0;32m--> 172\u001b[0;31m                 \u001b[0mindex\u001b[0m \u001b[0;34m=\u001b[0m \u001b[0m_ensure_index\u001b[0m\u001b[0;34m(\u001b[0m\u001b[0mindex\u001b[0m\u001b[0;34m)\u001b[0m\u001b[0;34m\u001b[0m\u001b[0m\n\u001b[0m\u001b[1;32m    173\u001b[0m \u001b[0;34m\u001b[0m\u001b[0m\n\u001b[1;32m    174\u001b[0m             \u001b[0;32mif\u001b[0m \u001b[0mdata\u001b[0m \u001b[0;32mis\u001b[0m \u001b[0;32mNone\u001b[0m\u001b[0;34m:\u001b[0m\u001b[0;34m\u001b[0m\u001b[0m\n",
      "\u001b[0;32m/opt/aapf/1.2.0/python_env/py3/lib/python3.6/site-packages/pandas/core/indexes/base.py\u001b[0m in \u001b[0;36m_ensure_index\u001b[0;34m(index_like, copy)\u001b[0m\n\u001b[1;32m   4210\u001b[0m             \u001b[0mindex_like\u001b[0m \u001b[0;34m=\u001b[0m \u001b[0mcopy\u001b[0m\u001b[0;34m(\u001b[0m\u001b[0mindex_like\u001b[0m\u001b[0;34m)\u001b[0m\u001b[0;34m\u001b[0m\u001b[0m\n\u001b[1;32m   4211\u001b[0m \u001b[0;34m\u001b[0m\u001b[0m\n\u001b[0;32m-> 4212\u001b[0;31m     \u001b[0;32mreturn\u001b[0m \u001b[0mIndex\u001b[0m\u001b[0;34m(\u001b[0m\u001b[0mindex_like\u001b[0m\u001b[0;34m)\u001b[0m\u001b[0;34m\u001b[0m\u001b[0m\n\u001b[0m\u001b[1;32m   4213\u001b[0m \u001b[0;34m\u001b[0m\u001b[0m\n\u001b[1;32m   4214\u001b[0m \u001b[0;34m\u001b[0m\u001b[0m\n",
      "\u001b[0;32m/opt/aapf/1.2.0/python_env/py3/lib/python3.6/site-packages/pandas/core/indexes/base.py\u001b[0m in \u001b[0;36m__new__\u001b[0;34m(cls, data, dtype, copy, name, fastpath, tupleize_cols, **kwargs)\u001b[0m\n\u001b[1;32m    296\u001b[0m                 \u001b[0msubarr\u001b[0m \u001b[0;34m=\u001b[0m \u001b[0mdata\u001b[0m\u001b[0;34m.\u001b[0m\u001b[0mastype\u001b[0m\u001b[0;34m(\u001b[0m\u001b[0;34m'object'\u001b[0m\u001b[0;34m)\u001b[0m\u001b[0;34m\u001b[0m\u001b[0m\n\u001b[1;32m    297\u001b[0m             \u001b[0;32melse\u001b[0m\u001b[0;34m:\u001b[0m\u001b[0;34m\u001b[0m\u001b[0m\n\u001b[0;32m--> 298\u001b[0;31m                 \u001b[0msubarr\u001b[0m \u001b[0;34m=\u001b[0m \u001b[0m_asarray_tuplesafe\u001b[0m\u001b[0;34m(\u001b[0m\u001b[0mdata\u001b[0m\u001b[0;34m,\u001b[0m \u001b[0mdtype\u001b[0m\u001b[0;34m=\u001b[0m\u001b[0mobject\u001b[0m\u001b[0;34m)\u001b[0m\u001b[0;34m\u001b[0m\u001b[0m\n\u001b[0m\u001b[1;32m    299\u001b[0m \u001b[0;34m\u001b[0m\u001b[0m\n\u001b[1;32m    300\u001b[0m             \u001b[0;31m# _asarray_tuplesafe does not always copy underlying data,\u001b[0m\u001b[0;34m\u001b[0m\u001b[0;34m\u001b[0m\u001b[0m\n",
      "\u001b[0;32m/opt/aapf/1.2.0/python_env/py3/lib/python3.6/site-packages/pandas/core/common.py\u001b[0m in \u001b[0;36m_asarray_tuplesafe\u001b[0;34m(values, dtype)\u001b[0m\n\u001b[1;32m    384\u001b[0m         \u001b[0;32mreturn\u001b[0m \u001b[0mlib\u001b[0m\u001b[0;34m.\u001b[0m\u001b[0mlist_to_object_array\u001b[0m\u001b[0;34m(\u001b[0m\u001b[0mvalues\u001b[0m\u001b[0;34m)\u001b[0m\u001b[0;34m\u001b[0m\u001b[0m\n\u001b[1;32m    385\u001b[0m \u001b[0;34m\u001b[0m\u001b[0m\n\u001b[0;32m--> 386\u001b[0;31m     \u001b[0mresult\u001b[0m \u001b[0;34m=\u001b[0m \u001b[0mnp\u001b[0m\u001b[0;34m.\u001b[0m\u001b[0masarray\u001b[0m\u001b[0;34m(\u001b[0m\u001b[0mvalues\u001b[0m\u001b[0;34m,\u001b[0m \u001b[0mdtype\u001b[0m\u001b[0;34m=\u001b[0m\u001b[0mdtype\u001b[0m\u001b[0;34m)\u001b[0m\u001b[0;34m\u001b[0m\u001b[0m\n\u001b[0m\u001b[1;32m    387\u001b[0m \u001b[0;34m\u001b[0m\u001b[0m\n\u001b[1;32m    388\u001b[0m     \u001b[0;32mif\u001b[0m \u001b[0missubclass\u001b[0m\u001b[0;34m(\u001b[0m\u001b[0mresult\u001b[0m\u001b[0;34m.\u001b[0m\u001b[0mdtype\u001b[0m\u001b[0;34m.\u001b[0m\u001b[0mtype\u001b[0m\u001b[0;34m,\u001b[0m \u001b[0mcompat\u001b[0m\u001b[0;34m.\u001b[0m\u001b[0mstring_types\u001b[0m\u001b[0;34m)\u001b[0m\u001b[0;34m:\u001b[0m\u001b[0;34m\u001b[0m\u001b[0m\n",
      "\u001b[0;32m/opt/aapf/1.2.0/python_env/py3/lib/python3.6/site-packages/numpy/core/numeric.py\u001b[0m in \u001b[0;36masarray\u001b[0;34m(a, dtype, order)\u001b[0m\n\u001b[1;32m    490\u001b[0m \u001b[0;34m\u001b[0m\u001b[0m\n\u001b[1;32m    491\u001b[0m     \"\"\"\n\u001b[0;32m--> 492\u001b[0;31m     \u001b[0;32mreturn\u001b[0m \u001b[0marray\u001b[0m\u001b[0;34m(\u001b[0m\u001b[0ma\u001b[0m\u001b[0;34m,\u001b[0m \u001b[0mdtype\u001b[0m\u001b[0;34m,\u001b[0m \u001b[0mcopy\u001b[0m\u001b[0;34m=\u001b[0m\u001b[0;32mFalse\u001b[0m\u001b[0;34m,\u001b[0m \u001b[0morder\u001b[0m\u001b[0;34m=\u001b[0m\u001b[0morder\u001b[0m\u001b[0;34m)\u001b[0m\u001b[0;34m\u001b[0m\u001b[0m\n\u001b[0m\u001b[1;32m    493\u001b[0m \u001b[0;34m\u001b[0m\u001b[0m\n\u001b[1;32m    494\u001b[0m \u001b[0;34m\u001b[0m\u001b[0m\n",
      "\u001b[0;31mKeyboardInterrupt\u001b[0m: "
     ]
    }
   ],
   "source": [
    "df.describe()"
   ]
  },
  {
   "cell_type": "markdown",
   "metadata": {},
   "source": [
    "## 人生最大のピンチを取り出してみた"
   ]
  },
  {
   "cell_type": "code",
   "execution_count": 1,
   "metadata": {
    "collapsed": true
   },
   "outputs": [],
   "source": [
    "# count = 0\n",
    "# for j, data in enumerate(df.AABG_A):\n",
    "#     if len(data) > 5:\n",
    "#         print(data)\n",
    "#         count += 1"
   ]
  },
  {
   "cell_type": "code",
   "execution_count": 83,
   "metadata": {},
   "outputs": [
    {
     "data": {
      "text/plain": [
       "345"
      ]
     },
     "execution_count": 83,
     "metadata": {},
     "output_type": "execute_result"
    }
   ],
   "source": [
    "count"
   ]
  },
  {
   "cell_type": "code",
   "execution_count": 84,
   "metadata": {},
   "outputs": [
    {
     "data": {
      "text/plain": [
       "0.022935779816513763"
      ]
     },
     "execution_count": 84,
     "metadata": {},
     "output_type": "execute_result"
    }
   ],
   "source": [
    "count / df.AABG_A.count()"
   ]
  },
  {
   "cell_type": "markdown",
   "metadata": {},
   "source": [
    "## さてじゃあ定量データで面白そうなのを取り出してガウシアングラフィカルモデルを適用してみよう"
   ]
  },
  {
   "cell_type": "code",
   "execution_count": 329,
   "metadata": {},
   "outputs": [
    {
     "data": {
      "text/plain": [
       "str"
      ]
     },
     "execution_count": 329,
     "metadata": {},
     "output_type": "execute_result"
    }
   ],
   "source": [
    "type(df[\"AAAY_weight\"][0])"
   ]
  },
  {
   "cell_type": "code",
   "execution_count": 181,
   "metadata": {
    "collapsed": true
   },
   "outputs": [],
   "source": [
    "# 特徴的な定量, ないし順序尺度をリストアップしてみる\n",
    "\n",
    "# 年齢: AAF2\n",
    "# 転職回数: AAAI\n",
    "# こづかい金額: AAAY_weight\n",
    "# 世帯年収: AABA_weight\n",
    "# 個人年収: AABB_weight\n",
    "# 所有資産: AABC_weight\n",
    "# 最近1年間の国内での宿泊旅行（仕事・出張以外): CAAB#1_weight\n",
    "# ファッションにかける金額_洋服: CDAE#1_weight 2080\n",
    "# ファッションにかける金額_バッグや財布などのレザー製品: CDAE#2_weight\n",
    "# ファッションにかける金額_時計: CDAE#3_weight\n",
    "# ファッションにかける金額_ジュエリー・アクセサリー: CDAE#4_weight\n",
    "# 暮らしの余裕(現在): CEAH 2786\n",
    "# # 順序尺度\n",
    "# 暮らし向き変化: CEAI 2798\n",
    "# #順序尺度\n",
    "# 幸福度: AABD 2774\n",
    "# 料理をする頻度: CGAF 3509\n",
    "# 店舗利用頻度_マクドナルド: CGAK#2\n",
    "# # これ, 12とか13の場合分けしないとやばそう\n",
    "# 飲酒頻度_自宅: CGAN#2_weighted\n",
    "# 健康自信度: CHAA 3871\n",
    "# 休日のメディア利用時間数_テレビ: DBAB#1_weight 5211\n",
    "# 休日のメディア利用時間数_インターネット: DBAB#8_weight 5218\n",
    "# 休日のメディア利用時間数_据え置きゲーム: DBAB#9_weight\n",
    "# 休日のメディア利用時間数_ソシャゲ: DBAB#10_weight\n",
    "# 平日のインターネット利用時間数: HDAB#1_weight"
   ]
  },
  {
   "cell_type": "code",
   "execution_count": 363,
   "metadata": {
    "collapsed": true
   },
   "outputs": [],
   "source": [
    "# 特徴量がすぐにわかる辞書を作る.\n",
    "column_dic = { \"AAF2\": \"年齢\", \"AAAI\": \"転職回数\", \"AAAY_weight\": \"こづかい金額\", \"AABA_weight\": \"世帯年収_weight\", \"AABB_weight\": \"個人年収\", \"AABC_weight\": \"所有資産\", \"CEAH\": \"暮らしの余裕(現在)\", \"CEAI\": \"暮らし向き変化\", \"AABD\": \"幸福度\" }\n",
    "column_dic[\"CAAB#1_weight\"] = \"最近1年間の国内での宿泊旅行（仕事・出張以外）\"\n",
    "column_dic[\"CDAE#1_weight\"] = \"ファッションにかける金額_洋服\"\n",
    "column_dic[\"CDAE#2_weight\"] = \"ファッションにかける金額_バッグや財布などのレザー製品\"\n",
    "column_dic[\"CDAE#3_weight\"] = \"ファッションにかける金額_時計\"\n",
    "column_dic[\"CDAE#4_weight\"] = \"ファッションにかける金額_ジュエリー・アクセサリー\"\n",
    "column_dic[\"CGAF\"] = \"料理をする頻度\"\n",
    "column_dic[\"CGAK#2\"] = \"店舗利用頻度_マクドナルド\"\n",
    "column_dic[\"CGAN#2_weight\"] = \"飲酒頻度_自宅\"\n",
    "column_dic[\"CHAA\"] = \"健康自信度\"\n",
    "column_dic[\"DBAB#1_weight\"] = \"休日のメディア利用時間数_テレビ\"\n",
    "column_dic[\"DBAB#8_weight\"] = \"休日のメディア利用時間数_インターネット\"\n",
    "column_dic[\"DBAB#9_weight\"] = \"休日のメディア利用時間数_据え置きゲーム\"\n",
    "column_dic[\"DBAB#10_weight\"] = \"休日のメディア利用時間数_ソシャゲ\"\n",
    "column_dic[\"HDAB#1_weight\"] = \"平日のインターネット利用時間数\""
   ]
  },
  {
   "cell_type": "code",
   "execution_count": 364,
   "metadata": {},
   "outputs": [
    {
     "data": {
      "text/plain": [
       "['年齢',\n",
       " '転職回数',\n",
       " 'こづかい金額',\n",
       " '世帯年収_weight',\n",
       " '個人年収',\n",
       " '所有資産',\n",
       " '暮らしの余裕(現在)',\n",
       " '暮らし向き変化',\n",
       " '幸福度',\n",
       " '最近1年間の国内での宿泊旅行（仕事・出張以外）',\n",
       " 'ファッションにかける金額_洋服',\n",
       " 'ファッションにかける金額_バッグや財布などのレザー製品',\n",
       " 'ファッションにかける金額_時計',\n",
       " 'ファッションにかける金額_ジュエリー・アクセサリー',\n",
       " '料理をする頻度',\n",
       " '店舗利用頻度_マクドナルド',\n",
       " '飲酒頻度_自宅',\n",
       " '健康自信度',\n",
       " '休日のメディア利用時間数_テレビ',\n",
       " '休日のメディア利用時間数_インターネット',\n",
       " '休日のメディア利用時間数_据え置きゲーム',\n",
       " '休日のメディア利用時間数_ソシャゲ',\n",
       " '平日のインターネット利用時間数']"
      ]
     },
     "execution_count": 364,
     "metadata": {},
     "output_type": "execute_result"
    }
   ],
   "source": [
    "list(column_dic.values())"
   ]
  },
  {
   "cell_type": "code",
   "execution_count": 365,
   "metadata": {},
   "outputs": [
    {
     "data": {
      "text/plain": [
       "count     15042\n",
       "unique       16\n",
       "top         450\n",
       "freq       1762\n",
       "Name: AABA_weight, dtype: object"
      ]
     },
     "execution_count": 365,
     "metadata": {},
     "output_type": "execute_result"
    }
   ],
   "source": [
    "a = \"AABA_weight\"\n",
    "df[a].describe()"
   ]
  },
  {
   "cell_type": "code",
   "execution_count": 366,
   "metadata": {},
   "outputs": [
    {
     "data": {
      "text/plain": [
       "(array([2343., 1108., 2489., 1762., 2431., 1152., 1654., 1415.,  311.,\n",
       "         377.]),\n",
       " array([ 0. ,  1.5,  3. ,  4.5,  6. ,  7.5,  9. , 10.5, 12. , 13.5, 15. ]),\n",
       " <a list of 10 Patch objects>)"
      ]
     },
     "execution_count": 366,
     "metadata": {},
     "output_type": "execute_result"
    },
    {
     "data": {
      "image/png": "[encoded data removed]",
      "text/plain": [
       "<Figure size 432x288 with 1 Axes>"
      ]
     },
     "metadata": {},
     "output_type": "display_data"
    }
   ],
   "source": [
    "plt.hist(list(df[a]))"
   ]
  },
  {
   "cell_type": "code",
   "execution_count": 423,
   "metadata": {
    "collapsed": true
   },
   "outputs": [],
   "source": [
    "features = list(column_dic.keys())\n",
    "cut_df = df[features]"
   ]
  },
  {
   "cell_type": "code",
   "execution_count": 424,
   "metadata": {},
   "outputs": [
    {
     "data": {
      "text/html": [
       "<div>\n",
       "<style scoped>\n",
       "    .dataframe tbody tr th:only-of-type {\n",
       "        vertical-align: middle;\n",
       "    }\n",
       "\n",
       "    .dataframe tbody tr th {\n",
       "        vertical-align: top;\n",
       "    }\n",
       "\n",
       "    .dataframe thead th {\n",
       "        text-align: right;\n",
       "    }\n",
       "</style>\n",
       "<table border=\"1\" class=\"dataframe\">\n",
       "  <thead>\n",
       "    <tr style=\"text-align: right;\">\n",
       "      <th></th>\n",
       "      <th>AAF2</th>\n",
       "      <th>AAAI</th>\n",
       "      <th>AAAY_weight</th>\n",
       "      <th>AABA_weight</th>\n",
       "      <th>AABB_weight</th>\n",
       "      <th>AABC_weight</th>\n",
       "      <th>CEAH</th>\n",
       "      <th>CEAI</th>\n",
       "      <th>AABD</th>\n",
       "      <th>CAAB#1_weight</th>\n",
       "      <th>...</th>\n",
       "      <th>CDAE#4_weight</th>\n",
       "      <th>CGAF</th>\n",
       "      <th>CGAK#2</th>\n",
       "      <th>CGAN#2_weight</th>\n",
       "      <th>CHAA</th>\n",
       "      <th>DBAB#1_weight</th>\n",
       "      <th>DBAB#8_weight</th>\n",
       "      <th>DBAB#9_weight</th>\n",
       "      <th>DBAB#10_weight</th>\n",
       "      <th>HDAB#1_weight</th>\n",
       "    </tr>\n",
       "  </thead>\n",
       "  <tbody>\n",
       "    <tr>\n",
       "      <th>0</th>\n",
       "      <td>17</td>\n",
       "      <td></td>\n",
       "      <td>2.5</td>\n",
       "      <td></td>\n",
       "      <td></td>\n",
       "      <td></td>\n",
       "      <td>4</td>\n",
       "      <td>3</td>\n",
       "      <td>5</td>\n",
       "      <td></td>\n",
       "      <td>...</td>\n",
       "      <td>25000</td>\n",
       "      <td>6</td>\n",
       "      <td>9</td>\n",
       "      <td></td>\n",
       "      <td>2</td>\n",
       "      <td>150</td>\n",
       "      <td>150</td>\n",
       "      <td>0</td>\n",
       "      <td>150</td>\n",
       "      <td>210</td>\n",
       "    </tr>\n",
       "    <tr>\n",
       "      <th>1</th>\n",
       "      <td>56</td>\n",
       "      <td>6</td>\n",
       "      <td>5.5</td>\n",
       "      <td>1350</td>\n",
       "      <td>950</td>\n",
       "      <td>900</td>\n",
       "      <td>2</td>\n",
       "      <td>3</td>\n",
       "      <td>6</td>\n",
       "      <td>0</td>\n",
       "      <td>...</td>\n",
       "      <td>40000</td>\n",
       "      <td>1</td>\n",
       "      <td>11</td>\n",
       "      <td>6.5</td>\n",
       "      <td>3</td>\n",
       "      <td>150</td>\n",
       "      <td>0</td>\n",
       "      <td>0</td>\n",
       "      <td>0</td>\n",
       "      <td>22.5</td>\n",
       "    </tr>\n",
       "    <tr>\n",
       "      <th>2</th>\n",
       "      <td>48</td>\n",
       "      <td>6</td>\n",
       "      <td>.75</td>\n",
       "      <td>1350</td>\n",
       "      <td>1350</td>\n",
       "      <td>250</td>\n",
       "      <td>3</td>\n",
       "      <td>3</td>\n",
       "      <td>6</td>\n",
       "      <td>4</td>\n",
       "      <td>...</td>\n",
       "      <td>1500</td>\n",
       "      <td>5</td>\n",
       "      <td>8</td>\n",
       "      <td>.2</td>\n",
       "      <td>3</td>\n",
       "      <td>22.5</td>\n",
       "      <td>22.5</td>\n",
       "      <td>0</td>\n",
       "      <td>0</td>\n",
       "      <td>37.5</td>\n",
       "    </tr>\n",
       "    <tr>\n",
       "      <th>3</th>\n",
       "      <td>19</td>\n",
       "      <td></td>\n",
       "      <td>3.5</td>\n",
       "      <td></td>\n",
       "      <td></td>\n",
       "      <td></td>\n",
       "      <td>2</td>\n",
       "      <td>2</td>\n",
       "      <td>8</td>\n",
       "      <td></td>\n",
       "      <td>...</td>\n",
       "      <td>1500</td>\n",
       "      <td>5</td>\n",
       "      <td>8</td>\n",
       "      <td></td>\n",
       "      <td>2</td>\n",
       "      <td>210</td>\n",
       "      <td>150</td>\n",
       "      <td>52.5</td>\n",
       "      <td>90</td>\n",
       "      <td>210</td>\n",
       "    </tr>\n",
       "    <tr>\n",
       "      <th>4</th>\n",
       "      <td>44</td>\n",
       "      <td>2</td>\n",
       "      <td>2.5</td>\n",
       "      <td>250</td>\n",
       "      <td>250</td>\n",
       "      <td>250</td>\n",
       "      <td>3</td>\n",
       "      <td>3</td>\n",
       "      <td>6</td>\n",
       "      <td>2</td>\n",
       "      <td>...</td>\n",
       "      <td>1500</td>\n",
       "      <td>4</td>\n",
       "      <td>6</td>\n",
       "      <td>6.5</td>\n",
       "      <td>4</td>\n",
       "      <td>210</td>\n",
       "      <td>52.5</td>\n",
       "      <td>0</td>\n",
       "      <td>7.5</td>\n",
       "      <td>150</td>\n",
       "    </tr>\n",
       "  </tbody>\n",
       "</table>\n",
       "<p>5 rows × 23 columns</p>\n",
       "</div>"
      ],
      "text/plain": [
       "  AAF2 AAAI AAAY_weight AABA_weight AABB_weight AABC_weight CEAH CEAI AABD  \\\n",
       "0   17              2.5                                        4    3    5   \n",
       "1   56    6         5.5        1350         950         900    2    3    6   \n",
       "2   48    6         .75        1350        1350         250    3    3    6   \n",
       "3   19              3.5                                        2    2    8   \n",
       "4   44    2         2.5         250         250         250    3    3    6   \n",
       "\n",
       "  CAAB#1_weight      ...      CDAE#4_weight CGAF CGAK#2 CGAN#2_weight CHAA  \\\n",
       "0                    ...              25000    6      9                  2   \n",
       "1             0      ...              40000    1     11           6.5    3   \n",
       "2             4      ...               1500    5      8            .2    3   \n",
       "3                    ...               1500    5      8                  2   \n",
       "4             2      ...               1500    4      6           6.5    4   \n",
       "\n",
       "  DBAB#1_weight DBAB#8_weight DBAB#9_weight DBAB#10_weight HDAB#1_weight  \n",
       "0           150           150             0            150           210  \n",
       "1           150             0             0              0          22.5  \n",
       "2          22.5          22.5             0              0          37.5  \n",
       "3           210           150          52.5             90           210  \n",
       "4           210          52.5             0            7.5           150  \n",
       "\n",
       "[5 rows x 23 columns]"
      ]
     },
     "execution_count": 424,
     "metadata": {},
     "output_type": "execute_result"
    }
   ],
   "source": [
    "cut_df.head()"
   ]
  },
  {
   "cell_type": "markdown",
   "metadata": {},
   "source": [
    "## とりあえずデータを取り出したのでこれからはデータ整形をしていく."
   ]
  },
  {
   "cell_type": "code",
   "execution_count": 369,
   "metadata": {
    "collapsed": true
   },
   "outputs": [],
   "source": [
    "def zscore(x, axis = None):\n",
    "    xmean = x.mean(axis=axis, keepdims=True)\n",
    "    xstd  = np.std(x, axis=axis, keepdims=True)\n",
    "    zscore = (x-xmean)/(xstd + 0.00001)\n",
    "    return zscore\n",
    "\n",
    "from sklearn.covariance import GraphLassoCV"
   ]
  },
  {
   "cell_type": "code",
   "execution_count": 370,
   "metadata": {
    "collapsed": true
   },
   "outputs": [],
   "source": [
    "import sklearn"
   ]
  },
  {
   "cell_type": "code",
   "execution_count": 371,
   "metadata": {},
   "outputs": [
    {
     "data": {
      "text/plain": [
       "'0.19.1'"
      ]
     },
     "execution_count": 371,
     "metadata": {},
     "output_type": "execute_result"
    }
   ],
   "source": [
    "sklearn.__version__"
   ]
  },
  {
   "cell_type": "code",
   "execution_count": 372,
   "metadata": {},
   "outputs": [
    {
     "data": {
      "text/plain": [
       "(15042, 23)"
      ]
     },
     "execution_count": 372,
     "metadata": {},
     "output_type": "execute_result"
    }
   ],
   "source": [
    "cut_df.shape"
   ]
  },
  {
   "cell_type": "code",
   "execution_count": 373,
   "metadata": {
    "collapsed": true
   },
   "outputs": [],
   "source": [
    "# これでNANがあれば取り除ける\n",
    "cut_df = cut_df.dropna()"
   ]
  },
  {
   "cell_type": "code",
   "execution_count": 374,
   "metadata": {},
   "outputs": [
    {
     "data": {
      "text/plain": [
       "(15042, 23)"
      ]
     },
     "execution_count": 374,
     "metadata": {},
     "output_type": "execute_result"
    }
   ],
   "source": [
    "cut_df.shape"
   ]
  },
  {
   "cell_type": "markdown",
   "metadata": {},
   "source": [
    "なに、欠損値がこれで減っていない...だと... つまり見えないところにはNANではなく何かしらの違う数値が入っている。"
   ]
  },
  {
   "cell_type": "markdown",
   "metadata": {},
   "source": [
    "### まずはAAAI(転職回数)を綺麗にする"
   ]
  },
  {
   "cell_type": "code",
   "execution_count": 375,
   "metadata": {},
   "outputs": [
    {
     "data": {
      "text/plain": [
       "     4938\n",
       "6    3377\n",
       "1    1650\n",
       "5    1638\n",
       "3    1421\n",
       "2    1335\n",
       "4     683\n",
       "Name: AAAI, dtype: int64"
      ]
     },
     "execution_count": 375,
     "metadata": {},
     "output_type": "execute_result"
    }
   ],
   "source": [
    "cut_df[\"AAAI\"].value_counts()"
   ]
  },
  {
   "cell_type": "code",
   "execution_count": 376,
   "metadata": {
    "collapsed": true
   },
   "outputs": [],
   "source": [
    "cut_df.loc[cut_df.AAAI == \" \", \"AAAI\"] = 0  # AAAI 転職回数の欠損値を埋める\n",
    "cut_df.loc[cut_df.AAAI == \"6\", \"AAAI\"] = 0  # アンケートによると6は転職したことがない人らしい"
   ]
  },
  {
   "cell_type": "code",
   "execution_count": 377,
   "metadata": {
    "collapsed": true
   },
   "outputs": [],
   "source": [
    "# なんと恐ろしいことに1 ~ 5はstr型になっているのでそれを直す\n",
    "a = [\"0\", \"1\", \"2\", \"3\", \"4\", \"5\"]\n",
    "for aa in a:\n",
    "    cut_df.loc[cut_df.AAAI == aa, \"AAAI\"] = int(aa)"
   ]
  },
  {
   "cell_type": "code",
   "execution_count": 422,
   "metadata": {},
   "outputs": [
    {
     "data": {
      "text/html": [
       "<div>\n",
       "<style scoped>\n",
       "    .dataframe tbody tr th:only-of-type {\n",
       "        vertical-align: middle;\n",
       "    }\n",
       "\n",
       "    .dataframe tbody tr th {\n",
       "        vertical-align: top;\n",
       "    }\n",
       "\n",
       "    .dataframe thead th {\n",
       "        text-align: right;\n",
       "    }\n",
       "</style>\n",
       "<table border=\"1\" class=\"dataframe\">\n",
       "  <thead>\n",
       "    <tr style=\"text-align: right;\">\n",
       "      <th></th>\n",
       "      <th>AAF2</th>\n",
       "      <th>AAAI</th>\n",
       "      <th>AAAY_weight</th>\n",
       "      <th>AABA_weight</th>\n",
       "      <th>AABB_weight</th>\n",
       "      <th>AABC_weight</th>\n",
       "      <th>CEAH</th>\n",
       "      <th>CEAI</th>\n",
       "      <th>AABD</th>\n",
       "      <th>CAAB#1_weight</th>\n",
       "      <th>...</th>\n",
       "      <th>CDAE#4_weight</th>\n",
       "      <th>CGAF</th>\n",
       "      <th>CGAK#2</th>\n",
       "      <th>CGAN#2_weight</th>\n",
       "      <th>CHAA</th>\n",
       "      <th>DBAB#1_weight</th>\n",
       "      <th>DBAB#8_weight</th>\n",
       "      <th>DBAB#9_weight</th>\n",
       "      <th>DBAB#10_weight</th>\n",
       "      <th>HDAB#1_weight</th>\n",
       "    </tr>\n",
       "  </thead>\n",
       "  <tbody>\n",
       "    <tr>\n",
       "      <th>0</th>\n",
       "      <td>17</td>\n",
       "      <td>0</td>\n",
       "      <td>2.5</td>\n",
       "      <td>0</td>\n",
       "      <td>0</td>\n",
       "      <td>0</td>\n",
       "      <td>4</td>\n",
       "      <td>3</td>\n",
       "      <td>5</td>\n",
       "      <td>0</td>\n",
       "      <td>...</td>\n",
       "      <td>25000</td>\n",
       "      <td>6</td>\n",
       "      <td>9</td>\n",
       "      <td>0</td>\n",
       "      <td>2</td>\n",
       "      <td>150</td>\n",
       "      <td>150</td>\n",
       "      <td>0</td>\n",
       "      <td>150</td>\n",
       "      <td>210</td>\n",
       "    </tr>\n",
       "    <tr>\n",
       "      <th>1</th>\n",
       "      <td>56</td>\n",
       "      <td>0</td>\n",
       "      <td>5.5</td>\n",
       "      <td>1350</td>\n",
       "      <td>950</td>\n",
       "      <td>900</td>\n",
       "      <td>2</td>\n",
       "      <td>3</td>\n",
       "      <td>6</td>\n",
       "      <td>0</td>\n",
       "      <td>...</td>\n",
       "      <td>40000</td>\n",
       "      <td>1</td>\n",
       "      <td>11</td>\n",
       "      <td>6.5</td>\n",
       "      <td>3</td>\n",
       "      <td>150</td>\n",
       "      <td>0</td>\n",
       "      <td>0</td>\n",
       "      <td>0</td>\n",
       "      <td>22.5</td>\n",
       "    </tr>\n",
       "    <tr>\n",
       "      <th>2</th>\n",
       "      <td>48</td>\n",
       "      <td>0</td>\n",
       "      <td>0.75</td>\n",
       "      <td>1350</td>\n",
       "      <td>1350</td>\n",
       "      <td>250</td>\n",
       "      <td>3</td>\n",
       "      <td>3</td>\n",
       "      <td>6</td>\n",
       "      <td>4</td>\n",
       "      <td>...</td>\n",
       "      <td>1500</td>\n",
       "      <td>5</td>\n",
       "      <td>8</td>\n",
       "      <td>0.2</td>\n",
       "      <td>3</td>\n",
       "      <td>22.5</td>\n",
       "      <td>22.5</td>\n",
       "      <td>0</td>\n",
       "      <td>0</td>\n",
       "      <td>37.5</td>\n",
       "    </tr>\n",
       "    <tr>\n",
       "      <th>3</th>\n",
       "      <td>19</td>\n",
       "      <td>0</td>\n",
       "      <td>3.5</td>\n",
       "      <td>0</td>\n",
       "      <td>0</td>\n",
       "      <td>0</td>\n",
       "      <td>2</td>\n",
       "      <td>2</td>\n",
       "      <td>8</td>\n",
       "      <td>0</td>\n",
       "      <td>...</td>\n",
       "      <td>1500</td>\n",
       "      <td>5</td>\n",
       "      <td>8</td>\n",
       "      <td>0</td>\n",
       "      <td>2</td>\n",
       "      <td>210</td>\n",
       "      <td>150</td>\n",
       "      <td>52.5</td>\n",
       "      <td>90</td>\n",
       "      <td>210</td>\n",
       "    </tr>\n",
       "    <tr>\n",
       "      <th>4</th>\n",
       "      <td>44</td>\n",
       "      <td>2</td>\n",
       "      <td>2.5</td>\n",
       "      <td>250</td>\n",
       "      <td>250</td>\n",
       "      <td>250</td>\n",
       "      <td>3</td>\n",
       "      <td>3</td>\n",
       "      <td>6</td>\n",
       "      <td>2</td>\n",
       "      <td>...</td>\n",
       "      <td>1500</td>\n",
       "      <td>4</td>\n",
       "      <td>6</td>\n",
       "      <td>6.5</td>\n",
       "      <td>4</td>\n",
       "      <td>210</td>\n",
       "      <td>52.5</td>\n",
       "      <td>0</td>\n",
       "      <td>7.5</td>\n",
       "      <td>150</td>\n",
       "    </tr>\n",
       "  </tbody>\n",
       "</table>\n",
       "<p>5 rows × 23 columns</p>\n",
       "</div>"
      ],
      "text/plain": [
       "  AAF2 AAAI AAAY_weight AABA_weight AABB_weight AABC_weight CEAH CEAI AABD  \\\n",
       "0   17    0         2.5           0           0           0    4    3    5   \n",
       "1   56    0         5.5        1350         950         900    2    3    6   \n",
       "2   48    0        0.75        1350        1350         250    3    3    6   \n",
       "3   19    0         3.5           0           0           0    2    2    8   \n",
       "4   44    2         2.5         250         250         250    3    3    6   \n",
       "\n",
       "  CAAB#1_weight      ...      CDAE#4_weight CGAF CGAK#2 CGAN#2_weight CHAA  \\\n",
       "0             0      ...              25000    6      9             0    2   \n",
       "1             0      ...              40000    1     11           6.5    3   \n",
       "2             4      ...               1500    5      8           0.2    3   \n",
       "3             0      ...               1500    5      8             0    2   \n",
       "4             2      ...               1500    4      6           6.5    4   \n",
       "\n",
       "  DBAB#1_weight DBAB#8_weight DBAB#9_weight DBAB#10_weight HDAB#1_weight  \n",
       "0           150           150             0            150           210  \n",
       "1           150             0             0              0          22.5  \n",
       "2          22.5          22.5             0              0          37.5  \n",
       "3           210           150          52.5             90           210  \n",
       "4           210          52.5             0            7.5           150  \n",
       "\n",
       "[5 rows x 23 columns]"
      ]
     },
     "execution_count": 422,
     "metadata": {},
     "output_type": "execute_result"
    }
   ],
   "source": [
    "cut_df.head()"
   ]
  },
  {
   "cell_type": "code",
   "execution_count": 379,
   "metadata": {},
   "outputs": [
    {
     "data": {
      "text/plain": [
       "0    8315\n",
       "1    1650\n",
       "5    1638\n",
       "3    1421\n",
       "2    1335\n",
       "4     683\n",
       "Name: AAAI, dtype: int64"
      ]
     },
     "execution_count": 379,
     "metadata": {},
     "output_type": "execute_result"
    }
   ],
   "source": [
    "## というわけでAAAIは綺麗になった\n",
    "cut_df[\"AAAI\"].value_counts()"
   ]
  },
  {
   "cell_type": "code",
   "execution_count": 380,
   "metadata": {},
   "outputs": [
    {
     "data": {
      "text/plain": [
       "[]"
      ]
     },
     "execution_count": 380,
     "metadata": {},
     "output_type": "execute_result"
    },
    {
     "data": {
      "image/png": "[encoded data removed]",
      "text/plain": [
       "<Figure size 432x288 with 1 Axes>"
      ]
     },
     "metadata": {},
     "output_type": "display_data"
    }
   ],
   "source": [
    "## ヒストグラムにするとこんな感じ\n",
    "plt.hist(list(cut_df[\"AAAI\"]), align=\"mid\", bins=6, rwidth=0.8, range=[-0.5, 5.5])\n",
    "plt.xlabel(\"the number of changing jobs\")\n",
    "plt.ylabel(\"counts\")\n",
    "plt.plot()"
   ]
  },
  {
   "cell_type": "markdown",
   "metadata": {},
   "source": [
    "### ちょっと埒が明かないので一括でやることにする"
   ]
  },
  {
   "cell_type": "code",
   "execution_count": 425,
   "metadata": {
    "collapsed": true
   },
   "outputs": [],
   "source": [
    "mat = cut_df.values"
   ]
  },
  {
   "cell_type": "code",
   "execution_count": 426,
   "metadata": {},
   "outputs": [
    {
     "data": {
      "text/plain": [
       "(15042, 23)"
      ]
     },
     "execution_count": 426,
     "metadata": {},
     "output_type": "execute_result"
    }
   ],
   "source": [
    "mat.shape"
   ]
  },
  {
   "cell_type": "code",
   "execution_count": 427,
   "metadata": {},
   "outputs": [
    {
     "data": {
      "text/plain": [
       "array(['17', ' ', '2.5', ' ', ' ', ' ', '4', '3', '5', ' ', '4000',\n",
       "       '6500', '9000', '25000', '6', '9', ' ', '2', '150', '150', '0',\n",
       "       '150', '210'], dtype=object)"
      ]
     },
     "execution_count": 427,
     "metadata": {},
     "output_type": "execute_result"
    }
   ],
   "source": [
    "mat[0]"
   ]
  },
  {
   "cell_type": "code",
   "execution_count": 430,
   "metadata": {
    "collapsed": true
   },
   "outputs": [],
   "source": [
    "for i in range(len(mat)):\n",
    "    for j in range(len(mat[i])):\n",
    "        # \" \"という空白データは一旦全て0としてしまう. あとでこれで良いか考えよう\n",
    "        if mat[i][j] == \" \":\n",
    "            mat[i][j] = np.float(0)\n",
    "        else:\n",
    "            mat[i][j] = np.float(mat[i][j])"
   ]
  },
  {
   "cell_type": "code",
   "execution_count": 431,
   "metadata": {},
   "outputs": [
    {
     "data": {
      "text/plain": [
       "array([17.0, 0.0, 2.5, 0.0, 0.0, 0.0, 4.0, 3.0, 5.0, 0.0, 4000.0, 6500.0,\n",
       "       9000.0, 25000.0, 6.0, 9.0, 0.0, 2.0, 150.0, 150.0, 0.0, 150.0,\n",
       "       210.0], dtype=object)"
      ]
     },
     "execution_count": 431,
     "metadata": {},
     "output_type": "execute_result"
    }
   ],
   "source": [
    "mat[0]"
   ]
  },
  {
   "cell_type": "code",
   "execution_count": 432,
   "metadata": {},
   "outputs": [
    {
     "data": {
      "text/plain": [
       "(15042, 23)"
      ]
     },
     "execution_count": 432,
     "metadata": {},
     "output_type": "execute_result"
    }
   ],
   "source": [
    "mat.shape"
   ]
  },
  {
   "cell_type": "code",
   "execution_count": 433,
   "metadata": {},
   "outputs": [
    {
     "data": {
      "text/plain": [
       "float"
      ]
     },
     "execution_count": 433,
     "metadata": {},
     "output_type": "execute_result"
    }
   ],
   "source": [
    "type(mat[0][0])"
   ]
  },
  {
   "cell_type": "code",
   "execution_count": 437,
   "metadata": {
    "collapsed": true
   },
   "outputs": [],
   "source": [
    "# この変換がないとnp.stdがバグる\n",
    "mat = np.array(mat, dtype=np.float64)"
   ]
  },
  {
   "cell_type": "code",
   "execution_count": 438,
   "metadata": {
    "collapsed": true
   },
   "outputs": [],
   "source": [
    "mat = zscore(mat, axis=0)"
   ]
  },
  {
   "cell_type": "code",
   "execution_count": 439,
   "metadata": {},
   "outputs": [
    {
     "data": {
      "text/plain": [
       "array([-1.74023864, -1.0924228 ,  0.03051469, -1.30345991, -0.95154328,\n",
       "       -0.51373397,  1.23010901, -0.20035845, -0.89910279, -0.7122339 ,\n",
       "       -0.22194848, -0.37177189, -0.47099652,  0.12732754,  1.01480265,\n",
       "        0.52560676, -0.66971758, -1.18507039, -0.24974666, -0.03294903,\n",
       "       -0.34655336,  1.52601185,  0.16448712])"
      ]
     },
     "execution_count": 439,
     "metadata": {},
     "output_type": "execute_result"
    }
   ],
   "source": [
    "mat[0]"
   ]
  },
  {
   "cell_type": "markdown",
   "metadata": {},
   "source": [
    "という感じで「人」を23次元の変数の塊として表現することができるようになった."
   ]
  },
  {
   "cell_type": "markdown",
   "metadata": {},
   "source": [
    "#### ちなみに・・・"
   ]
  },
  {
   "cell_type": "code",
   "execution_count": 393,
   "metadata": {
    "collapsed": true
   },
   "outputs": [],
   "source": [
    "a = np.array([[1, 3, 4], [2, 3, 6]])"
   ]
  },
  {
   "cell_type": "code",
   "execution_count": 394,
   "metadata": {},
   "outputs": [
    {
     "data": {
      "text/plain": [
       "array([[1, 3, 4],\n",
       "       [2, 3, 6]])"
      ]
     },
     "execution_count": 394,
     "metadata": {},
     "output_type": "execute_result"
    }
   ],
   "source": [
    "a"
   ]
  },
  {
   "cell_type": "code",
   "execution_count": 396,
   "metadata": {},
   "outputs": [
    {
     "data": {
      "text/plain": [
       "array([[-0.99998,  0.     , -0.99999],\n",
       "       [ 0.99998,  0.     ,  0.99999]])"
      ]
     },
     "execution_count": 396,
     "metadata": {},
     "output_type": "execute_result"
    }
   ],
   "source": [
    "zscore(a, axis=0)  # 列ごとに標準化"
   ]
  },
  {
   "cell_type": "code",
   "execution_count": 397,
   "metadata": {},
   "outputs": [
    {
     "data": {
      "text/plain": [
       "array([[-1.3362955 ,  0.2672591 ,  1.0690364 ],\n",
       "       [-0.98057491, -0.39222996,  1.37280487]])"
      ]
     },
     "execution_count": 397,
     "metadata": {},
     "output_type": "execute_result"
    }
   ],
   "source": [
    "zscore(a, axis=1)  # 行ごとに標準化"
   ]
  },
  {
   "cell_type": "markdown",
   "metadata": {},
   "source": [
    "### ではGraphical LASSOをやってみよう"
   ]
  },
  {
   "cell_type": "code",
   "execution_count": 453,
   "metadata": {
    "collapsed": true
   },
   "outputs": [],
   "source": [
    "from sklearn.covariance import GraphLasso"
   ]
  },
  {
   "cell_type": "code",
   "execution_count": 454,
   "metadata": {},
   "outputs": [
    {
     "data": {
      "text/plain": [
       "15042"
      ]
     },
     "execution_count": 454,
     "metadata": {},
     "output_type": "execute_result"
    }
   ],
   "source": [
    "len(mat)"
   ]
  },
  {
   "cell_type": "code",
   "execution_count": 455,
   "metadata": {
    "collapsed": true
   },
   "outputs": [],
   "source": [
    "# まず標本共分散行列(今は各列ごとに標準化しているので相関係数)を見てみる\n",
    "emp_cov = np.dot(mat.T, mat) / len(mat)"
   ]
  },
  {
   "cell_type": "code",
   "execution_count": 456,
   "metadata": {},
   "outputs": [
    {
     "data": {
      "text/plain": [
       "(23, 23)"
      ]
     },
     "execution_count": 456,
     "metadata": {},
     "output_type": "execute_result"
    }
   ],
   "source": [
    "emp_cov.shape"
   ]
  },
  {
   "cell_type": "code",
   "execution_count": 457,
   "metadata": {
    "scrolled": true
   },
   "outputs": [
    {
     "data": {
      "text/plain": [
       "array([[ 1.0e+00,  1.2e-01,  1.2e-01,  3.6e-01,  3.0e-01,  3.2e-01,\n",
       "        -3.3e-02,  9.7e-02,  4.0e-02,  7.6e-02,  1.0e-01,  7.2e-02,\n",
       "         1.5e-01,  1.5e-01, -2.4e-01,  2.0e-01,  3.2e-01,  5.8e-02,\n",
       "         1.9e-01, -1.4e-02, -1.7e-01, -2.3e-01, -5.1e-02],\n",
       "       [ 1.2e-01,  1.0e+00,  1.9e-01,  2.7e-01,  4.4e-01,  3.3e-02,\n",
       "        -2.4e-03, -2.1e-02, -3.3e-02,  6.2e-02,  3.7e-02,  2.8e-02,\n",
       "         8.3e-02,  3.0e-02,  1.2e-01,  7.8e-04,  1.2e-01, -2.2e-02,\n",
       "         1.0e-02, -9.4e-03, -1.8e-02, -3.8e-02, -7.2e-02],\n",
       "       [ 1.2e-01,  1.9e-01,  1.0e+00,  3.1e-01,  3.7e-01,  2.2e-01,\n",
       "        -2.4e-01, -1.4e-01,  9.0e-02,  2.2e-01,  1.9e-01,  2.2e-01,\n",
       "         2.4e-01,  1.8e-01,  1.3e-01, -1.8e-02,  1.5e-01, -1.1e-01,\n",
       "         3.0e-02,  3.5e-02, -3.2e-02, -5.9e-02,  2.1e-02],\n",
       "       [ 3.6e-01,  2.7e-01,  3.1e-01,  1.0e+00,  5.9e-01,  3.7e-01,\n",
       "        -2.7e-01, -1.1e-01,  1.7e-01,  1.8e-01,  1.9e-01,  2.5e-01,\n",
       "         2.9e-01,  2.4e-01, -8.5e-02,  3.5e-02,  1.8e-01, -8.1e-02,\n",
       "         5.0e-02, -1.0e-01, -1.0e-01, -1.2e-01, -1.1e-01],\n",
       "       [ 3.0e-01,  4.4e-01,  3.7e-01,  5.9e-01,  1.0e+00,  2.8e-01,\n",
       "        -1.6e-01, -6.6e-02,  6.7e-02,  1.7e-01,  1.6e-01,  1.3e-01,\n",
       "         2.7e-01,  1.4e-01,  2.4e-01,  9.5e-03,  2.4e-01, -8.0e-02,\n",
       "         1.4e-02, -3.9e-02, -6.9e-02, -1.1e-01, -7.9e-02],\n",
       "       [ 3.2e-01,  3.3e-02,  2.2e-01,  3.7e-01,  2.8e-01,  1.0e+00,\n",
       "        -2.7e-01, -6.5e-02,  1.1e-01,  1.7e-01,  1.8e-01,  1.6e-01,\n",
       "         1.9e-01,  2.3e-01, -9.2e-02,  1.0e-01,  1.2e-01, -6.2e-02,\n",
       "         1.7e-02, -9.6e-03, -6.0e-02, -1.1e-01, -9.9e-04],\n",
       "       [-3.3e-02, -2.4e-03, -2.4e-01, -2.7e-01, -1.6e-01, -2.7e-01,\n",
       "         1.0e+00,  3.9e-01, -3.6e-01, -1.7e-01, -1.2e-01, -1.5e-01,\n",
       "        -1.5e-01, -1.3e-01,  3.5e-02, -2.8e-03, -5.3e-02,  2.5e-01,\n",
       "         1.4e-02,  7.0e-02,  3.1e-02,  5.2e-02,  6.0e-02],\n",
       "       [ 9.7e-02, -2.1e-02, -1.4e-01, -1.1e-01, -6.6e-02, -6.5e-02,\n",
       "         3.9e-01,  1.0e+00, -3.3e-01, -8.2e-02, -5.0e-02, -6.1e-02,\n",
       "        -5.3e-02, -4.4e-02, -2.5e-03,  3.7e-02, -1.3e-02,  2.2e-01,\n",
       "         2.3e-02,  4.2e-02, -1.1e-02, -2.0e-03,  3.7e-02],\n",
       "       [ 4.0e-02, -3.3e-02,  9.0e-02,  1.7e-01,  6.7e-02,  1.1e-01,\n",
       "        -3.6e-01, -3.3e-01,  1.0e+00,  1.3e-01,  5.2e-02,  9.0e-02,\n",
       "         8.2e-02,  7.4e-02, -7.2e-02, -2.2e-02,  4.2e-02, -3.0e-01,\n",
       "         1.8e-02, -1.4e-01, -6.8e-02, -4.5e-02, -1.2e-01],\n",
       "       [ 7.6e-02,  6.2e-02,  2.2e-01,  1.8e-01,  1.7e-01,  1.7e-01,\n",
       "        -1.7e-01, -8.2e-02,  1.3e-01,  1.0e+00,  1.1e-01,  1.5e-01,\n",
       "         1.5e-01,  1.4e-01, -1.2e-02, -4.4e-02,  7.8e-02, -9.8e-02,\n",
       "         1.4e-02, -2.3e-02, -4.3e-02, -5.1e-02, -2.4e-03],\n",
       "       [ 1.0e-01,  3.7e-02,  1.9e-01,  1.9e-01,  1.6e-01,  1.8e-01,\n",
       "        -1.2e-01, -5.0e-02,  5.2e-02,  1.1e-01,  1.0e+00,  4.2e-01,\n",
       "         2.9e-01,  3.1e-01, -1.2e-02,  3.5e-02,  5.4e-02, -6.5e-02,\n",
       "         1.1e-02, -3.2e-02, -1.5e-02, -4.4e-02, -1.1e-02],\n",
       "       [ 7.2e-02,  2.8e-02,  2.2e-01,  2.5e-01,  1.3e-01,  1.6e-01,\n",
       "        -1.5e-01, -6.1e-02,  9.0e-02,  1.5e-01,  4.2e-01,  1.0e+00,\n",
       "         5.3e-01,  4.8e-01, -9.7e-02,  8.7e-03,  7.1e-02, -6.4e-02,\n",
       "         3.5e-02, -5.8e-02, -4.1e-02, -5.0e-02, -3.2e-02],\n",
       "       [ 1.5e-01,  8.3e-02,  2.4e-01,  2.9e-01,  2.7e-01,  1.9e-01,\n",
       "        -1.5e-01, -5.3e-02,  8.2e-02,  1.5e-01,  2.9e-01,  5.3e-01,\n",
       "         1.0e+00,  5.3e-01, -6.6e-03, -1.3e-02,  1.5e-01, -7.6e-02,\n",
       "         3.6e-02, -6.3e-02, -5.9e-02, -7.8e-02, -4.8e-02],\n",
       "       [ 1.5e-01,  3.0e-02,  1.8e-01,  2.4e-01,  1.4e-01,  2.3e-01,\n",
       "        -1.3e-01, -4.4e-02,  7.4e-02,  1.4e-01,  3.1e-01,  4.8e-01,\n",
       "         5.3e-01,  1.0e+00, -8.9e-02,  2.6e-02,  9.4e-02, -5.5e-02,\n",
       "         4.2e-02, -4.4e-02, -3.6e-02, -6.0e-02, -2.9e-02],\n",
       "       [-2.4e-01,  1.2e-01,  1.3e-01, -8.5e-02,  2.4e-01, -9.2e-02,\n",
       "         3.5e-02, -2.5e-03, -7.2e-02, -1.2e-02, -1.2e-02, -9.7e-02,\n",
       "        -6.6e-03, -8.9e-02,  1.0e+00, -7.7e-02, -5.7e-03, -3.3e-03,\n",
       "        -9.3e-02,  7.4e-02,  7.2e-02,  5.3e-02,  2.4e-02],\n",
       "       [ 2.0e-01,  7.8e-04, -1.8e-02,  3.5e-02,  9.5e-03,  1.0e-01,\n",
       "        -2.8e-03,  3.7e-02, -2.2e-02, -4.4e-02,  3.5e-02,  8.7e-03,\n",
       "        -1.3e-02,  2.6e-02, -7.7e-02,  1.0e+00,  2.5e-02,  3.8e-02,\n",
       "        -4.8e-02,  2.5e-02, -5.8e-02, -1.2e-01, -1.2e-02],\n",
       "       [ 3.2e-01,  1.2e-01,  1.5e-01,  1.8e-01,  2.4e-01,  1.2e-01,\n",
       "        -5.3e-02, -1.3e-02,  4.2e-02,  7.8e-02,  5.4e-02,  7.1e-02,\n",
       "         1.5e-01,  9.4e-02, -5.7e-03,  2.5e-02,  1.0e+00, -4.2e-02,\n",
       "         9.5e-02, -4.3e-03, -4.7e-02, -8.6e-02, -4.1e-03],\n",
       "       [ 5.8e-02, -2.2e-02, -1.1e-01, -8.1e-02, -8.0e-02, -6.2e-02,\n",
       "         2.5e-01,  2.2e-01, -3.0e-01, -9.8e-02, -6.5e-02, -6.4e-02,\n",
       "        -7.6e-02, -5.5e-02, -3.3e-03,  3.8e-02, -4.2e-02,  1.0e+00,\n",
       "         3.2e-02,  1.3e-01,  4.0e-02,  4.1e-02,  1.0e-01],\n",
       "       [ 1.9e-01,  1.0e-02,  3.0e-02,  5.0e-02,  1.4e-02,  1.7e-02,\n",
       "         1.4e-02,  2.3e-02,  1.8e-02,  1.4e-02,  1.1e-02,  3.5e-02,\n",
       "         3.6e-02,  4.2e-02, -9.3e-02, -4.8e-02,  9.5e-02,  3.2e-02,\n",
       "         1.0e+00,  1.5e-01, -2.8e-03,  9.3e-02,  1.2e-01],\n",
       "       [-1.4e-02, -9.4e-03,  3.5e-02, -1.0e-01, -3.9e-02, -9.6e-03,\n",
       "         7.0e-02,  4.2e-02, -1.4e-01, -2.3e-02, -3.2e-02, -5.8e-02,\n",
       "        -6.3e-02, -4.4e-02,  7.4e-02,  2.5e-02, -4.3e-03,  1.3e-01,\n",
       "         1.5e-01,  1.0e+00,  2.1e-01,  1.9e-01,  6.2e-01],\n",
       "       [-1.7e-01, -1.8e-02, -3.2e-02, -1.0e-01, -6.9e-02, -6.0e-02,\n",
       "         3.1e-02, -1.1e-02, -6.8e-02, -4.3e-02, -1.5e-02, -4.1e-02,\n",
       "        -5.9e-02, -3.6e-02,  7.2e-02, -5.8e-02, -4.7e-02,  4.0e-02,\n",
       "        -2.8e-03,  2.1e-01,  1.0e+00,  3.1e-01,  1.9e-01],\n",
       "       [-2.3e-01, -3.8e-02, -5.9e-02, -1.2e-01, -1.1e-01, -1.1e-01,\n",
       "         5.2e-02, -2.0e-03, -4.5e-02, -5.1e-02, -4.4e-02, -5.0e-02,\n",
       "        -7.8e-02, -6.0e-02,  5.3e-02, -1.2e-01, -8.6e-02,  4.1e-02,\n",
       "         9.3e-02,  1.9e-01,  3.1e-01,  1.0e+00,  2.1e-01],\n",
       "       [-5.1e-02, -7.2e-02,  2.1e-02, -1.1e-01, -7.9e-02, -9.9e-04,\n",
       "         6.0e-02,  3.7e-02, -1.2e-01, -2.4e-03, -1.1e-02, -3.2e-02,\n",
       "        -4.8e-02, -2.9e-02,  2.4e-02, -1.2e-02, -4.1e-03,  1.0e-01,\n",
       "         1.2e-01,  6.2e-01,  1.9e-01,  2.1e-01,  1.0e+00]])"
      ]
     },
     "execution_count": 457,
     "metadata": {},
     "output_type": "execute_result"
    }
   ],
   "source": [
    "%precision 1\n",
    "emp_cov"
   ]
  },
  {
   "cell_type": "code",
   "execution_count": 470,
   "metadata": {},
   "outputs": [
    {
     "data": {
      "text/plain": [
       "GraphLasso(alpha=0.1, assume_centered=False, enet_tol=0.0001, max_iter=100,\n",
       "      mode='cd', tol=0.0001, verbose=False)"
      ]
     },
     "execution_count": 470,
     "metadata": {},
     "output_type": "execute_result"
    }
   ],
   "source": [
    "model = GraphLasso(alpha=0.1)\n",
    "model.fit(mat)"
   ]
  },
  {
   "cell_type": "code",
   "execution_count": 492,
   "metadata": {
    "collapsed": true
   },
   "outputs": [],
   "source": [
    "cov = model.covariance_\n",
    "pre = model.precision_"
   ]
  },
  {
   "cell_type": "code",
   "execution_count": 493,
   "metadata": {
    "collapsed": true
   },
   "outputs": [],
   "source": [
    "# 正方行列と X および Y のラベルの行列を渡す\n",
    "def draw_heatmap(data, row_labels, column_labels):\n",
    "    # 描画する\n",
    "    fig, ax = plt.subplots()\n",
    "    heatmap = ax.pcolor(data, cmap=plt.cm.Blues)\n",
    "\n",
    "    ax.set_xticks(np.arange(data.shape[0]) + 0.5, minor=False)\n",
    "    ax.set_yticks(np.arange(data.shape[1]) + 0.5, minor=False)\n",
    "\n",
    "    ax.invert_yaxis()\n",
    "    ax.xaxis.tick_top()\n",
    "\n",
    "    ax.set_xticklabels(row_labels, minor=False)\n",
    "    ax.set_yticklabels(column_labels, minor=False)\n",
    "    plt.show()\n",
    "    plt.savefig('image.png')\n",
    "\n",
    "    return heatmap"
   ]
  },
  {
   "cell_type": "code",
   "execution_count": 495,
   "metadata": {},
   "outputs": [
    {
     "data": {
      "image/png": "[encoded data removed]",
      "text/plain": [
       "<Figure size 432x288 with 1 Axes>"
      ]
     },
     "metadata": {},
     "output_type": "display_data"
    },
    {
     "data": {
      "text/plain": [
       "<matplotlib.collections.PolyCollection at 0x7fce04c21cc0>"
      ]
     },
     "execution_count": 495,
     "metadata": {},
     "output_type": "execute_result"
    },
    {
     "data": {
      "text/plain": [
       "<Figure size 432x288 with 0 Axes>"
      ]
     },
     "metadata": {},
     "output_type": "display_data"
    }
   ],
   "source": [
    "# まずは共分散行列をそのままプロットしてみる\n",
    "a = list(range(23))\n",
    "draw_heatmap(cov, a, a)"
   ]
  },
  {
   "cell_type": "code",
   "execution_count": 496,
   "metadata": {},
   "outputs": [
    {
     "data": {
      "image/png": "[encoded data removed]",
      "text/plain": [
       "<Figure size 432x288 with 1 Axes>"
      ]
     },
     "metadata": {},
     "output_type": "display_data"
    },
    {
     "data": {
      "text/plain": [
       "<matplotlib.collections.PolyCollection at 0x7fcf3bbff860>"
      ]
     },
     "execution_count": 496,
     "metadata": {},
     "output_type": "execute_result"
    },
    {
     "data": {
      "text/plain": [
       "<Figure size 432x288 with 0 Axes>"
      ]
     },
     "metadata": {},
     "output_type": "display_data"
    }
   ],
   "source": [
    "# 次に精度行列(共分散行列の逆行列)を見てみる\n",
    "draw_heatmap(pre, a, a)"
   ]
  },
  {
   "cell_type": "code",
   "execution_count": 500,
   "metadata": {
    "collapsed": true
   },
   "outputs": [],
   "source": [
    "import networkx as nx\n",
    "%precision 3\n",
    "G = nx.Graph()\n",
    "for i in range(len(pre)):\n",
    "    for j in range(len(pre)):\n",
    "        if abs(pre[i][j]) > 0.10:\n",
    "            G.add_edge(i, j)"
   ]
  },
  {
   "cell_type": "code",
   "execution_count": 508,
   "metadata": {},
   "outputs": [
    {
     "data": {
      "image/png": "[encoded data removed]",
      "text/plain": [
       "<Figure size 432x288 with 1 Axes>"
      ]
     },
     "metadata": {},
     "output_type": "display_data"
    }
   ],
   "source": [
    "nx.draw_networkx(G)\n",
    "plt.show()"
   ]
  },
  {
   "cell_type": "code",
   "execution_count": 509,
   "metadata": {},
   "outputs": [
    {
     "name": "stdout",
     "output_type": "stream",
     "text": [
      "0 年齢\n",
      "1 転職回数\n",
      "2 こづかい金額\n",
      "3 世帯年収_weight\n",
      "4 個人年収\n",
      "5 所有資産\n",
      "6 暮らしの余裕(現在)\n",
      "7 暮らし向き変化\n",
      "8 幸福度\n",
      "9 最近1年間の国内での宿泊旅行（仕事・出張以外）\n",
      "10 ファッションにかける金額_洋服\n",
      "11 ファッションにかける金額_バッグや財布などのレザー製品\n",
      "12 ファッションにかける金額_時計\n",
      "13 ファッションにかける金額_ジュエリー・アクセサリー\n",
      "14 料理をする頻度\n",
      "15 店舗利用頻度_マクドナルド\n",
      "16 飲酒頻度_自宅\n",
      "17 健康自信度\n",
      "18 休日のメディア利用時間数_テレビ\n",
      "19 休日のメディア利用時間数_インターネット\n",
      "20 休日のメディア利用時間数_据え置きゲーム\n",
      "21 休日のメディア利用時間数_ソシャゲ\n",
      "22 平日のインターネット利用時間数\n"
     ]
    }
   ],
   "source": [
    "for j, a in enumerate(list(column_dic.values())):\n",
    "    print(j, a)"
   ]
  },
  {
   "cell_type": "code",
   "execution_count": 5,
   "metadata": {
    "collapsed": true
   },
   "outputs": [],
   "source": [
    "from IPython.display import display_svg"
   ]
  },
  {
   "cell_type": "code",
   "execution_count": 504,
   "metadata": {},
   "outputs": [
    {
     "ename": "ImportError",
     "evalue": "('requires pygraphviz ', 'http://pygraphviz.github.io/')",
     "output_type": "error",
     "traceback": [
      "\u001b[0;31m---------------------------------------------------------------------------\u001b[0m",
      "\u001b[0;31mModuleNotFoundError\u001b[0m                       Traceback (most recent call last)",
      "\u001b[0;32m/opt/aapf/1.2.0/python_env/py3/lib/python3.6/site-packages/networkx/drawing/nx_agraph.py\u001b[0m in \u001b[0;36mto_agraph\u001b[0;34m(N)\u001b[0m\n\u001b[1;32m    134\u001b[0m     \u001b[0;32mtry\u001b[0m\u001b[0;34m:\u001b[0m\u001b[0;34m\u001b[0m\u001b[0m\n\u001b[0;32m--> 135\u001b[0;31m         \u001b[0;32mimport\u001b[0m \u001b[0mpygraphviz\u001b[0m\u001b[0;34m\u001b[0m\u001b[0m\n\u001b[0m\u001b[1;32m    136\u001b[0m     \u001b[0;32mexcept\u001b[0m \u001b[0mImportError\u001b[0m\u001b[0;34m:\u001b[0m\u001b[0;34m\u001b[0m\u001b[0m\n",
      "\u001b[0;31mModuleNotFoundError\u001b[0m: No module named 'pygraphviz'",
      "\nDuring handling of the above exception, another exception occurred:\n",
      "\u001b[0;31mImportError\u001b[0m                               Traceback (most recent call last)",
      "\u001b[0;32m<ipython-input-504-6d7b5535625a>\u001b[0m in \u001b[0;36m<module>\u001b[0;34m()\u001b[0m\n\u001b[0;32m----> 1\u001b[0;31m \u001b[0msvg\u001b[0m \u001b[0;34m=\u001b[0m \u001b[0mnx\u001b[0m\u001b[0;34m.\u001b[0m\u001b[0mnx_agraph\u001b[0m\u001b[0;34m.\u001b[0m\u001b[0mto_agraph\u001b[0m\u001b[0;34m(\u001b[0m\u001b[0mG\u001b[0m\u001b[0;34m)\u001b[0m\u001b[0;34m.\u001b[0m\u001b[0mdraw\u001b[0m\u001b[0;34m(\u001b[0m\u001b[0mprog\u001b[0m\u001b[0;34m=\u001b[0m\u001b[0;34m'fdp'\u001b[0m\u001b[0;34m,\u001b[0m \u001b[0mformat\u001b[0m\u001b[0;34m=\u001b[0m\u001b[0;34m'svg'\u001b[0m\u001b[0;34m)\u001b[0m\u001b[0;34m\u001b[0m\u001b[0m\n\u001b[0m\u001b[1;32m      2\u001b[0m \u001b[0mdisplay_svg\u001b[0m\u001b[0;34m(\u001b[0m\u001b[0msvg\u001b[0m\u001b[0;34m,\u001b[0m \u001b[0mraw\u001b[0m\u001b[0;34m=\u001b[0m\u001b[0;32mTrue\u001b[0m\u001b[0;34m)\u001b[0m\u001b[0;34m\u001b[0m\u001b[0m\n",
      "\u001b[0;32m/opt/aapf/1.2.0/python_env/py3/lib/python3.6/site-packages/networkx/drawing/nx_agraph.py\u001b[0m in \u001b[0;36mto_agraph\u001b[0;34m(N)\u001b[0m\n\u001b[1;32m    136\u001b[0m     \u001b[0;32mexcept\u001b[0m \u001b[0mImportError\u001b[0m\u001b[0;34m:\u001b[0m\u001b[0;34m\u001b[0m\u001b[0m\n\u001b[1;32m    137\u001b[0m         raise ImportError('requires pygraphviz ',\n\u001b[0;32m--> 138\u001b[0;31m                           'http://pygraphviz.github.io/')\n\u001b[0m\u001b[1;32m    139\u001b[0m     \u001b[0mdirected\u001b[0m \u001b[0;34m=\u001b[0m \u001b[0mN\u001b[0m\u001b[0;34m.\u001b[0m\u001b[0mis_directed\u001b[0m\u001b[0;34m(\u001b[0m\u001b[0;34m)\u001b[0m\u001b[0;34m\u001b[0m\u001b[0m\n\u001b[1;32m    140\u001b[0m     \u001b[0mstrict\u001b[0m \u001b[0;34m=\u001b[0m \u001b[0mnx\u001b[0m\u001b[0;34m.\u001b[0m\u001b[0mnumber_of_selfloops\u001b[0m\u001b[0;34m(\u001b[0m\u001b[0mN\u001b[0m\u001b[0;34m)\u001b[0m \u001b[0;34m==\u001b[0m \u001b[0;36m0\u001b[0m \u001b[0;32mand\u001b[0m \u001b[0;32mnot\u001b[0m \u001b[0mN\u001b[0m\u001b[0;34m.\u001b[0m\u001b[0mis_multigraph\u001b[0m\u001b[0;34m(\u001b[0m\u001b[0;34m)\u001b[0m\u001b[0;34m\u001b[0m\u001b[0m\n",
      "\u001b[0;31mImportError\u001b[0m: ('requires pygraphviz ', 'http://pygraphviz.github.io/')"
     ]
    }
   ],
   "source": [
    "svg = nx.nx_agraph.to_agraph(G).draw(prog='fdp', format='svg')\n",
    "display_svg(svg, raw=True)"
   ]
  },
  {
   "cell_type": "code",
   "execution_count": 2,
   "metadata": {
    "collapsed": true
   },
   "outputs": [],
   "source": [
    "pre = np.load(\"pre.npy\")"
   ]
  },
  {
   "cell_type": "code",
   "execution_count": 3,
   "metadata": {
    "collapsed": true
   },
   "outputs": [],
   "source": [
    "import networkx as nx"
   ]
  },
  {
   "cell_type": "code",
   "execution_count": 4,
   "metadata": {
    "collapsed": true
   },
   "outputs": [],
   "source": [
    "G = nx.Graph()\n",
    "for i in range(len(pre)):\n",
    "    for j in range(len(pre)):\n",
    "        if i == j:\n",
    "            continue\n",
    "        if abs(pre[i][j]) > 0.10:\n",
    "            G.add_edge(i, j)"
   ]
  },
  {
   "cell_type": "code",
   "execution_count": 5,
   "metadata": {
    "collapsed": true
   },
   "outputs": [],
   "source": [
    "from IPython.display import display_svg"
   ]
  },
  {
   "cell_type": "code",
   "execution_count": 6,
   "metadata": {},
   "outputs": [
    {
     "data": {
      "image/svg+xml": [
       "<?xml version=\"1.0\" encoding=\"UTF-8\" standalone=\"no\"?>\n",
       "<!DOCTYPE svg PUBLIC \"-//W3C//DTD SVG 1.1//EN\"\n",
       " \"http://www.w3.org/Graphics/SVG/1.1/DTD/svg11.dtd\">\n",
       "<!-- Generated by graphviz version 2.40.1 (20161225.0304)\n",
       " -->\n",
       "<!-- Pages: 1 -->\n",
       "<svg width=\"518pt\" height=\"377pt\"\n",
       " viewBox=\"0.00 0.00 518.00 377.00\" xmlns=\"http://www.w3.org/2000/svg\" xmlns:xlink=\"http://www.w3.org/1999/xlink\">\n",
       "<g id=\"graph0\" class=\"graph\" transform=\"scale(1 1) rotate(0) translate(4 373)\">\n",
       "<polygon fill=\"#ffffff\" stroke=\"transparent\" points=\"-4,4 -4,-373 514,-373 514,4 -4,4\"/>\n",
       "<!-- 0 -->\n",
       "<g id=\"node1\" class=\"node\">\n",
       "<title>0</title>\n",
       "<ellipse fill=\"none\" stroke=\"#000000\" cx=\"164.1905\" cy=\"-186.3734\" rx=\"27\" ry=\"18\"/>\n",
       "<text text-anchor=\"middle\" x=\"164.1905\" y=\"-182.1734\" font-family=\"Times,serif\" font-size=\"14.00\" fill=\"#000000\">0</text>\n",
       "</g>\n",
       "<!-- 3 -->\n",
       "<g id=\"node2\" class=\"node\">\n",
       "<title>3</title>\n",
       "<ellipse fill=\"none\" stroke=\"#000000\" cx=\"236.1001\" cy=\"-148.5285\" rx=\"27\" ry=\"18\"/>\n",
       "<text text-anchor=\"middle\" x=\"236.1001\" y=\"-144.3285\" font-family=\"Times,serif\" font-size=\"14.00\" fill=\"#000000\">3</text>\n",
       "</g>\n",
       "<!-- 0&#45;&#45;3 -->\n",
       "<g id=\"edge1\" class=\"edge\">\n",
       "<title>0&#45;&#45;3</title>\n",
       "<path fill=\"none\" stroke=\"#000000\" d=\"M185.7658,-175.0187C194.8671,-170.2288 205.4403,-164.6643 214.5401,-159.8752\"/>\n",
       "</g>\n",
       "<!-- 4 -->\n",
       "<g id=\"node3\" class=\"node\">\n",
       "<title>4</title>\n",
       "<ellipse fill=\"none\" stroke=\"#000000\" cx=\"129.4606\" cy=\"-140.4375\" rx=\"27\" ry=\"18\"/>\n",
       "<text text-anchor=\"middle\" x=\"129.4606\" y=\"-136.2375\" font-family=\"Times,serif\" font-size=\"14.00\" fill=\"#000000\">4</text>\n",
       "</g>\n",
       "<!-- 0&#45;&#45;4 -->\n",
       "<g id=\"edge2\" class=\"edge\">\n",
       "<title>0&#45;&#45;4</title>\n",
       "<path fill=\"none\" stroke=\"#000000\" d=\"M151.8483,-170.0488C148.5728,-165.7165 145.0365,-161.0391 141.7631,-156.7096\"/>\n",
       "</g>\n",
       "<!-- 5 -->\n",
       "<g id=\"node4\" class=\"node\">\n",
       "<title>5</title>\n",
       "<ellipse fill=\"none\" stroke=\"#000000\" cx=\"233.8294\" cy=\"-244.7912\" rx=\"27\" ry=\"18\"/>\n",
       "<text text-anchor=\"middle\" x=\"233.8294\" y=\"-240.5912\" font-family=\"Times,serif\" font-size=\"14.00\" fill=\"#000000\">5</text>\n",
       "</g>\n",
       "<!-- 0&#45;&#45;5 -->\n",
       "<g id=\"edge3\" class=\"edge\">\n",
       "<title>0&#45;&#45;5</title>\n",
       "<path fill=\"none\" stroke=\"#000000\" d=\"M181.0481,-200.5147C191.8361,-209.5644 205.7918,-221.2713 216.6432,-230.3743\"/>\n",
       "</g>\n",
       "<!-- 14 -->\n",
       "<g id=\"node5\" class=\"node\">\n",
       "<title>14</title>\n",
       "<ellipse fill=\"none\" stroke=\"#000000\" cx=\"137.2749\" cy=\"-233.7187\" rx=\"27\" ry=\"18\"/>\n",
       "<text text-anchor=\"middle\" x=\"137.2749\" y=\"-229.5187\" font-family=\"Times,serif\" font-size=\"14.00\" fill=\"#000000\">14</text>\n",
       "</g>\n",
       "<!-- 0&#45;&#45;14 -->\n",
       "<g id=\"edge4\" class=\"edge\">\n",
       "<title>0&#45;&#45;14</title>\n",
       "<path fill=\"none\" stroke=\"#000000\" d=\"M154.4734,-203.4661C152.0039,-207.8101 149.3518,-212.4751 146.8876,-216.8098\"/>\n",
       "</g>\n",
       "<!-- 16 -->\n",
       "<g id=\"node6\" class=\"node\">\n",
       "<title>16</title>\n",
       "<ellipse fill=\"none\" stroke=\"#000000\" cx=\"72.3063\" cy=\"-207.3666\" rx=\"27\" ry=\"18\"/>\n",
       "<text text-anchor=\"middle\" x=\"72.3063\" y=\"-203.1666\" font-family=\"Times,serif\" font-size=\"14.00\" fill=\"#000000\">16</text>\n",
       "</g>\n",
       "<!-- 0&#45;&#45;16 -->\n",
       "<g id=\"edge5\" class=\"edge\">\n",
       "<title>0&#45;&#45;16</title>\n",
       "<path fill=\"none\" stroke=\"#000000\" d=\"M138.5956,-192.2212C125.9576,-195.1087 110.7452,-198.5843 98.0826,-201.4774\"/>\n",
       "</g>\n",
       "<!-- 21 -->\n",
       "<g id=\"node7\" class=\"node\">\n",
       "<title>21</title>\n",
       "<ellipse fill=\"none\" stroke=\"#000000\" cx=\"209.3851\" cy=\"-88.0528\" rx=\"27\" ry=\"18\"/>\n",
       "<text text-anchor=\"middle\" x=\"209.3851\" y=\"-83.8528\" font-family=\"Times,serif\" font-size=\"14.00\" fill=\"#000000\">21</text>\n",
       "</g>\n",
       "<!-- 0&#45;&#45;21 -->\n",
       "<g id=\"edge6\" class=\"edge\">\n",
       "<title>0&#45;&#45;21</title>\n",
       "<path fill=\"none\" stroke=\"#000000\" d=\"M172.2704,-168.7957C180.4967,-150.8994 193.1743,-123.3195 201.3752,-105.4784\"/>\n",
       "</g>\n",
       "<!-- 3&#45;&#45;4 -->\n",
       "<g id=\"edge7\" class=\"edge\">\n",
       "<title>3&#45;&#45;4</title>\n",
       "<path fill=\"none\" stroke=\"#000000\" d=\"M209.1904,-146.4868C193.0247,-145.2603 172.5258,-143.705 156.3616,-142.4786\"/>\n",
       "</g>\n",
       "<!-- 3&#45;&#45;5 -->\n",
       "<g id=\"edge8\" class=\"edge\">\n",
       "<title>3&#45;&#45;5</title>\n",
       "<path fill=\"none\" stroke=\"#000000\" d=\"M235.673,-166.6348C235.267,-183.845 234.6599,-209.5827 234.2546,-226.7661\"/>\n",
       "</g>\n",
       "<!-- 6 -->\n",
       "<g id=\"node8\" class=\"node\">\n",
       "<title>6</title>\n",
       "<ellipse fill=\"none\" stroke=\"#000000\" cx=\"312.648\" cy=\"-203.823\" rx=\"27\" ry=\"18\"/>\n",
       "<text text-anchor=\"middle\" x=\"312.648\" y=\"-199.623\" font-family=\"Times,serif\" font-size=\"14.00\" fill=\"#000000\">6</text>\n",
       "</g>\n",
       "<!-- 3&#45;&#45;6 -->\n",
       "<g id=\"edge9\" class=\"edge\">\n",
       "<title>3&#45;&#45;6</title>\n",
       "<path fill=\"none\" stroke=\"#000000\" d=\"M254.6302,-161.9138C266.6654,-170.6074 282.2874,-181.892 294.2885,-190.561\"/>\n",
       "</g>\n",
       "<!-- 4&#45;&#45;14 -->\n",
       "<g id=\"edge10\" class=\"edge\">\n",
       "<title>4&#45;&#45;14</title>\n",
       "<path fill=\"none\" stroke=\"#000000\" d=\"M130.9673,-158.4231C132.3422,-174.8351 134.3645,-198.976 135.7462,-215.4701\"/>\n",
       "</g>\n",
       "<!-- 4&#45;&#45;16 -->\n",
       "<g id=\"edge11\" class=\"edge\">\n",
       "<title>4&#45;&#45;16</title>\n",
       "<path fill=\"none\" stroke=\"#000000\" d=\"M115.9158,-156.2988C106.805,-166.9678 94.8443,-180.974 85.7538,-191.6192\"/>\n",
       "</g>\n",
       "<!-- 1 -->\n",
       "<g id=\"node9\" class=\"node\">\n",
       "<title>1</title>\n",
       "<ellipse fill=\"none\" stroke=\"#000000\" cx=\"26.7042\" cy=\"-124.6653\" rx=\"27\" ry=\"18\"/>\n",
       "<text text-anchor=\"middle\" x=\"26.7042\" y=\"-120.4653\" font-family=\"Times,serif\" font-size=\"14.00\" fill=\"#000000\">1</text>\n",
       "</g>\n",
       "<!-- 4&#45;&#45;1 -->\n",
       "<g id=\"edge12\" class=\"edge\">\n",
       "<title>4&#45;&#45;1</title>\n",
       "<path fill=\"none\" stroke=\"#000000\" d=\"M102.9983,-136.3758C87.6564,-134.0209 68.4035,-131.0658 53.0769,-128.7133\"/>\n",
       "</g>\n",
       "<!-- 2 -->\n",
       "<g id=\"node10\" class=\"node\">\n",
       "<title>2</title>\n",
       "<ellipse fill=\"none\" stroke=\"#000000\" cx=\"129.7272\" cy=\"-39.7327\" rx=\"27\" ry=\"18\"/>\n",
       "<text text-anchor=\"middle\" x=\"129.7272\" y=\"-35.5327\" font-family=\"Times,serif\" font-size=\"14.00\" fill=\"#000000\">2</text>\n",
       "</g>\n",
       "<!-- 4&#45;&#45;2 -->\n",
       "<g id=\"edge13\" class=\"edge\">\n",
       "<title>4&#45;&#45;2</title>\n",
       "<path fill=\"none\" stroke=\"#000000\" d=\"M129.5083,-122.4335C129.5565,-104.2164 129.6307,-76.203 129.6791,-57.9204\"/>\n",
       "</g>\n",
       "<!-- 5&#45;&#45;6 -->\n",
       "<g id=\"edge14\" class=\"edge\">\n",
       "<title>5&#45;&#45;6</title>\n",
       "<path fill=\"none\" stroke=\"#000000\" d=\"M255.3669,-233.5965C266.4883,-227.8158 280.0189,-220.7829 291.1365,-215.0042\"/>\n",
       "</g>\n",
       "<!-- 20 -->\n",
       "<g id=\"node11\" class=\"node\">\n",
       "<title>20</title>\n",
       "<ellipse fill=\"none\" stroke=\"#000000\" cx=\"294.4814\" cy=\"-43.1154\" rx=\"27\" ry=\"18\"/>\n",
       "<text text-anchor=\"middle\" x=\"294.4814\" y=\"-38.9154\" font-family=\"Times,serif\" font-size=\"14.00\" fill=\"#000000\">20</text>\n",
       "</g>\n",
       "<!-- 21&#45;&#45;20 -->\n",
       "<g id=\"edge15\" class=\"edge\">\n",
       "<title>21&#45;&#45;20</title>\n",
       "<path fill=\"none\" stroke=\"#000000\" d=\"M230.8585,-76.7132C243.8569,-69.849 260.3661,-61.1309 273.3097,-54.2957\"/>\n",
       "</g>\n",
       "<!-- 7 -->\n",
       "<g id=\"node13\" class=\"node\">\n",
       "<title>7</title>\n",
       "<ellipse fill=\"none\" stroke=\"#000000\" cx=\"389.375\" cy=\"-208.8501\" rx=\"27\" ry=\"18\"/>\n",
       "<text text-anchor=\"middle\" x=\"389.375\" y=\"-204.6501\" font-family=\"Times,serif\" font-size=\"14.00\" fill=\"#000000\">7</text>\n",
       "</g>\n",
       "<!-- 6&#45;&#45;7 -->\n",
       "<g id=\"edge17\" class=\"edge\">\n",
       "<title>6&#45;&#45;7</title>\n",
       "<path fill=\"none\" stroke=\"#000000\" d=\"M339.9151,-205.6095C347.2376,-206.0893 355.1502,-206.6077 362.4538,-207.0862\"/>\n",
       "</g>\n",
       "<!-- 8 -->\n",
       "<g id=\"node14\" class=\"node\">\n",
       "<title>8</title>\n",
       "<ellipse fill=\"none\" stroke=\"#000000\" cx=\"331.8293\" cy=\"-286.7442\" rx=\"27\" ry=\"18\"/>\n",
       "<text text-anchor=\"middle\" x=\"331.8293\" y=\"-282.5442\" font-family=\"Times,serif\" font-size=\"14.00\" fill=\"#000000\">8</text>\n",
       "</g>\n",
       "<!-- 6&#45;&#45;8 -->\n",
       "<g id=\"edge18\" class=\"edge\">\n",
       "<title>6&#45;&#45;8</title>\n",
       "<path fill=\"none\" stroke=\"#000000\" d=\"M316.8101,-221.8157C320.0274,-235.7244 324.46,-254.8869 327.6753,-268.7867\"/>\n",
       "</g>\n",
       "<!-- 9 -->\n",
       "<g id=\"node12\" class=\"node\">\n",
       "<title>9</title>\n",
       "<ellipse fill=\"none\" stroke=\"#000000\" cx=\"52.4835\" cy=\"-18.1402\" rx=\"27\" ry=\"18\"/>\n",
       "<text text-anchor=\"middle\" x=\"52.4835\" y=\"-13.9402\" font-family=\"Times,serif\" font-size=\"14.00\" fill=\"#000000\">9</text>\n",
       "</g>\n",
       "<!-- 2&#45;&#45;9 -->\n",
       "<g id=\"edge16\" class=\"edge\">\n",
       "<title>2&#45;&#45;9</title>\n",
       "<path fill=\"none\" stroke=\"#000000\" d=\"M104.4347,-32.6625C95.8109,-30.2518 86.1765,-27.5587 77.569,-25.1525\"/>\n",
       "</g>\n",
       "<!-- 7&#45;&#45;8 -->\n",
       "<g id=\"edge19\" class=\"edge\">\n",
       "<title>7&#45;&#45;8</title>\n",
       "<path fill=\"none\" stroke=\"#000000\" d=\"M377.1711,-225.3694C367.3394,-238.6776 353.5924,-257.2856 343.8183,-270.5158\"/>\n",
       "</g>\n",
       "<!-- 17 -->\n",
       "<g id=\"node15\" class=\"node\">\n",
       "<title>17</title>\n",
       "<ellipse fill=\"none\" stroke=\"#000000\" cx=\"255.3431\" cy=\"-344.4692\" rx=\"27\" ry=\"18\"/>\n",
       "<text text-anchor=\"middle\" x=\"255.3431\" y=\"-340.2692\" font-family=\"Times,serif\" font-size=\"14.00\" fill=\"#000000\">17</text>\n",
       "</g>\n",
       "<!-- 8&#45;&#45;17 -->\n",
       "<g id=\"edge20\" class=\"edge\">\n",
       "<title>8&#45;&#45;17</title>\n",
       "<path fill=\"none\" stroke=\"#000000\" d=\"M313.7031,-300.4243C301.5106,-309.6261 285.5044,-321.7061 273.3391,-330.8874\"/>\n",
       "</g>\n",
       "<!-- 10 -->\n",
       "<g id=\"node16\" class=\"node\">\n",
       "<title>10</title>\n",
       "<ellipse fill=\"none\" stroke=\"#000000\" cx=\"350.6492\" cy=\"-109.7951\" rx=\"27\" ry=\"18\"/>\n",
       "<text text-anchor=\"middle\" x=\"350.6492\" y=\"-105.5951\" font-family=\"Times,serif\" font-size=\"14.00\" fill=\"#000000\">10</text>\n",
       "</g>\n",
       "<!-- 11 -->\n",
       "<g id=\"node17\" class=\"node\">\n",
       "<title>11</title>\n",
       "<ellipse fill=\"none\" stroke=\"#000000\" cx=\"413.5248\" cy=\"-124.5315\" rx=\"27\" ry=\"18\"/>\n",
       "<text text-anchor=\"middle\" x=\"413.5248\" y=\"-120.3315\" font-family=\"Times,serif\" font-size=\"14.00\" fill=\"#000000\">11</text>\n",
       "</g>\n",
       "<!-- 10&#45;&#45;11 -->\n",
       "<g id=\"edge21\" class=\"edge\">\n",
       "<title>10&#45;&#45;11</title>\n",
       "<path fill=\"none\" stroke=\"#000000\" d=\"M376.2231,-115.789C380.0309,-116.6814 383.9578,-117.6018 387.7694,-118.4951\"/>\n",
       "</g>\n",
       "<!-- 12 -->\n",
       "<g id=\"node18\" class=\"node\">\n",
       "<title>12</title>\n",
       "<ellipse fill=\"none\" stroke=\"#000000\" cx=\"482.8876\" cy=\"-98.8185\" rx=\"27\" ry=\"18\"/>\n",
       "<text text-anchor=\"middle\" x=\"482.8876\" y=\"-94.6185\" font-family=\"Times,serif\" font-size=\"14.00\" fill=\"#000000\">12</text>\n",
       "</g>\n",
       "<!-- 11&#45;&#45;12 -->\n",
       "<g id=\"edge22\" class=\"edge\">\n",
       "<title>11&#45;&#45;12</title>\n",
       "<path fill=\"none\" stroke=\"#000000\" d=\"M437.3955,-115.6826C444.4493,-113.0677 452.1661,-110.2071 459.2078,-107.5967\"/>\n",
       "</g>\n",
       "<!-- 13 -->\n",
       "<g id=\"node19\" class=\"node\">\n",
       "<title>13</title>\n",
       "<ellipse fill=\"none\" stroke=\"#000000\" cx=\"464.2388\" cy=\"-178.3874\" rx=\"27\" ry=\"18\"/>\n",
       "<text text-anchor=\"middle\" x=\"464.2388\" y=\"-174.1874\" font-family=\"Times,serif\" font-size=\"14.00\" fill=\"#000000\">13</text>\n",
       "</g>\n",
       "<!-- 11&#45;&#45;13 -->\n",
       "<g id=\"edge23\" class=\"edge\">\n",
       "<title>11&#45;&#45;13</title>\n",
       "<path fill=\"none\" stroke=\"#000000\" d=\"M427.9217,-139.8204C434.7155,-147.0351 442.8091,-155.6301 449.6297,-162.8732\"/>\n",
       "</g>\n",
       "<!-- 12&#45;&#45;13 -->\n",
       "<g id=\"edge24\" class=\"edge\">\n",
       "<title>12&#45;&#45;13</title>\n",
       "<path fill=\"none\" stroke=\"#000000\" d=\"M478.6559,-116.8739C475.6039,-129.8959 471.5019,-147.3979 468.4537,-160.4034\"/>\n",
       "</g>\n",
       "<!-- 19 -->\n",
       "<g id=\"node20\" class=\"node\">\n",
       "<title>19</title>\n",
       "<ellipse fill=\"none\" stroke=\"#000000\" cx=\"378.4062\" cy=\"-351.3342\" rx=\"27\" ry=\"18\"/>\n",
       "<text text-anchor=\"middle\" x=\"378.4062\" y=\"-347.1342\" font-family=\"Times,serif\" font-size=\"14.00\" fill=\"#000000\">19</text>\n",
       "</g>\n",
       "<!-- 22 -->\n",
       "<g id=\"node21\" class=\"node\">\n",
       "<title>22</title>\n",
       "<ellipse fill=\"none\" stroke=\"#000000\" cx=\"443.8624\" cy=\"-341.5547\" rx=\"27\" ry=\"18\"/>\n",
       "<text text-anchor=\"middle\" x=\"443.8624\" y=\"-337.3547\" font-family=\"Times,serif\" font-size=\"14.00\" fill=\"#000000\">22</text>\n",
       "</g>\n",
       "<!-- 19&#45;&#45;22 -->\n",
       "<g id=\"edge25\" class=\"edge\">\n",
       "<title>19&#45;&#45;22</title>\n",
       "<path fill=\"none\" stroke=\"#000000\" d=\"M405.0297,-347.3565C409.1355,-346.7431 413.3741,-346.1098 417.4746,-345.4972\"/>\n",
       "</g>\n",
       "</g>\n",
       "</svg>\n"
      ]
     },
     "metadata": {},
     "output_type": "display_data"
    }
   ],
   "source": [
    "svg = nx.nx_agraph.to_agraph(G).draw(prog='fdp', format='svg')\n",
    "display_svg(svg, raw=True)"
   ]
  },
  {
   "cell_type": "code",
   "execution_count": 7,
   "metadata": {
    "collapsed": true
   },
   "outputs": [],
   "source": [
    "mat = np.load(\"mat.npy\")"
   ]
  },
  {
   "cell_type": "code",
   "execution_count": 8,
   "metadata": {},
   "outputs": [
    {
     "data": {
      "text/plain": [
       "(15042, 23)"
      ]
     },
     "execution_count": 8,
     "metadata": {},
     "output_type": "execute_result"
    }
   ],
   "source": [
    "mat.shape"
   ]
  },
  {
   "cell_type": "code",
   "execution_count": 9,
   "metadata": {},
   "outputs": [
    {
     "data": {
      "text/plain": [
       "array([-1.74023864, -1.0924228 ,  0.03051469, -1.30345991, -0.95154328,\n",
       "       -0.51373397,  1.23010901, -0.20035845, -0.89910279, -0.7122339 ,\n",
       "       -0.22194848, -0.37177189, -0.47099652,  0.12732754,  1.01480265,\n",
       "        0.52560676, -0.66971758, -1.18507039, -0.24974666, -0.03294903,\n",
       "       -0.34655336,  1.52601185,  0.16448712])"
      ]
     },
     "execution_count": 9,
     "metadata": {},
     "output_type": "execute_result"
    }
   ],
   "source": [
    "mat[0]"
   ]
  },
  {
   "cell_type": "code",
   "execution_count": 10,
   "metadata": {
    "collapsed": true
   },
   "outputs": [],
   "source": [
    "from sklearn.covariance import GraphLassoCV"
   ]
  },
  {
   "cell_type": "code",
   "execution_count": 11,
   "metadata": {},
   "outputs": [
    {
     "data": {
      "text/plain": [
       "'0.19.0'"
      ]
     },
     "execution_count": 11,
     "metadata": {},
     "output_type": "execute_result"
    }
   ],
   "source": [
    "import sklearn\n",
    "sklearn.__version__"
   ]
  },
  {
   "cell_type": "code",
   "execution_count": 12,
   "metadata": {},
   "outputs": [
    {
     "data": {
      "text/plain": [
       "(15042, 23)"
      ]
     },
     "execution_count": 12,
     "metadata": {},
     "output_type": "execute_result"
    }
   ],
   "source": [
    "mat.shape"
   ]
  },
  {
   "cell_type": "code",
   "execution_count": 13,
   "metadata": {
    "collapsed": true
   },
   "outputs": [],
   "source": [
    "model_cv = GraphLassoCV()"
   ]
  },
  {
   "cell_type": "code",
   "execution_count": 14,
   "metadata": {},
   "outputs": [
    {
     "data": {
      "text/plain": [
       "GraphLassoCV(alphas=4, assume_centered=False, cv=None, enet_tol=0.0001,\n",
       "       max_iter=100, mode='cd', n_jobs=1, n_refinements=4, tol=0.0001,\n",
       "       verbose=False)"
      ]
     },
     "execution_count": 14,
     "metadata": {},
     "output_type": "execute_result"
    }
   ],
   "source": [
    "model_cv.fit(mat)"
   ]
  },
  {
   "cell_type": "code",
   "execution_count": 15,
   "metadata": {
    "collapsed": true
   },
   "outputs": [],
   "source": [
    "pre = model_cv.precision_"
   ]
  },
  {
   "cell_type": "code",
   "execution_count": 32,
   "metadata": {},
   "outputs": [
    {
     "data": {
      "image/svg+xml": [
       "<?xml version=\"1.0\" encoding=\"UTF-8\" standalone=\"no\"?>\n",
       "<!DOCTYPE svg PUBLIC \"-//W3C//DTD SVG 1.1//EN\"\n",
       " \"http://www.w3.org/Graphics/SVG/1.1/DTD/svg11.dtd\">\n",
       "<!-- Generated by graphviz version 2.40.1 (20161225.0304)\n",
       " -->\n",
       "<!-- Pages: 1 -->\n",
       "<svg width=\"670pt\" height=\"665pt\"\n",
       " viewBox=\"0.00 0.00 670.00 665.00\" xmlns=\"http://www.w3.org/2000/svg\" xmlns:xlink=\"http://www.w3.org/1999/xlink\">\n",
       "<g id=\"graph0\" class=\"graph\" transform=\"scale(1 1) rotate(0) translate(4 661)\">\n",
       "<polygon fill=\"#ffffff\" stroke=\"transparent\" points=\"-4,4 -4,-661 666,-661 666,4 -4,4\"/>\n",
       "<!-- 0 -->\n",
       "<g id=\"node1\" class=\"node\">\n",
       "<title>0</title>\n",
       "<ellipse fill=\"none\" stroke=\"#000000\" cx=\"347.1639\" cy=\"-371.6237\" rx=\"27\" ry=\"18\"/>\n",
       "<text text-anchor=\"middle\" x=\"347.1639\" y=\"-367.4237\" font-family=\"Times,serif\" font-size=\"14.00\" fill=\"#000000\">0</text>\n",
       "</g>\n",
       "<!-- 3 -->\n",
       "<g id=\"node2\" class=\"node\">\n",
       "<title>3</title>\n",
       "<ellipse fill=\"none\" stroke=\"#000000\" cx=\"269.3437\" cy=\"-314.6438\" rx=\"27\" ry=\"18\"/>\n",
       "<text text-anchor=\"middle\" x=\"269.3437\" y=\"-310.4438\" font-family=\"Times,serif\" font-size=\"14.00\" fill=\"#000000\">3</text>\n",
       "</g>\n",
       "<!-- 0&#45;&#45;3 -->\n",
       "<g id=\"edge1\" class=\"edge\">\n",
       "<title>0&#45;&#45;3</title>\n",
       "<path fill=\"none\" stroke=\"#000000\" d=\"M328.7216,-358.1203C316.3164,-349.0372 300.031,-337.1131 287.6536,-328.0503\"/>\n",
       "</g>\n",
       "<!-- 4 -->\n",
       "<g id=\"node3\" class=\"node\">\n",
       "<title>4</title>\n",
       "<ellipse fill=\"none\" stroke=\"#000000\" cx=\"272.5826\" cy=\"-256.0028\" rx=\"27\" ry=\"18\"/>\n",
       "<text text-anchor=\"middle\" x=\"272.5826\" y=\"-251.8028\" font-family=\"Times,serif\" font-size=\"14.00\" fill=\"#000000\">4</text>\n",
       "</g>\n",
       "<!-- 0&#45;&#45;4 -->\n",
       "<g id=\"edge2\" class=\"edge\">\n",
       "<title>0&#45;&#45;4</title>\n",
       "<path fill=\"none\" stroke=\"#000000\" d=\"M336.4782,-355.0581C322.3808,-333.2034 297.6988,-294.9396 283.491,-272.9138\"/>\n",
       "</g>\n",
       "<!-- 5 -->\n",
       "<g id=\"node4\" class=\"node\">\n",
       "<title>5</title>\n",
       "<ellipse fill=\"none\" stroke=\"#000000\" cx=\"189.1547\" cy=\"-338.904\" rx=\"27\" ry=\"18\"/>\n",
       "<text text-anchor=\"middle\" x=\"189.1547\" y=\"-334.704\" font-family=\"Times,serif\" font-size=\"14.00\" fill=\"#000000\">5</text>\n",
       "</g>\n",
       "<!-- 0&#45;&#45;5 -->\n",
       "<g id=\"edge3\" class=\"edge\">\n",
       "<title>0&#45;&#45;5</title>\n",
       "<path fill=\"none\" stroke=\"#000000\" d=\"M321.0719,-366.2207C291.7076,-360.1402 244.2949,-350.3222 215.0228,-344.2607\"/>\n",
       "</g>\n",
       "<!-- 7 -->\n",
       "<g id=\"node5\" class=\"node\">\n",
       "<title>7</title>\n",
       "<ellipse fill=\"none\" stroke=\"#000000\" cx=\"260.7461\" cy=\"-527.3934\" rx=\"27\" ry=\"18\"/>\n",
       "<text text-anchor=\"middle\" x=\"260.7461\" y=\"-523.1934\" font-family=\"Times,serif\" font-size=\"14.00\" fill=\"#000000\">7</text>\n",
       "</g>\n",
       "<!-- 0&#45;&#45;7 -->\n",
       "<g id=\"edge4\" class=\"edge\">\n",
       "<title>0&#45;&#45;7</title>\n",
       "<path fill=\"none\" stroke=\"#000000\" d=\"M337.7511,-388.5904C321.1279,-418.554 286.7622,-480.4989 270.1472,-510.4477\"/>\n",
       "</g>\n",
       "<!-- 11 -->\n",
       "<g id=\"node6\" class=\"node\">\n",
       "<title>11</title>\n",
       "<ellipse fill=\"none\" stroke=\"#000000\" cx=\"191.8367\" cy=\"-251.2337\" rx=\"27\" ry=\"18\"/>\n",
       "<text text-anchor=\"middle\" x=\"191.8367\" y=\"-247.0337\" font-family=\"Times,serif\" font-size=\"14.00\" fill=\"#000000\">11</text>\n",
       "</g>\n",
       "<!-- 0&#45;&#45;11 -->\n",
       "<g id=\"edge5\" class=\"edge\">\n",
       "<title>0&#45;&#45;11</title>\n",
       "<path fill=\"none\" stroke=\"#000000\" d=\"M329.3459,-357.8135C299.3838,-334.5906 239.2689,-287.9972 209.4469,-264.8829\"/>\n",
       "</g>\n",
       "<!-- 14 -->\n",
       "<g id=\"node7\" class=\"node\">\n",
       "<title>14</title>\n",
       "<ellipse fill=\"none\" stroke=\"#000000\" cx=\"321.7769\" cy=\"-211.9662\" rx=\"27\" ry=\"18\"/>\n",
       "<text text-anchor=\"middle\" x=\"321.7769\" y=\"-207.7662\" font-family=\"Times,serif\" font-size=\"14.00\" fill=\"#000000\">14</text>\n",
       "</g>\n",
       "<!-- 0&#45;&#45;14 -->\n",
       "<g id=\"edge6\" class=\"edge\">\n",
       "<title>0&#45;&#45;14</title>\n",
       "<path fill=\"none\" stroke=\"#000000\" d=\"M344.301,-353.6193C339.4252,-322.9559 329.5633,-260.9349 324.6682,-230.1498\"/>\n",
       "</g>\n",
       "<!-- 15 -->\n",
       "<g id=\"node8\" class=\"node\">\n",
       "<title>15</title>\n",
       "<ellipse fill=\"none\" stroke=\"#000000\" cx=\"514.9814\" cy=\"-308.2171\" rx=\"27\" ry=\"18\"/>\n",
       "<text text-anchor=\"middle\" x=\"514.9814\" y=\"-304.0171\" font-family=\"Times,serif\" font-size=\"14.00\" fill=\"#000000\">15</text>\n",
       "</g>\n",
       "<!-- 0&#45;&#45;15 -->\n",
       "<g id=\"edge7\" class=\"edge\">\n",
       "<title>0&#45;&#45;15</title>\n",
       "<path fill=\"none\" stroke=\"#000000\" d=\"M370.8521,-362.6736C402.8359,-350.5891 459.4921,-329.1827 491.4137,-317.1217\"/>\n",
       "</g>\n",
       "<!-- 16 -->\n",
       "<g id=\"node9\" class=\"node\">\n",
       "<title>16</title>\n",
       "<ellipse fill=\"none\" stroke=\"#000000\" cx=\"413.313\" cy=\"-236.3318\" rx=\"27\" ry=\"18\"/>\n",
       "<text text-anchor=\"middle\" x=\"413.313\" y=\"-232.1318\" font-family=\"Times,serif\" font-size=\"14.00\" fill=\"#000000\">16</text>\n",
       "</g>\n",
       "<!-- 0&#45;&#45;16 -->\n",
       "<g id=\"edge8\" class=\"edge\">\n",
       "<title>0&#45;&#45;16</title>\n",
       "<path fill=\"none\" stroke=\"#000000\" d=\"M355.5417,-354.4889C368.1962,-328.6071 392.0571,-279.8056 404.7942,-253.7548\"/>\n",
       "</g>\n",
       "<!-- 17 -->\n",
       "<g id=\"node10\" class=\"node\">\n",
       "<title>17</title>\n",
       "<ellipse fill=\"none\" stroke=\"#000000\" cx=\"197.6959\" cy=\"-472.8401\" rx=\"27\" ry=\"18\"/>\n",
       "<text text-anchor=\"middle\" x=\"197.6959\" y=\"-468.6401\" font-family=\"Times,serif\" font-size=\"14.00\" fill=\"#000000\">17</text>\n",
       "</g>\n",
       "<!-- 0&#45;&#45;17 -->\n",
       "<g id=\"edge9\" class=\"edge\">\n",
       "<title>0&#45;&#45;17</title>\n",
       "<path fill=\"none\" stroke=\"#000000\" d=\"M327.9295,-384.6488C299.2298,-404.0837 245.5132,-440.4593 216.8564,-459.8651\"/>\n",
       "</g>\n",
       "<!-- 18 -->\n",
       "<g id=\"node11\" class=\"node\">\n",
       "<title>18</title>\n",
       "<ellipse fill=\"none\" stroke=\"#000000\" cx=\"531.4336\" cy=\"-430.9611\" rx=\"27\" ry=\"18\"/>\n",
       "<text text-anchor=\"middle\" x=\"531.4336\" y=\"-426.7611\" font-family=\"Times,serif\" font-size=\"14.00\" fill=\"#000000\">18</text>\n",
       "</g>\n",
       "<!-- 0&#45;&#45;18 -->\n",
       "<g id=\"edge10\" class=\"edge\">\n",
       "<title>0&#45;&#45;18</title>\n",
       "<path fill=\"none\" stroke=\"#000000\" d=\"M371.6335,-379.5033C406.8776,-390.8524 471.5624,-411.6818 506.8628,-423.049\"/>\n",
       "</g>\n",
       "<!-- 20 -->\n",
       "<g id=\"node12\" class=\"node\">\n",
       "<title>20</title>\n",
       "<ellipse fill=\"none\" stroke=\"#000000\" cx=\"507.8723\" cy=\"-477.0063\" rx=\"27\" ry=\"18\"/>\n",
       "<text text-anchor=\"middle\" x=\"507.8723\" y=\"-472.8063\" font-family=\"Times,serif\" font-size=\"14.00\" fill=\"#000000\">20</text>\n",
       "</g>\n",
       "<!-- 0&#45;&#45;20 -->\n",
       "<g id=\"edge11\" class=\"edge\">\n",
       "<title>0&#45;&#45;20</title>\n",
       "<path fill=\"none\" stroke=\"#000000\" d=\"M366.5491,-384.3353C397.4379,-404.5903 457.4863,-443.9663 488.4184,-464.2496\"/>\n",
       "</g>\n",
       "<!-- 21 -->\n",
       "<g id=\"node13\" class=\"node\">\n",
       "<title>21</title>\n",
       "<ellipse fill=\"none\" stroke=\"#000000\" cx=\"467.987\" cy=\"-533.2534\" rx=\"27\" ry=\"18\"/>\n",
       "<text text-anchor=\"middle\" x=\"467.987\" y=\"-529.0534\" font-family=\"Times,serif\" font-size=\"14.00\" fill=\"#000000\">21</text>\n",
       "</g>\n",
       "<!-- 0&#45;&#45;21 -->\n",
       "<g id=\"edge12\" class=\"edge\">\n",
       "<title>0&#45;&#45;21</title>\n",
       "<path fill=\"none\" stroke=\"#000000\" d=\"M359.4139,-388.0111C382.5715,-418.9899 432.522,-485.8105 455.7045,-516.8227\"/>\n",
       "</g>\n",
       "<!-- 3&#45;&#45;4 -->\n",
       "<g id=\"edge13\" class=\"edge\">\n",
       "<title>3&#45;&#45;4</title>\n",
       "<path fill=\"none\" stroke=\"#000000\" d=\"M270.3507,-296.4109C270.7444,-289.2831 271.1947,-281.1302 271.5873,-274.0231\"/>\n",
       "</g>\n",
       "<!-- 3&#45;&#45;5 -->\n",
       "<g id=\"edge14\" class=\"edge\">\n",
       "<title>3&#45;&#45;5</title>\n",
       "<path fill=\"none\" stroke=\"#000000\" d=\"M244.4109,-322.1869C234.664,-325.1357 223.5152,-328.5087 213.7965,-331.4489\"/>\n",
       "</g>\n",
       "<!-- 3&#45;&#45;11 -->\n",
       "<g id=\"edge15\" class=\"edge\">\n",
       "<title>3&#45;&#45;11</title>\n",
       "<path fill=\"none\" stroke=\"#000000\" d=\"M252.1424,-300.5711C239.2982,-290.0629 221.8226,-275.7658 208.99,-265.2671\"/>\n",
       "</g>\n",
       "<!-- 3&#45;&#45;14 -->\n",
       "<g id=\"edge16\" class=\"edge\">\n",
       "<title>3&#45;&#45;14</title>\n",
       "<path fill=\"none\" stroke=\"#000000\" d=\"M278.2383,-297.226C287.9385,-278.2304 303.3655,-248.0204 313.0137,-229.1269\"/>\n",
       "</g>\n",
       "<!-- 6 -->\n",
       "<g id=\"node14\" class=\"node\">\n",
       "<title>6</title>\n",
       "<ellipse fill=\"none\" stroke=\"#000000\" cx=\"153.3931\" cy=\"-399.4161\" rx=\"27\" ry=\"18\"/>\n",
       "<text text-anchor=\"middle\" x=\"153.3931\" y=\"-395.2161\" font-family=\"Times,serif\" font-size=\"14.00\" fill=\"#000000\">6</text>\n",
       "</g>\n",
       "<!-- 3&#45;&#45;6 -->\n",
       "<g id=\"edge17\" class=\"edge\">\n",
       "<title>3&#45;&#45;6</title>\n",
       "<path fill=\"none\" stroke=\"#000000\" d=\"M250.971,-328.0763C229.2595,-343.9497 193.3538,-370.2006 171.6798,-386.0466\"/>\n",
       "</g>\n",
       "<!-- 4&#45;&#45;5 -->\n",
       "<g id=\"edge18\" class=\"edge\">\n",
       "<title>4&#45;&#45;5</title>\n",
       "<path fill=\"none\" stroke=\"#000000\" d=\"M257.2806,-271.2082C242.2275,-286.1662 219.3791,-308.8704 204.3596,-323.7951\"/>\n",
       "</g>\n",
       "<!-- 4&#45;&#45;11 -->\n",
       "<g id=\"edge19\" class=\"edge\">\n",
       "<title>4&#45;&#45;11</title>\n",
       "<path fill=\"none\" stroke=\"#000000\" d=\"M245.2457,-254.3882C236.7359,-253.8856 227.3604,-253.3318 218.8713,-252.8304\"/>\n",
       "</g>\n",
       "<!-- 4&#45;&#45;14 -->\n",
       "<g id=\"edge20\" class=\"edge\">\n",
       "<title>4&#45;&#45;14</title>\n",
       "<path fill=\"none\" stroke=\"#000000\" d=\"M288.9636,-241.3393C294.3301,-236.5354 300.286,-231.2039 305.6348,-226.416\"/>\n",
       "</g>\n",
       "<!-- 4&#45;&#45;16 -->\n",
       "<g id=\"edge21\" class=\"edge\">\n",
       "<title>4&#45;&#45;16</title>\n",
       "<path fill=\"none\" stroke=\"#000000\" d=\"M299.0529,-252.3029C324.054,-248.8083 361.3645,-243.5931 386.4829,-240.0821\"/>\n",
       "</g>\n",
       "<!-- 1 -->\n",
       "<g id=\"node15\" class=\"node\">\n",
       "<title>1</title>\n",
       "<ellipse fill=\"none\" stroke=\"#000000\" cx=\"268.66\" cy=\"-403.4924\" rx=\"27\" ry=\"18\"/>\n",
       "<text text-anchor=\"middle\" x=\"268.66\" y=\"-399.2924\" font-family=\"Times,serif\" font-size=\"14.00\" fill=\"#000000\">1</text>\n",
       "</g>\n",
       "<!-- 4&#45;&#45;1 -->\n",
       "<g id=\"edge22\" class=\"edge\">\n",
       "<title>4&#45;&#45;1</title>\n",
       "<path fill=\"none\" stroke=\"#000000\" d=\"M272.1016,-274.0879C271.3487,-302.3952 269.9002,-356.8613 269.145,-385.2593\"/>\n",
       "</g>\n",
       "<!-- 2 -->\n",
       "<g id=\"node16\" class=\"node\">\n",
       "<title>2</title>\n",
       "<ellipse fill=\"none\" stroke=\"#000000\" cx=\"195.4131\" cy=\"-198.3962\" rx=\"27\" ry=\"18\"/>\n",
       "<text text-anchor=\"middle\" x=\"195.4131\" y=\"-194.1962\" font-family=\"Times,serif\" font-size=\"14.00\" fill=\"#000000\">2</text>\n",
       "</g>\n",
       "<!-- 4&#45;&#45;2 -->\n",
       "<g id=\"edge23\" class=\"edge\">\n",
       "<title>4&#45;&#45;2</title>\n",
       "<path fill=\"none\" stroke=\"#000000\" d=\"M254.2945,-242.3509C241.993,-233.1679 225.8439,-221.1126 213.5699,-211.9502\"/>\n",
       "</g>\n",
       "<!-- 12 -->\n",
       "<g id=\"node17\" class=\"node\">\n",
       "<title>12</title>\n",
       "<ellipse fill=\"none\" stroke=\"#000000\" cx=\"134.0808\" cy=\"-149.1156\" rx=\"27\" ry=\"18\"/>\n",
       "<text text-anchor=\"middle\" x=\"134.0808\" y=\"-144.9156\" font-family=\"Times,serif\" font-size=\"14.00\" fill=\"#000000\">12</text>\n",
       "</g>\n",
       "<!-- 4&#45;&#45;12 -->\n",
       "<g id=\"edge24\" class=\"edge\">\n",
       "<title>4&#45;&#45;12</title>\n",
       "<path fill=\"none\" stroke=\"#000000\" d=\"M254.7594,-242.248C228.1653,-221.7243 178.3898,-183.3106 151.8355,-162.8176\"/>\n",
       "</g>\n",
       "<!-- 5&#45;&#45;6 -->\n",
       "<g id=\"edge26\" class=\"edge\">\n",
       "<title>5&#45;&#45;6</title>\n",
       "<path fill=\"none\" stroke=\"#000000\" d=\"M179.1931,-355.76C174.2329,-364.153 168.254,-374.27 163.3012,-382.6505\"/>\n",
       "</g>\n",
       "<!-- 5&#45;&#45;1 -->\n",
       "<g id=\"edge25\" class=\"edge\">\n",
       "<title>5&#45;&#45;1</title>\n",
       "<path fill=\"none\" stroke=\"#000000\" d=\"M206.4061,-352.9187C219.7419,-363.7524 238.115,-378.6783 251.4422,-389.505\"/>\n",
       "</g>\n",
       "<!-- 13 -->\n",
       "<g id=\"node18\" class=\"node\">\n",
       "<title>13</title>\n",
       "<ellipse fill=\"none\" stroke=\"#000000\" cx=\"51.4554\" cy=\"-253.1995\" rx=\"27\" ry=\"18\"/>\n",
       "<text text-anchor=\"middle\" x=\"51.4554\" y=\"-248.9995\" font-family=\"Times,serif\" font-size=\"14.00\" fill=\"#000000\">13</text>\n",
       "</g>\n",
       "<!-- 5&#45;&#45;13 -->\n",
       "<g id=\"edge27\" class=\"edge\">\n",
       "<title>5&#45;&#45;13</title>\n",
       "<path fill=\"none\" stroke=\"#000000\" d=\"M169.132,-326.4419C143.0252,-310.1929 97.621,-281.9331 71.5022,-265.6767\"/>\n",
       "</g>\n",
       "<!-- 7&#45;&#45;17 -->\n",
       "<g id=\"edge28\" class=\"edge\">\n",
       "<title>7&#45;&#45;17</title>\n",
       "<path fill=\"none\" stroke=\"#000000\" d=\"M244.1804,-513.0602C234.986,-505.1048 223.5816,-495.2373 214.3699,-487.267\"/>\n",
       "</g>\n",
       "<!-- 7&#45;&#45;6 -->\n",
       "<g id=\"edge29\" class=\"edge\">\n",
       "<title>7&#45;&#45;6</title>\n",
       "<path fill=\"none\" stroke=\"#000000\" d=\"M247.3668,-511.4437C226.6827,-486.7859 187.185,-439.7001 166.6037,-415.1648\"/>\n",
       "</g>\n",
       "<!-- 8 -->\n",
       "<g id=\"node19\" class=\"node\">\n",
       "<title>8</title>\n",
       "<ellipse fill=\"none\" stroke=\"#000000\" cx=\"118.5598\" cy=\"-550.382\" rx=\"27\" ry=\"18\"/>\n",
       "<text text-anchor=\"middle\" x=\"118.5598\" y=\"-546.182\" font-family=\"Times,serif\" font-size=\"14.00\" fill=\"#000000\">8</text>\n",
       "</g>\n",
       "<!-- 7&#45;&#45;8 -->\n",
       "<g id=\"edge30\" class=\"edge\">\n",
       "<title>7&#45;&#45;8</title>\n",
       "<path fill=\"none\" stroke=\"#000000\" d=\"M234.3352,-531.6635C208.7963,-535.7926 170.3203,-542.0134 144.8293,-546.1347\"/>\n",
       "</g>\n",
       "<!-- 11&#45;&#45;14 -->\n",
       "<g id=\"edge31\" class=\"edge\">\n",
       "<title>11&#45;&#45;14</title>\n",
       "<path fill=\"none\" stroke=\"#000000\" d=\"M216.5833,-243.7554C239.7046,-236.7682 274.031,-226.3949 297.1224,-219.4167\"/>\n",
       "</g>\n",
       "<!-- 11&#45;&#45;2 -->\n",
       "<g id=\"edge32\" class=\"edge\">\n",
       "<title>11&#45;&#45;2</title>\n",
       "<path fill=\"none\" stroke=\"#000000\" d=\"M193.0675,-233.05C193.4312,-227.6767 193.8291,-221.7985 194.1922,-216.4344\"/>\n",
       "</g>\n",
       "<!-- 11&#45;&#45;12 -->\n",
       "<g id=\"edge33\" class=\"edge\">\n",
       "<title>11&#45;&#45;12</title>\n",
       "<path fill=\"none\" stroke=\"#000000\" d=\"M182.2995,-234.371C171.5983,-215.4501 154.3392,-184.9345 143.6322,-166.0034\"/>\n",
       "</g>\n",
       "<!-- 11&#45;&#45;13 -->\n",
       "<g id=\"edge34\" class=\"edge\">\n",
       "<title>11&#45;&#45;13</title>\n",
       "<path fill=\"none\" stroke=\"#000000\" d=\"M164.7698,-251.6127C140.0708,-251.9586 103.7406,-252.4673 78.9182,-252.8149\"/>\n",
       "</g>\n",
       "<!-- 10 -->\n",
       "<g id=\"node20\" class=\"node\">\n",
       "<title>10</title>\n",
       "<ellipse fill=\"none\" stroke=\"#000000\" cx=\"26.8654\" cy=\"-157.4332\" rx=\"27\" ry=\"18\"/>\n",
       "<text text-anchor=\"middle\" x=\"26.8654\" y=\"-153.2332\" font-family=\"Times,serif\" font-size=\"14.00\" fill=\"#000000\">10</text>\n",
       "</g>\n",
       "<!-- 11&#45;&#45;10 -->\n",
       "<g id=\"edge35\" class=\"edge\">\n",
       "<title>11&#45;&#45;10</title>\n",
       "<path fill=\"none\" stroke=\"#000000\" d=\"M171.2766,-239.5434C139.5773,-221.5197 79.1238,-187.1466 47.4249,-169.1231\"/>\n",
       "</g>\n",
       "<!-- 14&#45;&#45;2 -->\n",
       "<g id=\"edge36\" class=\"edge\">\n",
       "<title>14&#45;&#45;2</title>\n",
       "<path fill=\"none\" stroke=\"#000000\" d=\"M294.9784,-209.0884C273.534,-206.7855 243.6072,-203.5717 222.173,-201.2699\"/>\n",
       "</g>\n",
       "<!-- 17&#45;&#45;6 -->\n",
       "<g id=\"edge37\" class=\"edge\">\n",
       "<title>17&#45;&#45;6</title>\n",
       "<path fill=\"none\" stroke=\"#000000\" d=\"M187.4206,-455.8106C180.2634,-443.9488 170.7577,-428.1948 163.6127,-416.3533\"/>\n",
       "</g>\n",
       "<!-- 17&#45;&#45;8 -->\n",
       "<g id=\"edge38\" class=\"edge\">\n",
       "<title>17&#45;&#45;8</title>\n",
       "<path fill=\"none\" stroke=\"#000000\" d=\"M182.4377,-487.791C168.4245,-501.5219 147.7696,-521.7606 133.7712,-535.477\"/>\n",
       "</g>\n",
       "<!-- 18&#45;&#45;21 -->\n",
       "<g id=\"edge39\" class=\"edge\">\n",
       "<title>18&#45;&#45;21</title>\n",
       "<path fill=\"none\" stroke=\"#000000\" d=\"M520.9567,-447.8526C509.2011,-466.8058 490.2415,-497.3735 478.4795,-516.3369\"/>\n",
       "</g>\n",
       "<!-- 19 -->\n",
       "<g id=\"node21\" class=\"node\">\n",
       "<title>19</title>\n",
       "<ellipse fill=\"none\" stroke=\"#000000\" cx=\"634.999\" cy=\"-527.7976\" rx=\"27\" ry=\"18\"/>\n",
       "<text text-anchor=\"middle\" x=\"634.999\" y=\"-523.5976\" font-family=\"Times,serif\" font-size=\"14.00\" fill=\"#000000\">19</text>\n",
       "</g>\n",
       "<!-- 18&#45;&#45;19 -->\n",
       "<g id=\"edge40\" class=\"edge\">\n",
       "<title>18&#45;&#45;19</title>\n",
       "<path fill=\"none\" stroke=\"#000000\" d=\"M547.163,-445.6685C566.6286,-463.8694 599.5879,-494.6872 619.1216,-512.9518\"/>\n",
       "</g>\n",
       "<!-- 20&#45;&#45;21 -->\n",
       "<g id=\"edge41\" class=\"edge\">\n",
       "<title>20&#45;&#45;21</title>\n",
       "<path fill=\"none\" stroke=\"#000000\" d=\"M496.1211,-493.5781C490.9739,-500.8369 484.9454,-509.3383 479.792,-516.6057\"/>\n",
       "</g>\n",
       "<!-- 20&#45;&#45;19 -->\n",
       "<g id=\"edge42\" class=\"edge\">\n",
       "<title>20&#45;&#45;19</title>\n",
       "<path fill=\"none\" stroke=\"#000000\" d=\"M531.1893,-486.3222C554.1271,-495.4866 588.9433,-509.3968 611.8298,-518.5408\"/>\n",
       "</g>\n",
       "<!-- 22 -->\n",
       "<g id=\"node22\" class=\"node\">\n",
       "<title>22</title>\n",
       "<ellipse fill=\"none\" stroke=\"#000000\" cx=\"585.9282\" cy=\"-639.2086\" rx=\"27\" ry=\"18\"/>\n",
       "<text text-anchor=\"middle\" x=\"585.9282\" y=\"-635.0086\" font-family=\"Times,serif\" font-size=\"14.00\" fill=\"#000000\">22</text>\n",
       "</g>\n",
       "<!-- 21&#45;&#45;22 -->\n",
       "<g id=\"edge43\" class=\"edge\">\n",
       "<title>21&#45;&#45;22</title>\n",
       "<path fill=\"none\" stroke=\"#000000\" d=\"M484.3862,-547.9861C506.9192,-568.2291 547.2087,-604.4241 569.6683,-624.6011\"/>\n",
       "</g>\n",
       "<!-- 6&#45;&#45;8 -->\n",
       "<g id=\"edge46\" class=\"edge\">\n",
       "<title>6&#45;&#45;8</title>\n",
       "<path fill=\"none\" stroke=\"#000000\" d=\"M149.2604,-417.3267C142.5565,-446.3814 129.3875,-503.455 122.687,-532.4947\"/>\n",
       "</g>\n",
       "<!-- 2&#45;&#45;6 -->\n",
       "<g id=\"edge44\" class=\"edge\">\n",
       "<title>2&#45;&#45;6</title>\n",
       "<path fill=\"none\" stroke=\"#000000\" d=\"M191.6841,-216.2354C183.7302,-254.2863 165.1741,-343.0569 157.1741,-381.328\"/>\n",
       "</g>\n",
       "<!-- 9 -->\n",
       "<g id=\"node23\" class=\"node\">\n",
       "<title>9</title>\n",
       "<ellipse fill=\"none\" stroke=\"#000000\" cx=\"156.8956\" cy=\"-17.7075\" rx=\"27\" ry=\"18\"/>\n",
       "<text text-anchor=\"middle\" x=\"156.8956\" y=\"-13.5075\" font-family=\"Times,serif\" font-size=\"14.00\" fill=\"#000000\">9</text>\n",
       "</g>\n",
       "<!-- 2&#45;&#45;9 -->\n",
       "<g id=\"edge45\" class=\"edge\">\n",
       "<title>2&#45;&#45;9</title>\n",
       "<path fill=\"none\" stroke=\"#000000\" d=\"M191.5791,-180.4105C184.1961,-145.7761 168.0849,-70.1974 160.7141,-35.6205\"/>\n",
       "</g>\n",
       "<!-- 12&#45;&#45;13 -->\n",
       "<g id=\"edge47\" class=\"edge\">\n",
       "<title>12&#45;&#45;13</title>\n",
       "<path fill=\"none\" stroke=\"#000000\" d=\"M121.1706,-165.3787C105.6481,-184.9326 79.757,-217.5478 64.275,-237.0506\"/>\n",
       "</g>\n",
       "<!-- 13&#45;&#45;10 -->\n",
       "<g id=\"edge48\" class=\"edge\">\n",
       "<title>13&#45;&#45;10</title>\n",
       "<path fill=\"none\" stroke=\"#000000\" d=\"M46.8302,-235.1866C42.4339,-218.0651 35.8593,-192.4601 31.4698,-175.3653\"/>\n",
       "</g>\n",
       "<!-- 19&#45;&#45;22 -->\n",
       "<g id=\"edge49\" class=\"edge\">\n",
       "<title>19&#45;&#45;22</title>\n",
       "<path fill=\"none\" stroke=\"#000000\" d=\"M627.3317,-545.2056C618.1129,-566.136 602.7364,-601.0471 593.5417,-621.9229\"/>\n",
       "</g>\n",
       "</g>\n",
       "</svg>\n"
      ]
     },
     "metadata": {},
     "output_type": "display_data"
    }
   ],
   "source": [
    "import networkx as nx\n",
    "G = nx.Graph()\n",
    "for i in range(len(pre)):\n",
    "    for j in range(len(pre)):\n",
    "        if i == j:\n",
    "            continue\n",
    "        if abs(pre[i][j]) > 0.10:\n",
    "            G.add_edge(i, j)\n",
    "from IPython.display import display_svg\n",
    "svg = nx.nx_agraph.to_agraph(G).draw(prog='fdp', format='svg')\n",
    "display_svg(svg, raw=True)"
   ]
  },
  {
   "cell_type": "code",
   "execution_count": 22,
   "metadata": {},
   "outputs": [
    {
     "data": {
      "text/plain": [
       "[0.617090611449493,\n",
       " 0.13294814201997737,\n",
       " 0.02864280891431247,\n",
       " 0.006170906114494929,\n",
       " 0.004269223968640627,\n",
       " 0.003822512717760621,\n",
       " 0.003422543203348079,\n",
       " 0.0030644245928491114,\n",
       " 0.0029535813632950423,\n",
       " 0.0027437778071207537,\n",
       " 0.002456681972992852,\n",
       " 0.002043379062256485,\n",
       " 0.0014136729205963307,\n",
       " 0.0009780227092179678,\n",
       " 0.0003893578535038306,\n",
       " 0.00015500615339119313,\n",
       " 0]"
      ]
     },
     "execution_count": 22,
     "metadata": {},
     "output_type": "execute_result"
    }
   ],
   "source": [
    "model_cv.cv_alphas_"
   ]
  },
  {
   "cell_type": "code",
   "execution_count": null,
   "metadata": {
    "collapsed": true
   },
   "outputs": [],
   "source": [
    "x = model_cv.cv_alphas_\n",
    "y = model_cv.grid_scores_"
   ]
  },
  {
   "cell_type": "code",
   "execution_count": 24,
   "metadata": {},
   "outputs": [
    {
     "data": {
      "text/plain": [
       "array([[-33.21748381, -32.23748979, -32.53298967],\n",
       "       [-31.42211542, -30.57559207, -30.89368205],\n",
       "       [-31.01314057, -30.11302109, -30.45865567],\n",
       "       [-30.9829372 , -30.05920602, -30.40374915],\n",
       "       [-30.98362313, -30.05706065, -30.40173089],\n",
       "       [-30.98390877, -30.05666027, -30.4014224 ],\n",
       "       [-30.9842455 , -30.05635235, -30.40119588],\n",
       "       [-30.98460932, -30.05611305, -30.40103858],\n",
       "       [-30.98473421, -30.05604459, -30.40099982],\n",
       "       [-30.98498703, -30.05592964, -30.40093776],\n",
       "       [-30.98537849, -30.05578909, -30.40086977],\n",
       "       [-30.98601153, -30.05561667, -30.40080795],\n",
       "       [-30.98712225, -30.05550217, -30.40086255],\n",
       "       [-30.98802891, -30.05551416, -30.40103081],\n",
       "       [-30.98946265, -30.05563245, -30.40135492],\n",
       "       [-30.99010217, -30.05573564, -30.40151865],\n",
       "       [-31.05625751, -30.06900376, -30.43685193]])"
      ]
     },
     "execution_count": 24,
     "metadata": {},
     "output_type": "execute_result"
    }
   ],
   "source": [
    "model_cv.grid_scores_"
   ]
  },
  {
   "cell_type": "code",
   "execution_count": 47,
   "metadata": {},
   "outputs": [
    {
     "name": "stdout",
     "output_type": "stream",
     "text": [
      "train shape (11281, 23) test shape (3761, 23)\n"
     ]
    },
    {
     "data": {
      "text/plain": [
       "-30.526286340501358"
      ]
     },
     "execution_count": 47,
     "metadata": {},
     "output_type": "execute_result"
    }
   ],
   "source": [
    "from sklearn.covariance import GraphLasso\n",
    "from sklearn.model_selection import train_test_split\n",
    "\n",
    "mat_train, mat_test = train_test_split(mat)\n",
    "print(\"train shape\", mat_train.shape, \"test shape\", mat_test.shape)\n",
    "model = GraphLasso()\n",
    "model.fit(mat)\n",
    "model.score(mat_test)"
   ]
  },
  {
   "cell_type": "code",
   "execution_count": 85,
   "metadata": {
    "scrolled": false
   },
   "outputs": [
    {
     "name": "stdout",
     "output_type": "stream",
     "text": [
      "最も良かった正則化係数は:  0.26\n",
      "このときグラフは次のようになる\n"
     ]
    },
    {
     "data": {
      "image/svg+xml": [
       "<?xml version=\"1.0\" encoding=\"UTF-8\" standalone=\"no\"?>\n",
       "<!DOCTYPE svg PUBLIC \"-//W3C//DTD SVG 1.1//EN\"\n",
       " \"http://www.w3.org/Graphics/SVG/1.1/DTD/svg11.dtd\">\n",
       "<!-- Generated by graphviz version 2.40.1 (20161225.0304)\n",
       " -->\n",
       "<!-- Pages: 1 -->\n",
       "<svg width=\"671pt\" height=\"536pt\"\n",
       " viewBox=\"0.00 0.00 671.00 536.00\" xmlns=\"http://www.w3.org/2000/svg\" xmlns:xlink=\"http://www.w3.org/1999/xlink\">\n",
       "<g id=\"graph0\" class=\"graph\" transform=\"scale(1 1) rotate(0) translate(4 532)\">\n",
       "<polygon fill=\"#ffffff\" stroke=\"transparent\" points=\"-4,4 -4,-532 667,-532 667,4 -4,4\"/>\n",
       "<!-- 0 -->\n",
       "<g id=\"node1\" class=\"node\">\n",
       "<title>0</title>\n",
       "<ellipse fill=\"none\" stroke=\"#000000\" cx=\"259.0536\" cy=\"-230.8127\" rx=\"27\" ry=\"18\"/>\n",
       "<text text-anchor=\"middle\" x=\"259.0536\" y=\"-226.6127\" font-family=\"Times,serif\" font-size=\"14.00\" fill=\"#000000\">0</text>\n",
       "</g>\n",
       "<!-- 3 -->\n",
       "<g id=\"node2\" class=\"node\">\n",
       "<title>3</title>\n",
       "<ellipse fill=\"none\" stroke=\"#000000\" cx=\"419.344\" cy=\"-274.444\" rx=\"27\" ry=\"18\"/>\n",
       "<text text-anchor=\"middle\" x=\"419.344\" y=\"-270.244\" font-family=\"Times,serif\" font-size=\"14.00\" fill=\"#000000\">3</text>\n",
       "</g>\n",
       "<!-- 0&#45;&#45;3 -->\n",
       "<g id=\"edge1\" class=\"edge\">\n",
       "<title>0&#45;&#45;3</title>\n",
       "<path fill=\"none\" stroke=\"#000000\" d=\"M284.0989,-237.6301C314.124,-245.8029 364.1463,-259.4191 394.2105,-267.6026\"/>\n",
       "</g>\n",
       "<!-- 4 -->\n",
       "<g id=\"node3\" class=\"node\">\n",
       "<title>4</title>\n",
       "<ellipse fill=\"none\" stroke=\"#000000\" cx=\"415.489\" cy=\"-186.2345\" rx=\"27\" ry=\"18\"/>\n",
       "<text text-anchor=\"middle\" x=\"415.489\" y=\"-182.0345\" font-family=\"Times,serif\" font-size=\"14.00\" fill=\"#000000\">4</text>\n",
       "</g>\n",
       "<!-- 0&#45;&#45;4 -->\n",
       "<g id=\"edge2\" class=\"edge\">\n",
       "<title>0&#45;&#45;4</title>\n",
       "<path fill=\"none\" stroke=\"#000000\" d=\"M284.1876,-223.6504C313.3802,-215.3317 361.2514,-201.6902 390.4173,-193.379\"/>\n",
       "</g>\n",
       "<!-- 5 -->\n",
       "<g id=\"node4\" class=\"node\">\n",
       "<title>5</title>\n",
       "<ellipse fill=\"none\" stroke=\"#000000\" cx=\"355.6399\" cy=\"-325.4538\" rx=\"27\" ry=\"18\"/>\n",
       "<text text-anchor=\"middle\" x=\"355.6399\" y=\"-321.2538\" font-family=\"Times,serif\" font-size=\"14.00\" fill=\"#000000\">5</text>\n",
       "</g>\n",
       "<!-- 0&#45;&#45;5 -->\n",
       "<g id=\"edge3\" class=\"edge\">\n",
       "<title>0&#45;&#45;5</title>\n",
       "<path fill=\"none\" stroke=\"#000000\" d=\"M274.5718,-246.0184C292.5959,-263.6795 322.1525,-292.6408 340.1601,-310.2858\"/>\n",
       "</g>\n",
       "<!-- 7 -->\n",
       "<g id=\"node5\" class=\"node\">\n",
       "<title>7</title>\n",
       "<ellipse fill=\"none\" stroke=\"#000000\" cx=\"280.5399\" cy=\"-394.291\" rx=\"27\" ry=\"18\"/>\n",
       "<text text-anchor=\"middle\" x=\"280.5399\" y=\"-390.091\" font-family=\"Times,serif\" font-size=\"14.00\" fill=\"#000000\">7</text>\n",
       "</g>\n",
       "<!-- 0&#45;&#45;7 -->\n",
       "<g id=\"edge4\" class=\"edge\">\n",
       "<title>0&#45;&#45;7</title>\n",
       "<path fill=\"none\" stroke=\"#000000\" d=\"M261.4351,-248.9323C265.5652,-280.3562 274.0102,-344.6099 278.1477,-376.0902\"/>\n",
       "</g>\n",
       "<!-- 14 -->\n",
       "<g id=\"node6\" class=\"node\">\n",
       "<title>14</title>\n",
       "<ellipse fill=\"none\" stroke=\"#000000\" cx=\"356.7117\" cy=\"-244.9344\" rx=\"27\" ry=\"18\"/>\n",
       "<text text-anchor=\"middle\" x=\"356.7117\" y=\"-240.7344\" font-family=\"Times,serif\" font-size=\"14.00\" fill=\"#000000\">14</text>\n",
       "</g>\n",
       "<!-- 0&#45;&#45;14 -->\n",
       "<g id=\"edge5\" class=\"edge\">\n",
       "<title>0&#45;&#45;14</title>\n",
       "<path fill=\"none\" stroke=\"#000000\" d=\"M285.4813,-234.6342C299.3773,-236.6436 316.3637,-239.0999 330.2628,-241.1098\"/>\n",
       "</g>\n",
       "<!-- 15 -->\n",
       "<g id=\"node7\" class=\"node\">\n",
       "<title>15</title>\n",
       "<ellipse fill=\"none\" stroke=\"#000000\" cx=\"143.9913\" cy=\"-303.9902\" rx=\"27\" ry=\"18\"/>\n",
       "<text text-anchor=\"middle\" x=\"143.9913\" y=\"-299.7902\" font-family=\"Times,serif\" font-size=\"14.00\" fill=\"#000000\">15</text>\n",
       "</g>\n",
       "<!-- 0&#45;&#45;15 -->\n",
       "<g id=\"edge6\" class=\"edge\">\n",
       "<title>0&#45;&#45;15</title>\n",
       "<path fill=\"none\" stroke=\"#000000\" d=\"M239.2737,-243.3923C218.1984,-256.7958 185.0219,-277.8955 163.8981,-291.3298\"/>\n",
       "</g>\n",
       "<!-- 16 -->\n",
       "<g id=\"node8\" class=\"node\">\n",
       "<title>16</title>\n",
       "<ellipse fill=\"none\" stroke=\"#000000\" cx=\"319.3536\" cy=\"-109.1002\" rx=\"27\" ry=\"18\"/>\n",
       "<text text-anchor=\"middle\" x=\"319.3536\" y=\"-104.9002\" font-family=\"Times,serif\" font-size=\"14.00\" fill=\"#000000\">16</text>\n",
       "</g>\n",
       "<!-- 0&#45;&#45;16 -->\n",
       "<g id=\"edge7\" class=\"edge\">\n",
       "<title>0&#45;&#45;16</title>\n",
       "<path fill=\"none\" stroke=\"#000000\" d=\"M267.5652,-213.6324C279.0576,-190.4356 299.4152,-149.3448 310.8852,-126.1931\"/>\n",
       "</g>\n",
       "<!-- 18 -->\n",
       "<g id=\"node9\" class=\"node\">\n",
       "<title>18</title>\n",
       "<ellipse fill=\"none\" stroke=\"#000000\" cx=\"142.2138\" cy=\"-150.8802\" rx=\"27\" ry=\"18\"/>\n",
       "<text text-anchor=\"middle\" x=\"142.2138\" y=\"-146.6802\" font-family=\"Times,serif\" font-size=\"14.00\" fill=\"#000000\">18</text>\n",
       "</g>\n",
       "<!-- 0&#45;&#45;18 -->\n",
       "<g id=\"edge8\" class=\"edge\">\n",
       "<title>0&#45;&#45;18</title>\n",
       "<path fill=\"none\" stroke=\"#000000\" d=\"M240.0212,-217.7922C218.2941,-202.9283 182.9617,-178.7567 161.238,-163.895\"/>\n",
       "</g>\n",
       "<!-- 20 -->\n",
       "<g id=\"node10\" class=\"node\">\n",
       "<title>20</title>\n",
       "<ellipse fill=\"none\" stroke=\"#000000\" cx=\"118.8958\" cy=\"-203.0723\" rx=\"27\" ry=\"18\"/>\n",
       "<text text-anchor=\"middle\" x=\"118.8958\" y=\"-198.8723\" font-family=\"Times,serif\" font-size=\"14.00\" fill=\"#000000\">20</text>\n",
       "</g>\n",
       "<!-- 0&#45;&#45;20 -->\n",
       "<g id=\"edge9\" class=\"edge\">\n",
       "<title>0&#45;&#45;20</title>\n",
       "<path fill=\"none\" stroke=\"#000000\" d=\"M233.0194,-225.6599C207.8449,-220.6773 169.9178,-213.1707 144.7905,-208.1974\"/>\n",
       "</g>\n",
       "<!-- 21 -->\n",
       "<g id=\"node11\" class=\"node\">\n",
       "<title>21</title>\n",
       "<ellipse fill=\"none\" stroke=\"#000000\" cx=\"171.8183\" cy=\"-102.5638\" rx=\"27\" ry=\"18\"/>\n",
       "<text text-anchor=\"middle\" x=\"171.8183\" y=\"-98.3638\" font-family=\"Times,serif\" font-size=\"14.00\" fill=\"#000000\">21</text>\n",
       "</g>\n",
       "<!-- 0&#45;&#45;21 -->\n",
       "<g id=\"edge10\" class=\"edge\">\n",
       "<title>0&#45;&#45;21</title>\n",
       "<path fill=\"none\" stroke=\"#000000\" d=\"M247.8277,-214.3089C231.0774,-189.6835 199.7263,-143.5927 183.0011,-119.0042\"/>\n",
       "</g>\n",
       "<!-- 3&#45;&#45;4 -->\n",
       "<g id=\"edge11\" class=\"edge\">\n",
       "<title>3&#45;&#45;4</title>\n",
       "<path fill=\"none\" stroke=\"#000000\" d=\"M418.5452,-256.1669C417.8836,-241.028 416.948,-219.6206 416.2867,-204.4882\"/>\n",
       "</g>\n",
       "<!-- 3&#45;&#45;5 -->\n",
       "<g id=\"edge12\" class=\"edge\">\n",
       "<title>3&#45;&#45;5</title>\n",
       "<path fill=\"none\" stroke=\"#000000\" d=\"M401.9365,-288.3826C392.9478,-295.5802 382.0119,-304.3369 373.0263,-311.532\"/>\n",
       "</g>\n",
       "<!-- 3&#45;&#45;14 -->\n",
       "<g id=\"edge13\" class=\"edge\">\n",
       "<title>3&#45;&#45;14</title>\n",
       "<path fill=\"none\" stroke=\"#000000\" d=\"M397.0858,-263.9569C391.1788,-261.1738 384.8013,-258.169 378.8981,-255.3877\"/>\n",
       "</g>\n",
       "<!-- 6 -->\n",
       "<g id=\"node12\" class=\"node\">\n",
       "<title>6</title>\n",
       "<ellipse fill=\"none\" stroke=\"#000000\" cx=\"397.1413\" cy=\"-412.6103\" rx=\"27\" ry=\"18\"/>\n",
       "<text text-anchor=\"middle\" x=\"397.1413\" y=\"-408.4103\" font-family=\"Times,serif\" font-size=\"14.00\" fill=\"#000000\">6</text>\n",
       "</g>\n",
       "<!-- 3&#45;&#45;6 -->\n",
       "<g id=\"edge14\" class=\"edge\">\n",
       "<title>3&#45;&#45;6</title>\n",
       "<path fill=\"none\" stroke=\"#000000\" d=\"M416.4413,-292.5068C412.1862,-318.9863 404.3001,-368.061 400.0446,-394.543\"/>\n",
       "</g>\n",
       "<!-- 11 -->\n",
       "<g id=\"node13\" class=\"node\">\n",
       "<title>11</title>\n",
       "<ellipse fill=\"none\" stroke=\"#000000\" cx=\"573.7023\" cy=\"-334.3884\" rx=\"27\" ry=\"18\"/>\n",
       "<text text-anchor=\"middle\" x=\"573.7023\" y=\"-330.1884\" font-family=\"Times,serif\" font-size=\"14.00\" fill=\"#000000\">11</text>\n",
       "</g>\n",
       "<!-- 3&#45;&#45;11 -->\n",
       "<g id=\"edge15\" class=\"edge\">\n",
       "<title>3&#45;&#45;11</title>\n",
       "<path fill=\"none\" stroke=\"#000000\" d=\"M442.7877,-283.5482C471.8844,-294.8478 521.2098,-314.0031 550.2914,-325.2968\"/>\n",
       "</g>\n",
       "<!-- 4&#45;&#45;5 -->\n",
       "<g id=\"edge16\" class=\"edge\">\n",
       "<title>4&#45;&#45;5</title>\n",
       "<path fill=\"none\" stroke=\"#000000\" d=\"M408.0301,-203.5853C396.5614,-230.2634 374.7179,-281.0751 363.1928,-307.8844\"/>\n",
       "</g>\n",
       "<!-- 4&#45;&#45;14 -->\n",
       "<g id=\"edge17\" class=\"edge\">\n",
       "<title>4&#45;&#45;14</title>\n",
       "<path fill=\"none\" stroke=\"#000000\" d=\"M400.3524,-201.3512C391.6447,-210.0474 380.7345,-220.9432 372.0013,-229.6649\"/>\n",
       "</g>\n",
       "<!-- 4&#45;&#45;16 -->\n",
       "<g id=\"edge18\" class=\"edge\">\n",
       "<title>4&#45;&#45;16</title>\n",
       "<path fill=\"none\" stroke=\"#000000\" d=\"M397.8563,-172.0869C380.5103,-158.1694 354.1817,-137.0446 336.8745,-123.1581\"/>\n",
       "</g>\n",
       "<!-- 1 -->\n",
       "<g id=\"node14\" class=\"node\">\n",
       "<title>1</title>\n",
       "<ellipse fill=\"none\" stroke=\"#000000\" cx=\"475.2648\" cy=\"-62.7746\" rx=\"27\" ry=\"18\"/>\n",
       "<text text-anchor=\"middle\" x=\"475.2648\" y=\"-58.5746\" font-family=\"Times,serif\" font-size=\"14.00\" fill=\"#000000\">1</text>\n",
       "</g>\n",
       "<!-- 4&#45;&#45;1 -->\n",
       "<g id=\"edge19\" class=\"edge\">\n",
       "<title>4&#45;&#45;1</title>\n",
       "<path fill=\"none\" stroke=\"#000000\" d=\"M423.8006,-169.068C435.1567,-145.6131 455.4115,-103.7791 466.8311,-80.1933\"/>\n",
       "</g>\n",
       "<!-- 2 -->\n",
       "<g id=\"node15\" class=\"node\">\n",
       "<title>2</title>\n",
       "<ellipse fill=\"none\" stroke=\"#000000\" cx=\"498.1501\" cy=\"-290.2471\" rx=\"27\" ry=\"18\"/>\n",
       "<text text-anchor=\"middle\" x=\"498.1501\" y=\"-286.0471\" font-family=\"Times,serif\" font-size=\"14.00\" fill=\"#000000\">2</text>\n",
       "</g>\n",
       "<!-- 4&#45;&#45;2 -->\n",
       "<g id=\"edge20\" class=\"edge\">\n",
       "<title>4&#45;&#45;2</title>\n",
       "<path fill=\"none\" stroke=\"#000000\" d=\"M428.4048,-202.4865C443.934,-222.0269 469.8363,-254.6198 485.325,-274.1092\"/>\n",
       "</g>\n",
       "<!-- 12 -->\n",
       "<g id=\"node16\" class=\"node\">\n",
       "<title>12</title>\n",
       "<ellipse fill=\"none\" stroke=\"#000000\" cx=\"538.4081\" cy=\"-235.3805\" rx=\"27\" ry=\"18\"/>\n",
       "<text text-anchor=\"middle\" x=\"538.4081\" y=\"-231.1805\" font-family=\"Times,serif\" font-size=\"14.00\" fill=\"#000000\">12</text>\n",
       "</g>\n",
       "<!-- 4&#45;&#45;12 -->\n",
       "<g id=\"edge21\" class=\"edge\">\n",
       "<title>4&#45;&#45;12</title>\n",
       "<path fill=\"none\" stroke=\"#000000\" d=\"M438.8985,-195.5942C460.7704,-204.3391 493.242,-217.322 515.0858,-226.0557\"/>\n",
       "</g>\n",
       "<!-- 5&#45;&#45;6 -->\n",
       "<g id=\"edge22\" class=\"edge\">\n",
       "<title>5&#45;&#45;6</title>\n",
       "<path fill=\"none\" stroke=\"#000000\" d=\"M363.8392,-342.6731C371.115,-357.9528 381.6884,-380.1578 388.959,-395.4267\"/>\n",
       "</g>\n",
       "<!-- 13 -->\n",
       "<g id=\"node17\" class=\"node\">\n",
       "<title>13</title>\n",
       "<ellipse fill=\"none\" stroke=\"#000000\" cx=\"508.567\" cy=\"-376.0383\" rx=\"27\" ry=\"18\"/>\n",
       "<text text-anchor=\"middle\" x=\"508.567\" y=\"-371.8383\" font-family=\"Times,serif\" font-size=\"14.00\" fill=\"#000000\">13</text>\n",
       "</g>\n",
       "<!-- 5&#45;&#45;13 -->\n",
       "<g id=\"edge23\" class=\"edge\">\n",
       "<title>5&#45;&#45;13</title>\n",
       "<path fill=\"none\" stroke=\"#000000\" d=\"M379.8716,-333.4691C408.4227,-342.913 455.5845,-358.513 484.1959,-367.9769\"/>\n",
       "</g>\n",
       "<!-- 7&#45;&#45;6 -->\n",
       "<g id=\"edge24\" class=\"edge\">\n",
       "<title>7&#45;&#45;6</title>\n",
       "<path fill=\"none\" stroke=\"#000000\" d=\"M306.9985,-398.4479C326.0811,-401.446 351.7289,-405.4755 370.7873,-408.4698\"/>\n",
       "</g>\n",
       "<!-- 8 -->\n",
       "<g id=\"node18\" class=\"node\">\n",
       "<title>8</title>\n",
       "<ellipse fill=\"none\" stroke=\"#000000\" cx=\"365.4569\" cy=\"-509.7457\" rx=\"27\" ry=\"18\"/>\n",
       "<text text-anchor=\"middle\" x=\"365.4569\" y=\"-505.5457\" font-family=\"Times,serif\" font-size=\"14.00\" fill=\"#000000\">8</text>\n",
       "</g>\n",
       "<!-- 7&#45;&#45;8 -->\n",
       "<g id=\"edge25\" class=\"edge\">\n",
       "<title>7&#45;&#45;8</title>\n",
       "<path fill=\"none\" stroke=\"#000000\" d=\"M292.7064,-410.8329C308.8491,-432.7808 337.1816,-471.3021 353.313,-493.2345\"/>\n",
       "</g>\n",
       "<!-- 17 -->\n",
       "<g id=\"node19\" class=\"node\">\n",
       "<title>17</title>\n",
       "<ellipse fill=\"none\" stroke=\"#000000\" cx=\"285.1886\" cy=\"-495.6223\" rx=\"27\" ry=\"18\"/>\n",
       "<text text-anchor=\"middle\" x=\"285.1886\" y=\"-491.4223\" font-family=\"Times,serif\" font-size=\"14.00\" fill=\"#000000\">17</text>\n",
       "</g>\n",
       "<!-- 7&#45;&#45;17 -->\n",
       "<g id=\"edge26\" class=\"edge\">\n",
       "<title>7&#45;&#45;17</title>\n",
       "<path fill=\"none\" stroke=\"#000000\" d=\"M281.371,-412.407C282.2119,-430.7374 283.5051,-458.9252 284.349,-477.3215\"/>\n",
       "</g>\n",
       "<!-- 14&#45;&#45;2 -->\n",
       "<g id=\"edge27\" class=\"edge\">\n",
       "<title>14&#45;&#45;2</title>\n",
       "<path fill=\"none\" stroke=\"#000000\" d=\"M381.3484,-252.8272C407.3085,-261.1441 447.9427,-274.1621 473.7958,-282.4446\"/>\n",
       "</g>\n",
       "<!-- 18&#45;&#45;21 -->\n",
       "<g id=\"edge28\" class=\"edge\">\n",
       "<title>18&#45;&#45;21</title>\n",
       "<path fill=\"none\" stroke=\"#000000\" d=\"M152.568,-133.9814C155.4359,-129.3008 158.5494,-124.2194 161.4199,-119.5346\"/>\n",
       "</g>\n",
       "<!-- 19 -->\n",
       "<g id=\"node20\" class=\"node\">\n",
       "<title>19</title>\n",
       "<ellipse fill=\"none\" stroke=\"#000000\" cx=\"26.6186\" cy=\"-120.9359\" rx=\"27\" ry=\"18\"/>\n",
       "<text text-anchor=\"middle\" x=\"26.6186\" y=\"-116.7359\" font-family=\"Times,serif\" font-size=\"14.00\" fill=\"#000000\">19</text>\n",
       "</g>\n",
       "<!-- 18&#45;&#45;19 -->\n",
       "<g id=\"edge29\" class=\"edge\">\n",
       "<title>18&#45;&#45;19</title>\n",
       "<path fill=\"none\" stroke=\"#000000\" d=\"M116.8459,-144.3088C97.5726,-139.3162 71.186,-132.4809 51.9273,-127.492\"/>\n",
       "</g>\n",
       "<!-- 20&#45;&#45;21 -->\n",
       "<g id=\"edge30\" class=\"edge\">\n",
       "<title>20&#45;&#45;21</title>\n",
       "<path fill=\"none\" stroke=\"#000000\" d=\"M127.8734,-186.0224C137.6052,-167.5401 153.0477,-138.2122 162.7967,-119.6973\"/>\n",
       "</g>\n",
       "<!-- 20&#45;&#45;19 -->\n",
       "<g id=\"edge31\" class=\"edge\">\n",
       "<title>20&#45;&#45;19</title>\n",
       "<path fill=\"none\" stroke=\"#000000\" d=\"M102.3985,-188.388C85.6023,-173.4376 59.7176,-150.3975 42.9731,-135.4931\"/>\n",
       "</g>\n",
       "<!-- 22 -->\n",
       "<g id=\"node21\" class=\"node\">\n",
       "<title>22</title>\n",
       "<ellipse fill=\"none\" stroke=\"#000000\" cx=\"67.99\" cy=\"-17.7409\" rx=\"27\" ry=\"18\"/>\n",
       "<text text-anchor=\"middle\" x=\"67.99\" y=\"-13.5409\" font-family=\"Times,serif\" font-size=\"14.00\" fill=\"#000000\">22</text>\n",
       "</g>\n",
       "<!-- 21&#45;&#45;22 -->\n",
       "<g id=\"edge32\" class=\"edge\">\n",
       "<title>21&#45;&#45;22</title>\n",
       "<path fill=\"none\" stroke=\"#000000\" d=\"M154.6732,-88.557C135.4354,-72.8407 104.4087,-47.4933 85.1606,-31.7685\"/>\n",
       "</g>\n",
       "<!-- 6&#45;&#45;8 -->\n",
       "<g id=\"edge35\" class=\"edge\">\n",
       "<title>6&#45;&#45;8</title>\n",
       "<path fill=\"none\" stroke=\"#000000\" d=\"M391.3299,-430.4264C385.613,-447.9528 376.9356,-474.5553 371.2315,-492.0425\"/>\n",
       "</g>\n",
       "<!-- 6&#45;&#45;17 -->\n",
       "<g id=\"edge36\" class=\"edge\">\n",
       "<title>6&#45;&#45;17</title>\n",
       "<path fill=\"none\" stroke=\"#000000\" d=\"M378.6546,-426.318C357.7873,-441.7909 324.0559,-466.8025 303.3313,-482.1696\"/>\n",
       "</g>\n",
       "<!-- 11&#45;&#45;12 -->\n",
       "<g id=\"edge37\" class=\"edge\">\n",
       "<title>11&#45;&#45;12</title>\n",
       "<path fill=\"none\" stroke=\"#000000\" d=\"M567.3924,-316.6877C560.9682,-298.6664 551.0678,-270.8937 544.6634,-252.9279\"/>\n",
       "</g>\n",
       "<!-- 11&#45;&#45;13 -->\n",
       "<g id=\"edge38\" class=\"edge\">\n",
       "<title>11&#45;&#45;13</title>\n",
       "<path fill=\"none\" stroke=\"#000000\" d=\"M554.1596,-346.8847C545.9156,-352.1562 536.3385,-358.2802 528.096,-363.5508\"/>\n",
       "</g>\n",
       "<!-- 10 -->\n",
       "<g id=\"node23\" class=\"node\">\n",
       "<title>10</title>\n",
       "<ellipse fill=\"none\" stroke=\"#000000\" cx=\"624.8953\" cy=\"-435.3509\" rx=\"27\" ry=\"18\"/>\n",
       "<text text-anchor=\"middle\" x=\"624.8953\" y=\"-431.1509\" font-family=\"Times,serif\" font-size=\"14.00\" fill=\"#000000\">10</text>\n",
       "</g>\n",
       "<!-- 11&#45;&#45;10 -->\n",
       "<g id=\"edge39\" class=\"edge\">\n",
       "<title>11&#45;&#45;10</title>\n",
       "<path fill=\"none\" stroke=\"#000000\" d=\"M582.3865,-351.5153C591.8003,-370.081 606.7381,-399.5414 616.1685,-418.1399\"/>\n",
       "</g>\n",
       "<!-- 2&#45;&#45;6 -->\n",
       "<g id=\"edge33\" class=\"edge\">\n",
       "<title>2&#45;&#45;6</title>\n",
       "<path fill=\"none\" stroke=\"#000000\" d=\"M484.945,-306.2439C465.5867,-329.6947 429.7098,-373.1564 410.3497,-396.6095\"/>\n",
       "</g>\n",
       "<!-- 9 -->\n",
       "<g id=\"node22\" class=\"node\">\n",
       "<title>9</title>\n",
       "<ellipse fill=\"none\" stroke=\"#000000\" cx=\"636.1889\" cy=\"-255.5035\" rx=\"27\" ry=\"18\"/>\n",
       "<text text-anchor=\"middle\" x=\"636.1889\" y=\"-251.3035\" font-family=\"Times,serif\" font-size=\"14.00\" fill=\"#000000\">9</text>\n",
       "</g>\n",
       "<!-- 2&#45;&#45;9 -->\n",
       "<g id=\"edge34\" class=\"edge\">\n",
       "<title>2&#45;&#45;9</title>\n",
       "<path fill=\"none\" stroke=\"#000000\" d=\"M523.4686,-283.8745C548.2195,-277.6449 585.7079,-268.2093 610.5635,-261.9532\"/>\n",
       "</g>\n",
       "<!-- 12&#45;&#45;13 -->\n",
       "<g id=\"edge40\" class=\"edge\">\n",
       "<title>12&#45;&#45;13</title>\n",
       "<path fill=\"none\" stroke=\"#000000\" d=\"M534.568,-253.4811C528.8381,-280.4892 518.1137,-331.0395 512.3924,-358.0072\"/>\n",
       "</g>\n",
       "<!-- 13&#45;&#45;10 -->\n",
       "<g id=\"edge41\" class=\"edge\">\n",
       "<title>13&#45;&#45;10</title>\n",
       "<path fill=\"none\" stroke=\"#000000\" d=\"M530.1748,-387.0555C551.0692,-397.709 582.548,-413.7591 603.4031,-424.3926\"/>\n",
       "</g>\n",
       "<!-- 8&#45;&#45;17 -->\n",
       "<g id=\"edge42\" class=\"edge\">\n",
       "<title>8&#45;&#45;17</title>\n",
       "<path fill=\"none\" stroke=\"#000000\" d=\"M339.1741,-505.1212C330.304,-503.5604 320.4051,-501.8187 311.5305,-500.2572\"/>\n",
       "</g>\n",
       "<!-- 19&#45;&#45;22 -->\n",
       "<g id=\"edge43\" class=\"edge\">\n",
       "<title>19&#45;&#45;22</title>\n",
       "<path fill=\"none\" stroke=\"#000000\" d=\"M33.6367,-103.4303C41.2444,-84.454 53.3163,-54.3422 60.9374,-35.3324\"/>\n",
       "</g>\n",
       "</g>\n",
       "</svg>\n"
      ]
     },
     "metadata": {},
     "output_type": "display_data"
    },
    {
     "data": {
      "image/png": "[encoded data removed]",
      "text/plain": [
       "<matplotlib.figure.Figure at 0x10b9212b0>"
      ]
     },
     "metadata": {},
     "output_type": "display_data"
    }
   ],
   "source": [
    "# sklearnだとデフォルトでは対数尤度しか計算してくれないので自分で情報量基準を使って計算してみる。\n",
    "\n",
    "# 精度行列で絶対値がthetaより小さいところが何個あるか数える関数\n",
    "def count_zeros(X, theta=0.10):\n",
    "    count = 0\n",
    "    for i in range(len(X)):\n",
    "        for j in range(len(X[i])):\n",
    "            if X[i][j] < theta:\n",
    "                count += 1\n",
    "    return count\n",
    "\n",
    "from sklearn.covariance import GraphLasso\n",
    "# from sklearn.model_selection import train_test_split\n",
    "# mat_train, mat_test = train_test_split(mat)\n",
    "\n",
    "# 正則化パラメータの値\n",
    "alphas = np.linspace(0.01, 1.0, num=100)\n",
    "aics = []\n",
    "for alpha in alphas:\n",
    "    model = GraphLasso(alpha=alpha)\n",
    "    model.fit(mat)\n",
    "    \n",
    "    # 辺がない個数を数える。thetaはハイパーパラメータ\n",
    "    sparsity = count_zeros(model.precision_, theta=0.10)\n",
    "    \n",
    "    # aicは以下で計算する。小さいほど嬉しい。（情報量として見るべき）\n",
    "    aic = - model.score(mat) - sparsity\n",
    "    aics.append(aic)\n",
    "\n",
    "aics = np.array(aics)\n",
    "best_alpha = alphas[aics.argmin()]\n",
    "print(\"最も良かった正則化係数は: \", best_alpha)\n",
    "print(\"このときグラフは次のようになる\")\n",
    "model = GraphLasso(alpha = best_alpha)\n",
    "model.fit(mat)\n",
    "\n",
    "import networkx as nx\n",
    "G = nx.Graph()\n",
    "for i in range(len(pre)):\n",
    "    for j in range(len(pre)):\n",
    "        if i == j:\n",
    "            continue\n",
    "        if abs(pre[i][j]) > 0.10:\n",
    "            G.add_edge(i, j)\n",
    "from IPython.display import display_svg\n",
    "svg = nx.nx_agraph.to_agraph(G).draw(prog='fdp', format='svg')\n",
    "display_svg(svg, raw=True)\n",
    "\n",
    "plt.plot(alphas, aics)\n",
    "plt.show()"
   ]
  },
  {
   "cell_type": "code",
   "execution_count": 88,
   "metadata": {
    "collapsed": true
   },
   "outputs": [],
   "source": [
    "nx.draw(G)\n",
    "plt.savefig(\"path_to_fig.png\")"
   ]
  },
  {
   "cell_type": "code",
   "execution_count": 112,
   "metadata": {
    "collapsed": true
   },
   "outputs": [],
   "source": [
    "import pygraphviz as pgv\n",
    "a = nx.nx_agraph.to_agraph(G)\n",
    "a.draw('file.pdf', prog=\"neato\")"
   ]
  },
  {
   "cell_type": "code",
   "execution_count": 105,
   "metadata": {
    "collapsed": true
   },
   "outputs": [],
   "source": [
    "a.write(\"graph.dot\")"
   ]
  },
  {
   "cell_type": "code",
   "execution_count": 103,
   "metadata": {},
   "outputs": [
    {
     "data": {
      "text/plain": [
       "networkx.classes.graph.Graph"
      ]
     },
     "execution_count": 103,
     "metadata": {},
     "output_type": "execute_result"
    }
   ],
   "source": [
    "type(G)"
   ]
  },
  {
   "cell_type": "code",
   "execution_count": 92,
   "metadata": {},
   "outputs": [
    {
     "data": {
      "text/plain": [
       "'2.2'"
      ]
     },
     "execution_count": 92,
     "metadata": {},
     "output_type": "execute_result"
    }
   ],
   "source": [
    "nx.__version__"
   ]
  },
  {
   "cell_type": "code",
   "execution_count": 98,
   "metadata": {},
   "outputs": [
    {
     "data": {
      "text/plain": [
       "NodeView((0, 3, 4, 5, 7, 14, 15, 16, 18, 20, 21, 1, 2, 6, 9, 11, 12, 13, 8, 17, 10, 19, 22))"
      ]
     },
     "execution_count": 98,
     "metadata": {},
     "output_type": "execute_result"
    }
   ],
   "source": [
    "G.nodes"
   ]
  },
  {
   "cell_type": "code",
   "execution_count": 61,
   "metadata": {
    "scrolled": true
   },
   "outputs": [
    {
     "data": {
      "text/plain": [
       "[-455.59646609949147,\n",
       " -457.57120260604006,\n",
       " -457.54078931295436,\n",
       " -457.5067669454316,\n",
       " -457.47157084549235,\n",
       " -457.4334196905562,\n",
       " -459.39460462478365,\n",
       " -459.3536532291047,\n",
       " -459.30923620645393,\n",
       " -461.26101949538406,\n",
       " -461.21129462005405,\n",
       " -461.16048434284727,\n",
       " -463.1095200425108,\n",
       " -467.05607010124737,\n",
       " -467.0008010240842,\n",
       " -468.94346882811783,\n",
       " -468.8841022485738,\n",
       " -468.8234732838728,\n",
       " -470.759948309873,\n",
       " -470.6954931394487,\n",
       " -472.62987264691066,\n",
       " -472.5649573255084,\n",
       " -472.5006114378666,\n",
       " -472.4410191830055,\n",
       " -472.3887342878714,\n",
       " -474.3348268978435,\n",
       " -474.28057303790223,\n",
       " -474.22816971941364,\n",
       " -474.1768245134598,\n",
       " -474.12828828795637,\n",
       " -474.08059217088424,\n",
       " -474.0349979988366,\n",
       " -473.994522175853,\n",
       " -473.9538502441001,\n",
       " -473.9121822101778,\n",
       " -473.8705982788435,\n",
       " -473.83349345886865,\n",
       " -473.8021059714234,\n",
       " -473.7716440458599,\n",
       " -473.7436942423908,\n",
       " -473.71586236526036,\n",
       " -473.68843607044903,\n",
       " -473.66354619657574,\n",
       " -473.6393977047602,\n",
       " -473.61775451543787,\n",
       " -473.5955725362187,\n",
       " -473.572824308044,\n",
       " -473.5494802485835,\n",
       " -473.5295906890147,\n",
       " -473.50939510725664,\n",
       " -473.48887395372157,\n",
       " -473.46801746382215,\n",
       " -473.4481696524493,\n",
       " -473.4373122816527,\n",
       " -473.4262939723542,\n",
       " -473.4151093622844,\n",
       " -473.4037527899693,\n",
       " -473.39221828541304,\n",
       " -473.38084034877977,\n",
       " -473.37488149065064,\n",
       " -473.3688286894203,\n",
       " -473.36447805855477,\n",
       " -473.36447805855477,\n",
       " -473.36447805855477,\n",
       " -473.36447805855477,\n",
       " -473.36447805855477,\n",
       " -473.36447805855477,\n",
       " -473.36447805855477,\n",
       " -473.36447805855477,\n",
       " -473.36447805855477,\n",
       " -473.36447805855477,\n",
       " -473.36447805855477,\n",
       " -473.36447805855477,\n",
       " -473.36447805855477,\n",
       " -473.36447805855477,\n",
       " -473.36447805855477,\n",
       " -473.36447805855477,\n",
       " -473.36447805855477,\n",
       " -473.36447805855477,\n",
       " -473.36447805855477,\n",
       " -473.36447805855477,\n",
       " -473.36447805855477,\n",
       " -473.36447805855477,\n",
       " -473.36447805855477,\n",
       " -473.36447805855477,\n",
       " -473.36447805855477,\n",
       " -473.36447805855477,\n",
       " -473.36447805855477,\n",
       " -473.36447805855477,\n",
       " -473.36447805855477,\n",
       " -473.36447805855477,\n",
       " -473.36447805855477,\n",
       " -473.36447805855477,\n",
       " -473.36447805855477,\n",
       " -473.36447805855477,\n",
       " -473.36447805855477,\n",
       " -473.36447805855477,\n",
       " -473.36447805855477,\n",
       " -473.36447805855477,\n",
       " -473.36447805855477]"
      ]
     },
     "execution_count": 61,
     "metadata": {},
     "output_type": "execute_result"
    }
   ],
   "source": [
    "aics"
   ]
  },
  {
   "cell_type": "code",
   "execution_count": 28,
   "metadata": {},
   "outputs": [
    {
     "data": {
      "image/png": "[encoded data removed]",
      "text/plain": [
       "<matplotlib.figure.Figure at 0x10ae35240>"
      ]
     },
     "metadata": {},
     "output_type": "display_data"
    }
   ],
   "source": [
    "# scoreはlog likelihoodになっている. AICとかだとどうなる？\n",
    "plt.plot(model_cv.cv_alphas_, np.mean(model_cv.grid_scores_, axis=1), 'o-')\n",
    "plt.axvline(model_cv.alpha_, color='.5')\n",
    "plt.show()"
   ]
  },
  {
   "cell_type": "code",
   "execution_count": 35,
   "metadata": {},
   "outputs": [
    {
     "data": {
      "text/plain": [
       "{'alphas': 4,\n",
       " 'assume_centered': False,\n",
       " 'cv': None,\n",
       " 'enet_tol': 0.0001,\n",
       " 'max_iter': 100,\n",
       " 'mode': 'cd',\n",
       " 'n_jobs': 1,\n",
       " 'n_refinements': 4,\n",
       " 'tol': 0.0001,\n",
       " 'verbose': False}"
      ]
     },
     "execution_count": 35,
     "metadata": {},
     "output_type": "execute_result"
    }
   ],
   "source": [
    "model_cv.get_params()"
   ]
  },
  {
   "cell_type": "code",
   "execution_count": 36,
   "metadata": {},
   "outputs": [
    {
     "ename": "NameError",
     "evalue": "name 'model' is not defined",
     "output_type": "error",
     "traceback": [
      "\u001b[0;31m---------------------------------------------------------------------------\u001b[0m",
      "\u001b[0;31mNameError\u001b[0m                                 Traceback (most recent call last)",
      "\u001b[0;32m<ipython-input-36-458d5f1afc81>\u001b[0m in \u001b[0;36m<module>\u001b[0;34m()\u001b[0m\n\u001b[0;32m----> 1\u001b[0;31m \u001b[0mmodel\u001b[0m\u001b[0;34m\u001b[0m\u001b[0m\n\u001b[0m",
      "\u001b[0;31mNameError\u001b[0m: name 'model' is not defined"
     ]
    }
   ],
   "source": [
    "model"
   ]
  },
  {
   "cell_type": "code",
   "execution_count": 71,
   "metadata": {
    "collapsed": true
   },
   "outputs": [],
   "source": [
    "a = np.linspace(0, 5, 6)"
   ]
  },
  {
   "cell_type": "code",
   "execution_count": 72,
   "metadata": {},
   "outputs": [
    {
     "data": {
      "text/plain": [
       "array([0., 1., 2., 3., 4., 5.])"
      ]
     },
     "execution_count": 72,
     "metadata": {},
     "output_type": "execute_result"
    }
   ],
   "source": [
    "a"
   ]
  },
  {
   "cell_type": "code",
   "execution_count": 74,
   "metadata": {},
   "outputs": [
    {
     "data": {
      "text/plain": [
       "5.0"
      ]
     },
     "execution_count": 74,
     "metadata": {},
     "output_type": "execute_result"
    }
   ],
   "source": [
    "a.max()"
   ]
  },
  {
   "cell_type": "code",
   "execution_count": 75,
   "metadata": {},
   "outputs": [
    {
     "data": {
      "text/plain": [
       "5"
      ]
     },
     "execution_count": 75,
     "metadata": {},
     "output_type": "execute_result"
    }
   ],
   "source": [
    "a.argmax()"
   ]
  },
  {
   "cell_type": "code",
   "execution_count": null,
   "metadata": {
    "collapsed": true
   },
   "outputs": [],
   "source": []
  }
 ],
 "metadata": {
  "kernelspec": {
   "display_name": "Python 3",
   "language": "python",
   "name": "python3"
  },
  "language_info": {
   "codemirror_mode": {
    "name": "ipython",
    "version": 3
   },
   "file_extension": ".py",
   "mimetype": "text/x-python",
   "name": "python",
   "nbconvert_exporter": "python",
   "pygments_lexer": "ipython3",
   "version": "3.6.2"
  }
 },
 "nbformat": 4,
 "nbformat_minor": 2
}
