{
 "cells": [
  {
   "cell_type": "markdown",
   "metadata": {},
   "source": [
    "## SVMを(大体)一からやってみよう"
   ]
  },
  {
   "cell_type": "markdown",
   "metadata": {},
   "source": [
    "## データセット"
   ]
  },
  {
   "cell_type": "markdown",
   "metadata": {},
   "source": [
    "まずはデータセットを作って行くことにする. 状況設定としては値 ( value ) $x \\in \\mathbb{R}^n$\n",
    "一つ一つにラベル ( label ) $y \\in \\{-1, 1\\}$がついてデータ一つ ( datum )(x, y)を構成する, ということにする.\n",
    "\n",
    "今回はとりあえず二つの正規分布からデータを作ることにする."
   ]
  },
  {
   "cell_type": "code",
   "execution_count": 10,
   "metadata": {
    "collapsed": true
   },
   "outputs": [],
   "source": [
    "import matplotlib.pyplot as plt\n",
    "import numpy as np\n",
    "from numpy.random import multivariate_normal\n",
    "import random"
   ]
  },
  {
   "cell_type": "code",
   "execution_count": 9,
   "metadata": {
    "collapsed": true
   },
   "outputs": [],
   "source": [
    "class Datum():\n",
    "    \n",
    "    \n",
    "    def __init__(self, value, label):\n",
    "        self.value = value\n",
    "        self.label = label"
   ]
  },
  {
   "cell_type": "code",
   "execution_count": 158,
   "metadata": {},
   "outputs": [],
   "source": [
    "class Data():\n",
    "    \n",
    "    \n",
    "    def __init__(self, data):\n",
    "        self.data = data\n",
    "        self.data_size = len(data)\n",
    "        self.data_dim = 2\n",
    "        self.labels = [-1, 1]\n",
    "        self.label_number = len(self.labels)\n",
    "        self.sorted_data = self.datalabel_sorted()\n",
    "        \n",
    "    def datalabel_sorted(self):\n",
    "        \"\"\"ラベルごとにデータを整理したnparrayを返す\"\"\"\n",
    "        labeled_data_list = []\n",
    "        for label in self.labels:\n",
    "            labeled_data = []\n",
    "            for datum in self.data:\n",
    "                if datum.label == label:\n",
    "                    labeled_data.append(datum.value)\n",
    "            labeled_data_list.append(labeled_data)\n",
    "        labeled_data_list = np.array(labeled_data_list)\n",
    "        return labeled_data_list\n",
    "\n",
    "    def data_plot(self):\n",
    "        \"\"\"二次元データを散布図に描く関数\"\"\"\n",
    "        if self.data_dim != 2:\n",
    "            print(\"プロットできません.\")\n",
    "        else:\n",
    "            strs = []\n",
    "            for j, data in enumerate(self.sorted_data):\n",
    "                mean = data.mean(axis=0)\n",
    "                s = \"ラベル\" + str(self.labels[j]) + \"の標本平均は\" + str(data.mean(axis=0))\n",
    "                strs.append(s)\n",
    "                plt.scatter(data.T[0], data.T[1], s=5, label=str(self.labels[j]))\n",
    "                plt.scatter(mean[0], mean[1], s=100, label=str(self.labels[j]) + \"mean\")\n",
    "            for s in strs:\n",
    "                print(s)\n",
    "            plt.legend()\n",
    "            plt.show()"
   ]
  },
  {
   "cell_type": "code",
   "execution_count": 159,
   "metadata": {
    "collapsed": true
   },
   "outputs": [],
   "source": [
    "def created_normal_data(n=50, m=50, mu_1=[0, 0], sigma_1=[[1, 0], [0, 1]], mu_2=[3, 5], sigma_2=[[2, 1], [1, 4]], r_flag=True):\n",
    "    data = []\n",
    "    X_1 = multivariate_normal(mu_1, sigma_1, n)\n",
    "    for x in X_1:\n",
    "        datum = Datum(x, 1)\n",
    "        data.append(datum)\n",
    "    X_2 = multivariate_normal(mu_2, sigma_2, m)\n",
    "    for x in X_2:\n",
    "        datum = Datum(x, -1)\n",
    "        data.append(datum)\n",
    "    if r_flag == True:\n",
    "        random.shuffle(data)\n",
    "    return data"
   ]
  },
  {
   "cell_type": "code",
   "execution_count": 160,
   "metadata": {
    "collapsed": true
   },
   "outputs": [],
   "source": [
    "d = created_normal_data(100, 100)"
   ]
  },
  {
   "cell_type": "code",
   "execution_count": 161,
   "metadata": {},
   "outputs": [],
   "source": [
    "data = Data(d)"
   ]
  },
  {
   "cell_type": "code",
   "execution_count": 162,
   "metadata": {
    "scrolled": true
   },
   "outputs": [
    {
     "name": "stdout",
     "output_type": "stream",
     "text": [
      "ラベル-1の標本平均は[3.07188284 5.24983602]\n",
      "ラベル1の標本平均は[-0.10329941 -0.02760467]\n"
     ]
    },
    {
     "data": {
      "image/png": "[encoded data removed]",
      "text/plain": [
       "<matplotlib.figure.Figure at 0x114321d30>"
      ]
     },
     "metadata": {},
     "output_type": "display_data"
    }
   ],
   "source": [
    "data.data_plot()"
   ]
  },
  {
   "cell_type": "code",
   "execution_count": 145,
   "metadata": {},
   "outputs": [
    {
     "data": {
      "text/plain": [
       "(2, 100, 2)"
      ]
     },
     "execution_count": 145,
     "metadata": {},
     "output_type": "execute_result"
    }
   ],
   "source": [
    "data.sorted_data.shape  # ラベルごとにするとこんな感じ"
   ]
  }
 ],
 "metadata": {
  "kernelspec": {
   "display_name": "Python 3",
   "language": "python",
   "name": "python3"
  },
  "language_info": {
   "codemirror_mode": {
    "name": "ipython",
    "version": 3
   },
   "file_extension": ".py",
   "mimetype": "text/x-python",
   "name": "python",
   "nbconvert_exporter": "python",
   "pygments_lexer": "ipython3",
   "version": "3.6.2"
  }
 },
 "nbformat": 4,
 "nbformat_minor": 2
}
